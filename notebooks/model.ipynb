{
 "cells": [
  {
   "cell_type": "code",
   "execution_count": null,
   "id": "f09130f0",
   "metadata": {},
   "outputs": [],
   "source": [
    "import pandas as pd\n",
    "import numpy as np\n",
    "import matplotlib.pyplot as plt\n",
    "import statsmodels.api as sm\n",
    "from statsmodels.tsa.arima.model import ARIMA\n",
    "from statsmodels.tsa.stattools import adfuller\n",
    "from pmdarima import auto_arima\n",
    "A = pd.read_csv(\"../data/processed/A_returns.csv\")"
   ]
  },
  {
   "cell_type": "markdown",
   "id": "c4b107e7",
   "metadata": {},
   "source": [
    "1. Check for Stationary"
   ]
  },
  {
   "cell_type": "code",
   "execution_count": null,
   "id": "fc09b1f5",
   "metadata": {},
   "outputs": [],
   "source": [
    "A['Date'] = pd.to_datetime(A['Date'])\n",
    "A.set_index('Date', inplace = True)"
   ]
  },
  {
   "cell_type": "code",
   "execution_count": 20,
   "id": "805c1558",
   "metadata": {},
   "outputs": [
    {
     "name": "stdout",
     "output_type": "stream",
     "text": [
      "ADF Statistic: -19.115000184909754\n",
      "p-value: 0.0\n"
     ]
    }
   ],
   "source": [
    "returns = A['A'].dropna()\n",
    "result = adfuller(returns)\n",
    "print(f\"ADF Statistic: {result[0]}\")\n",
    "print(f\"p-value: {result[1]}\")"
   ]
  },
  {
   "cell_type": "markdown",
   "id": "cb829619",
   "metadata": {},
   "source": [
    "P-value is 0.0 < 0.5 which mean the timeseries is stationary"
   ]
  },
  {
   "cell_type": "code",
   "execution_count": 21,
   "id": "77480a24",
   "metadata": {},
   "outputs": [
    {
     "name": "stdout",
     "output_type": "stream",
     "text": [
      "Performing stepwise search to minimize aic\n",
      " ARIMA(0,0,0)(0,0,0)[0]             : AIC=-13431.765, Time=0.24 sec\n",
      " ARIMA(1,0,0)(0,0,0)[0]             : AIC=-13445.281, Time=0.21 sec\n",
      " ARIMA(0,0,1)(0,0,0)[0]             : AIC=-13444.279, Time=0.39 sec\n",
      " ARIMA(2,0,0)(0,0,0)[0]             : AIC=-13445.725, Time=0.36 sec\n",
      " ARIMA(3,0,0)(0,0,0)[0]             : AIC=-13443.725, Time=0.30 sec\n",
      " ARIMA(2,0,1)(0,0,0)[0]             : AIC=-13443.724, Time=0.72 sec\n",
      " ARIMA(1,0,1)(0,0,0)[0]             : AIC=-13444.489, Time=0.28 sec\n",
      " ARIMA(3,0,1)(0,0,0)[0]             : AIC=-13441.722, Time=0.47 sec\n",
      " ARIMA(2,0,0)(0,0,0)[0] intercept   : AIC=-13447.901, Time=0.61 sec\n",
      " ARIMA(1,0,0)(0,0,0)[0] intercept   : AIC=-13447.725, Time=0.27 sec\n",
      " ARIMA(3,0,0)(0,0,0)[0] intercept   : AIC=-13445.906, Time=0.51 sec\n",
      " ARIMA(2,0,1)(0,0,0)[0] intercept   : AIC=-13445.894, Time=0.42 sec\n",
      " ARIMA(1,0,1)(0,0,0)[0] intercept   : AIC=-13446.865, Time=0.85 sec\n",
      " ARIMA(3,0,1)(0,0,0)[0] intercept   : AIC=-13443.916, Time=1.58 sec\n",
      "\n",
      "Best model:  ARIMA(2,0,0)(0,0,0)[0] intercept\n",
      "Total fit time: 7.255 seconds\n"
     ]
    }
   ],
   "source": [
    "stepwise_fit = auto_arima(returns,\n",
    "                          start_p=0, start_q=0,\n",
    "                          max_p=5, max_q=5,\n",
    "                          seasonal=False,\n",
    "                          trace=True,\n",
    "                          error_action='ignore',\n",
    "                          suppress_warnings=True,\n",
    "                          information_criterion='aic')"
   ]
  },
  {
   "cell_type": "code",
   "execution_count": 25,
   "id": "3665cf55",
   "metadata": {},
   "outputs": [],
   "source": [
    "train_size = int(len(returns) * 0.8)\n",
    "train, test = returns[:train_size], returns[train_size:]"
   ]
  },
  {
   "cell_type": "code",
   "execution_count": 26,
   "id": "5560b0f3",
   "metadata": {},
   "outputs": [
    {
     "name": "stderr",
     "output_type": "stream",
     "text": [
      "c:\\Users\\ngoph\\anaconda3\\Lib\\site-packages\\statsmodels\\tsa\\base\\tsa_model.py:473: ValueWarning: A date index has been provided, but it has no associated frequency information and so will be ignored when e.g. forecasting.\n",
      "  self._init_dates(dates, freq)\n",
      "c:\\Users\\ngoph\\anaconda3\\Lib\\site-packages\\statsmodels\\tsa\\base\\tsa_model.py:473: ValueWarning: A date index has been provided, but it has no associated frequency information and so will be ignored when e.g. forecasting.\n",
      "  self._init_dates(dates, freq)\n",
      "c:\\Users\\ngoph\\anaconda3\\Lib\\site-packages\\statsmodels\\tsa\\base\\tsa_model.py:473: ValueWarning: A date index has been provided, but it has no associated frequency information and so will be ignored when e.g. forecasting.\n",
      "  self._init_dates(dates, freq)\n"
     ]
    },
    {
     "name": "stdout",
     "output_type": "stream",
     "text": [
      "                               SARIMAX Results                                \n",
      "==============================================================================\n",
      "Dep. Variable:                      A   No. Observations:                 2012\n",
      "Model:                 ARIMA(2, 0, 0)   Log Likelihood                5381.308\n",
      "Date:                Wed, 06 Aug 2025   AIC                         -10754.616\n",
      "Time:                        14:43:26   BIC                         -10732.188\n",
      "Sample:                             0   HQIC                        -10746.383\n",
      "                               - 2012                                         \n",
      "Covariance Type:                  opg                                         \n",
      "==============================================================================\n",
      "                 coef    std err          z      P>|z|      [0.025      0.975]\n",
      "------------------------------------------------------------------------------\n",
      "const          0.0008      0.000      2.294      0.022       0.000       0.002\n",
      "ar.L1         -0.0959      0.015     -6.234      0.000      -0.126      -0.066\n",
      "ar.L2          0.0325      0.015      2.201      0.028       0.004       0.062\n",
      "sigma2         0.0003   5.14e-06     54.105      0.000       0.000       0.000\n",
      "===================================================================================\n",
      "Ljung-Box (L1) (Q):                   0.00   Jarque-Bera (JB):              1571.33\n",
      "Prob(Q):                              0.96   Prob(JB):                         0.00\n",
      "Heteroskedasticity (H):               1.63   Skew:                            -0.31\n",
      "Prob(H) (two-sided):                  0.00   Kurtosis:                         7.28\n",
      "===================================================================================\n",
      "\n",
      "Warnings:\n",
      "[1] Covariance matrix calculated using the outer product of gradients (complex-step).\n"
     ]
    }
   ],
   "source": [
    "model = ARIMA(train, order=stepwise_fit.order)\n",
    "model_fit = model.fit()\n",
    "print(model_fit.summary())"
   ]
  },
  {
   "cell_type": "code",
   "execution_count": 27,
   "id": "84ef3e91",
   "metadata": {},
   "outputs": [
    {
     "name": "stderr",
     "output_type": "stream",
     "text": [
      "c:\\Users\\ngoph\\anaconda3\\Lib\\site-packages\\statsmodels\\tsa\\base\\tsa_model.py:836: ValueWarning: No supported index is available. Prediction results will be given with an integer index beginning at `start`.\n",
      "  return get_prediction_index(\n",
      "c:\\Users\\ngoph\\anaconda3\\Lib\\site-packages\\statsmodels\\tsa\\base\\tsa_model.py:836: FutureWarning: No supported index is available. In the next version, calling this method in a model without a supported index will result in an exception.\n",
      "  return get_prediction_index(\n"
     ]
    }
   ],
   "source": [
    "forecast = model_fit.forecast(steps=len(test))\n",
    "forecast = pd.Series(forecast, index=test.index)"
   ]
  },
  {
   "cell_type": "code",
   "execution_count": 29,
   "id": "fbff28d2",
   "metadata": {},
   "outputs": [
    {
     "data": {
      "application/vnd.microsoft.datawrangler.viewer.v0+json": {
       "columns": [
        {
         "name": "Date",
         "rawType": "datetime64[ns]",
         "type": "datetime"
        },
        {
         "name": "predicted_mean",
         "rawType": "float64",
         "type": "float"
        }
       ],
       "ref": "4db5765a-0e40-4ed2-a9ac-43af8d897e3d",
       "rows": [
        [
         "2022-12-30 00:00:00",
         null
        ],
        [
         "2023-01-03 00:00:00",
         null
        ],
        [
         "2023-01-04 00:00:00",
         null
        ],
        [
         "2023-01-05 00:00:00",
         null
        ],
        [
         "2023-01-06 00:00:00",
         null
        ],
        [
         "2023-01-09 00:00:00",
         null
        ],
        [
         "2023-01-10 00:00:00",
         null
        ],
        [
         "2023-01-11 00:00:00",
         null
        ],
        [
         "2023-01-12 00:00:00",
         null
        ],
        [
         "2023-01-13 00:00:00",
         null
        ],
        [
         "2023-01-17 00:00:00",
         null
        ],
        [
         "2023-01-18 00:00:00",
         null
        ],
        [
         "2023-01-19 00:00:00",
         null
        ],
        [
         "2023-01-20 00:00:00",
         null
        ],
        [
         "2023-01-23 00:00:00",
         null
        ],
        [
         "2023-01-24 00:00:00",
         null
        ],
        [
         "2023-01-25 00:00:00",
         null
        ],
        [
         "2023-01-26 00:00:00",
         null
        ],
        [
         "2023-01-27 00:00:00",
         null
        ],
        [
         "2023-01-30 00:00:00",
         null
        ],
        [
         "2023-01-31 00:00:00",
         null
        ],
        [
         "2023-02-01 00:00:00",
         null
        ],
        [
         "2023-02-02 00:00:00",
         null
        ],
        [
         "2023-02-03 00:00:00",
         null
        ],
        [
         "2023-02-06 00:00:00",
         null
        ],
        [
         "2023-02-07 00:00:00",
         null
        ],
        [
         "2023-02-08 00:00:00",
         null
        ],
        [
         "2023-02-09 00:00:00",
         null
        ],
        [
         "2023-02-10 00:00:00",
         null
        ],
        [
         "2023-02-13 00:00:00",
         null
        ],
        [
         "2023-02-14 00:00:00",
         null
        ],
        [
         "2023-02-15 00:00:00",
         null
        ],
        [
         "2023-02-16 00:00:00",
         null
        ],
        [
         "2023-02-17 00:00:00",
         null
        ],
        [
         "2023-02-21 00:00:00",
         null
        ],
        [
         "2023-02-22 00:00:00",
         null
        ],
        [
         "2023-02-23 00:00:00",
         null
        ],
        [
         "2023-02-24 00:00:00",
         null
        ],
        [
         "2023-02-27 00:00:00",
         null
        ],
        [
         "2023-02-28 00:00:00",
         null
        ],
        [
         "2023-03-01 00:00:00",
         null
        ],
        [
         "2023-03-02 00:00:00",
         null
        ],
        [
         "2023-03-03 00:00:00",
         null
        ],
        [
         "2023-03-06 00:00:00",
         null
        ],
        [
         "2023-03-07 00:00:00",
         null
        ],
        [
         "2023-03-08 00:00:00",
         null
        ],
        [
         "2023-03-09 00:00:00",
         null
        ],
        [
         "2023-03-10 00:00:00",
         null
        ],
        [
         "2023-03-13 00:00:00",
         null
        ],
        [
         "2023-03-14 00:00:00",
         null
        ]
       ],
       "shape": {
        "columns": 1,
        "rows": 503
       }
      },
      "text/plain": [
       "Date\n",
       "2022-12-30   NaN\n",
       "2023-01-03   NaN\n",
       "2023-01-04   NaN\n",
       "2023-01-05   NaN\n",
       "2023-01-06   NaN\n",
       "              ..\n",
       "2024-12-24   NaN\n",
       "2024-12-26   NaN\n",
       "2024-12-27   NaN\n",
       "2024-12-30   NaN\n",
       "2024-12-31   NaN\n",
       "Name: predicted_mean, Length: 503, dtype: float64"
      ]
     },
     "execution_count": 29,
     "metadata": {},
     "output_type": "execute_result"
    }
   ],
   "source": [
    "forecast"
   ]
  },
  {
   "cell_type": "code",
   "execution_count": 28,
   "id": "c56e0844",
   "metadata": {},
   "outputs": [
    {
     "data": {
      "image/png": "[encoded data removed]",
      "text/plain": [
       "<Figure size 1000x500 with 1 Axes>"
      ]
     },
     "metadata": {},
     "output_type": "display_data"
    }
   ],
   "source": [
    "import matplotlib.pyplot as plt\n",
    "\n",
    "plt.figure(figsize=(10, 5))\n",
    "plt.plot(train, label='Train')\n",
    "plt.plot(test, label='Actual')\n",
    "plt.plot(forecast, label='Forecast', color='red')\n",
    "plt.legend()\n",
    "plt.title('ARIMA Model Forecast vs Actual Returns')\n",
    "plt.show()"
   ]
  }
 ],
 "metadata": {
  "kernelspec": {
   "display_name": "base",
   "language": "python",
   "name": "python3"
  },
  "language_info": {
   "codemirror_mode": {
    "name": "ipython",
    "version": 3
   },
   "file_extension": ".py",
   "mimetype": "text/x-python",
   "name": "python",
   "nbconvert_exporter": "python",
   "pygments_lexer": "ipython3",
   "version": "3.12.7"
  }
 },
 "nbformat": 4,
 "nbformat_minor": 5
}
