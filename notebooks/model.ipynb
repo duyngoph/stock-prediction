{
 "cells": [
  {
   "cell_type": "code",
   "execution_count": 39,
   "id": "f09130f0",
   "metadata": {},
   "outputs": [],
   "source": [
    "import pandas as pd\n",
    "import numpy as np\n",
    "import matplotlib.pyplot as plt\n",
    "import statsmodels.api as sm\n",
    "from statsmodels.tsa.arima.model import ARIMA\n",
    "from statsmodels.tsa.stattools import adfuller\n",
    "from pmdarima import auto_arima\n",
    "A = pd.read_csv(\"../data/processed/A_returns.csv\")"
   ]
  },
  {
   "cell_type": "markdown",
   "id": "c4b107e7",
   "metadata": {},
   "source": [
    "1. Check for Stationary"
   ]
  },
  {
   "cell_type": "code",
   "execution_count": 40,
   "id": "fc09b1f5",
   "metadata": {},
   "outputs": [],
   "source": [
    "A['Date'] = pd.to_datetime(A['Date'])\n",
    "A.set_index('Date', inplace = True)"
   ]
  },
  {
   "cell_type": "code",
   "execution_count": 41,
   "id": "805c1558",
   "metadata": {},
   "outputs": [
    {
     "name": "stdout",
     "output_type": "stream",
     "text": [
      "ADF Statistic: -19.115000184909754\n",
      "p-value: 0.0\n"
     ]
    }
   ],
   "source": [
    "returns = A['A'].dropna()\n",
    "result = adfuller(returns)\n",
    "print(f\"ADF Statistic: {result[0]}\")\n",
    "print(f\"p-value: {result[1]}\")"
   ]
  },
  {
   "cell_type": "markdown",
   "id": "cb829619",
   "metadata": {},
   "source": [
    "P-value is 0.0 < 0.5 which mean the timeseries is stationary"
   ]
  },
  {
   "cell_type": "code",
   "execution_count": 48,
   "id": "3665cf55",
   "metadata": {},
   "outputs": [],
   "source": [
    "train_size = int(len(returns) * 0.8)\n",
    "train, test = returns[:train_size], returns[train_size:]"
   ]
  },
  {
   "cell_type": "code",
   "execution_count": 70,
   "id": "d8a60858",
   "metadata": {},
   "outputs": [
    {
     "name": "stdout",
     "output_type": "stream",
     "text": [
      "(2, 0, 0)\n"
     ]
    }
   ],
   "source": [
    "stepwise_fit = auto_arima(train)\n",
    "print(stepwise_fit.order)"
   ]
  },
  {
   "cell_type": "code",
   "execution_count": 65,
   "id": "77480a24",
   "metadata": {},
   "outputs": [],
   "source": [
    "history = list(train)\n",
    "predictions = []"
   ]
  },
  {
   "cell_type": "code",
   "execution_count": 81,
   "id": "236921ca",
   "metadata": {},
   "outputs": [
    {
     "name": "stdout",
     "output_type": "stream",
     "text": [
      "MAE: 0.0121\n",
      "RMSE: 0.0166\n"
     ]
    }
   ],
   "source": [
    "import warnings\n",
    "from statsmodels.tools.sm_exceptions import ConvergenceWarning\n",
    "history = list(train)\n",
    "predictions = []\n",
    "convergence_warnings = 0\n",
    "\n",
    "for t in range(len(test)):\n",
    "    with warnings.catch_warnings(record=True) as w:\n",
    "        warnings.simplefilter(\"always\", category=ConvergenceWarning)\n",
    "\n",
    "        try:\n",
    "            model = ARIMA(history, order=stepwise_fit.order)\n",
    "            model_fit = model.fit(method_kwargs={'maxiter': 1000})\n",
    "            yhat = model_fit.forecast()[0]\n",
    "        except Exception as e:\n",
    "            print(f\"Error at step {t}: {e}\")\n",
    "            yhat = np.nan\n",
    "\n",
    "        # Check for convergence warning\n",
    "        for warn in w:\n",
    "            if issubclass(warn.category, ConvergenceWarning):\n",
    "                convergence_warnings += 1\n",
    "\n",
    "    predictions.append(yhat)\n",
    "    history.append(test.iloc[t])  # add true value to history\n",
    "\n",
    "# Convert predictions to Series with the same index as test\n",
    "pred_series = pd.Series(predictions, index=test.index)\n",
    "\n",
    "# Evaluation\n",
    "from sklearn.metrics import mean_absolute_error, mean_squared_error\n",
    "mae = mean_absolute_error(test, pred_series)\n",
    "rmse = np.sqrt(mean_squared_error(test, pred_series))\n",
    "\n",
    "print(f\"MAE: {mae:.4f}\")\n",
    "print(f\"RMSE: {rmse:.4f}\")"
   ]
  },
  {
   "cell_type": "markdown",
   "id": "1f89496b",
   "metadata": {},
   "source": [
    "MAE: 0.0121 (1.21%) - This means on error rate is 1.21%\n",
    "\n",
    "RMSE: 0.0166"
   ]
  },
  {
   "cell_type": "code",
   "execution_count": 89,
   "id": "4c8d5a29",
   "metadata": {},
   "outputs": [
    {
     "data": {
      "text/plain": [
       "0.012008138859187025"
      ]
     },
     "execution_count": 89,
     "metadata": {},
     "output_type": "execute_result"
    }
   ],
   "source": [
    "np.average(abs(returns))"
   ]
  },
  {
   "cell_type": "code",
   "execution_count": 88,
   "id": "48417d67",
   "metadata": {},
   "outputs": [
    {
     "data": {
      "application/vnd.microsoft.datawrangler.viewer.v0+json": {
       "columns": [
        {
         "name": "Date",
         "rawType": "datetime64[ns]",
         "type": "datetime"
        },
        {
         "name": "A",
         "rawType": "float64",
         "type": "float"
        }
       ],
       "ref": "7570d90f-ce2f-4cf3-a1ca-91df5dfdb5be",
       "rows": [
        [
         "2015-01-05 00:00:00",
         "-0.0187381731358051"
        ],
        [
         "2015-01-06 00:00:00",
         "-0.0155776589332483"
        ],
        [
         "2015-01-07 00:00:00",
         "0.0132721452274722"
        ],
        [
         "2015-01-08 00:00:00",
         "0.0299748570595124"
        ],
        [
         "2015-01-09 00:00:00",
         "-0.0073367937255154"
        ],
        [
         "2015-01-12 00:00:00",
         "-0.0118255297025852"
        ],
        [
         "2015-01-13 00:00:00",
         "-0.0139614676684093"
        ],
        [
         "2015-01-14 00:00:00",
         "-0.0123896508267865"
        ],
        [
         "2015-01-15 00:00:00",
         "-0.0268816448519144"
        ],
        [
         "2015-01-16 00:00:00",
         "0.0063143785243278"
        ],
        [
         "2015-01-20 00:00:00",
         "-0.0083662706073653"
        ],
        [
         "2015-01-21 00:00:00",
         "0.0060638323306274"
        ],
        [
         "2015-01-22 00:00:00",
         "0.0390458813523737"
        ],
        [
         "2015-01-23 00:00:00",
         "-0.0211850634874174"
        ],
        [
         "2015-01-26 00:00:00",
         "0.0087606718973174"
        ],
        [
         "2015-01-27 00:00:00",
         "-0.0102171636023321"
        ],
        [
         "2015-01-28 00:00:00",
         "-0.0193548269359711"
        ],
        [
         "2015-01-29 00:00:00",
         "0.0121052133215036"
        ],
        [
         "2015-01-30 00:00:00",
         "-0.017940806888536"
        ],
        [
         "2015-02-02 00:00:00",
         "0.0243578591833224"
        ],
        [
         "2015-02-03 00:00:00",
         "0.0240373429689706"
        ],
        [
         "2015-02-04 00:00:00",
         "-0.0128724565861033"
        ],
        [
         "2015-02-05 00:00:00",
         "0.0107389974149103"
        ],
        [
         "2015-02-06 00:00:00",
         "-0.0048061851866623"
        ],
        [
         "2015-02-09 00:00:00",
         "-0.0076259689615101"
        ],
        [
         "2015-02-10 00:00:00",
         "0.0161371627937654"
        ],
        [
         "2015-02-11 00:00:00",
         "-0.0085704378040057"
        ],
        [
         "2015-02-12 00:00:00",
         "0.0175435219419886"
        ],
        [
         "2015-02-13 00:00:00",
         "0.0032484966361279"
        ],
        [
         "2015-02-17 00:00:00",
         "0.0092153852704892"
        ],
        [
         "2015-02-18 00:00:00",
         "0.0251729860656415"
        ],
        [
         "2015-02-19 00:00:00",
         "-0.0093888876482838"
        ],
        [
         "2015-02-20 00:00:00",
         "0.0194411714518851"
        ],
        [
         "2015-02-23 00:00:00",
         "-0.0052442663798171"
        ],
        [
         "2015-02-24 00:00:00",
         "0.0079079203906839"
        ],
        [
         "2015-02-25 00:00:00",
         "0.0033283975388807"
        ],
        [
         "2015-02-26 00:00:00",
         "0.0037917850932089"
        ],
        [
         "2015-02-27 00:00:00",
         "-0.0035413888218673"
        ],
        [
         "2015-03-02 00:00:00",
         "0.011608685325946"
        ],
        [
         "2015-03-03 00:00:00",
         "-0.0103044064379379"
        ],
        [
         "2015-03-04 00:00:00",
         "-0.0061523236309448"
        ],
        [
         "2015-03-05 00:00:00",
         "0.0052383202987733"
        ],
        [
         "2015-03-06 00:00:00",
         "-0.0163431444550041"
        ],
        [
         "2015-03-09 00:00:00",
         "0.0050567115939574"
        ],
        [
         "2015-03-10 00:00:00",
         "-0.0265934281459713"
        ],
        [
         "2015-03-11 00:00:00",
         "0.005414746461213"
        ],
        [
         "2015-03-12 00:00:00",
         "0.0061196773333249"
        ],
        [
         "2015-03-13 00:00:00",
         "-0.0055961376407763"
        ],
        [
         "2015-03-16 00:00:00",
         "0.0230000852918048"
        ],
        [
         "2015-03-17 00:00:00",
         "-0.0055012042496561"
        ]
       ],
       "shape": {
        "columns": 1,
        "rows": 2515
       }
      },
      "text/plain": [
       "Date\n",
       "2015-01-05   -0.018738\n",
       "2015-01-06   -0.015578\n",
       "2015-01-07    0.013272\n",
       "2015-01-08    0.029975\n",
       "2015-01-09   -0.007337\n",
       "                ...   \n",
       "2024-12-24    0.011144\n",
       "2024-12-26   -0.001984\n",
       "2024-12-27   -0.002135\n",
       "2024-12-30   -0.008263\n",
       "2024-12-31    0.001252\n",
       "Name: A, Length: 2515, dtype: float64"
      ]
     },
     "execution_count": 88,
     "metadata": {},
     "output_type": "execute_result"
    }
   ],
   "source": [
    "returns"
   ]
  },
  {
   "cell_type": "code",
   "execution_count": null,
   "id": "8f703b6f",
   "metadata": {},
   "outputs": [],
   "source": [
    "import matplotlib.pyplot as plt\n",
    "\n",
    "plt.figure(figsize=(10, 5))\n",
    "plt.plot(test, label='Actual')\n",
    "plt.plot(pred_series, label='Forecast', color='red')\n",
    "plt.legend()\n",
    "plt.title('Walk-Forward Forecasting with ARIMA')\n",
    "plt.show()\n"
   ]
  },
  {
   "cell_type": "code",
   "execution_count": null,
   "id": "aa8ae473",
   "metadata": {},
   "outputs": [],
   "source": []
  }
 ],
 "metadata": {
  "kernelspec": {
   "display_name": "base",
   "language": "python",
   "name": "python3"
  },
  "language_info": {
   "codemirror_mode": {
    "name": "ipython",
    "version": 3
   },
   "file_extension": ".py",
   "mimetype": "text/x-python",
   "name": "python",
   "nbconvert_exporter": "python",
   "pygments_lexer": "ipython3",
   "version": "3.12.7"
  }
 },
 "nbformat": 4,
 "nbformat_minor": 5
}
