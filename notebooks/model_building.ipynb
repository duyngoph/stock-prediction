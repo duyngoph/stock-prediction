{
 "cells": [
  {
   "cell_type": "markdown",
   "metadata": {},
   "source": [
    "# 01 - Data Collection\n",
    "Download historical S&P 500 data using yfinance."
   ]
  },
  {
   "cell_type": "code",
   "execution_count": 3,
   "metadata": {},
   "outputs": [
    {
     "name": "stdout",
     "output_type": "stream",
     "text": [
      "Downloading data for MMM\n"
     ]
    },
    {
     "name": "stderr",
     "output_type": "stream",
     "text": [
      "C:\\Users\\ngoph\\AppData\\Local\\Temp\\ipykernel_27304\\3947983937.py:18: FutureWarning: YF.download() has changed argument auto_adjust default to True\n",
      "  stock_data = yf.download(symbol, start=start_date, end=end_date)\n",
      "[*********************100%***********************]  1 of 1 completed\n"
     ]
    },
    {
     "name": "stdout",
     "output_type": "stream",
     "text": [
      "Downloading data for AOS\n"
     ]
    },
    {
     "name": "stderr",
     "output_type": "stream",
     "text": [
      "C:\\Users\\ngoph\\AppData\\Local\\Temp\\ipykernel_27304\\3947983937.py:18: FutureWarning: YF.download() has changed argument auto_adjust default to True\n",
      "  stock_data = yf.download(symbol, start=start_date, end=end_date)\n",
      "[*********************100%***********************]  1 of 1 completed\n"
     ]
    },
    {
     "name": "stdout",
     "output_type": "stream",
     "text": [
      "Downloading data for ABT\n"
     ]
    },
    {
     "name": "stderr",
     "output_type": "stream",
     "text": [
      "C:\\Users\\ngoph\\AppData\\Local\\Temp\\ipykernel_27304\\3947983937.py:18: FutureWarning: YF.download() has changed argument auto_adjust default to True\n",
      "  stock_data = yf.download(symbol, start=start_date, end=end_date)\n",
      "[*********************100%***********************]  1 of 1 completed\n"
     ]
    },
    {
     "name": "stdout",
     "output_type": "stream",
     "text": [
      "Downloading data for ABBV\n"
     ]
    },
    {
     "name": "stderr",
     "output_type": "stream",
     "text": [
      "C:\\Users\\ngoph\\AppData\\Local\\Temp\\ipykernel_27304\\3947983937.py:18: FutureWarning: YF.download() has changed argument auto_adjust default to True\n",
      "  stock_data = yf.download(symbol, start=start_date, end=end_date)\n",
      "[*********************100%***********************]  1 of 1 completed\n"
     ]
    },
    {
     "name": "stdout",
     "output_type": "stream",
     "text": [
      "Downloading data for ACN\n"
     ]
    },
    {
     "name": "stderr",
     "output_type": "stream",
     "text": [
      "C:\\Users\\ngoph\\AppData\\Local\\Temp\\ipykernel_27304\\3947983937.py:18: FutureWarning: YF.download() has changed argument auto_adjust default to True\n",
      "  stock_data = yf.download(symbol, start=start_date, end=end_date)\n",
      "[*********************100%***********************]  1 of 1 completed\n"
     ]
    },
    {
     "name": "stdout",
     "output_type": "stream",
     "text": [
      "Downloading data for ADBE\n"
     ]
    },
    {
     "name": "stderr",
     "output_type": "stream",
     "text": [
      "C:\\Users\\ngoph\\AppData\\Local\\Temp\\ipykernel_27304\\3947983937.py:18: FutureWarning: YF.download() has changed argument auto_adjust default to True\n",
      "  stock_data = yf.download(symbol, start=start_date, end=end_date)\n",
      "[*********************100%***********************]  1 of 1 completed\n"
     ]
    },
    {
     "name": "stdout",
     "output_type": "stream",
     "text": [
      "Downloading data for AMD\n"
     ]
    },
    {
     "name": "stderr",
     "output_type": "stream",
     "text": [
      "C:\\Users\\ngoph\\AppData\\Local\\Temp\\ipykernel_27304\\3947983937.py:18: FutureWarning: YF.download() has changed argument auto_adjust default to True\n",
      "  stock_data = yf.download(symbol, start=start_date, end=end_date)\n",
      "[*********************100%***********************]  1 of 1 completed\n"
     ]
    },
    {
     "name": "stdout",
     "output_type": "stream",
     "text": [
      "Downloading data for AES\n"
     ]
    },
    {
     "name": "stderr",
     "output_type": "stream",
     "text": [
      "C:\\Users\\ngoph\\AppData\\Local\\Temp\\ipykernel_27304\\3947983937.py:18: FutureWarning: YF.download() has changed argument auto_adjust default to True\n",
      "  stock_data = yf.download(symbol, start=start_date, end=end_date)\n",
      "[*********************100%***********************]  1 of 1 completed\n"
     ]
    },
    {
     "name": "stdout",
     "output_type": "stream",
     "text": [
      "Downloading data for AFL\n"
     ]
    },
    {
     "name": "stderr",
     "output_type": "stream",
     "text": [
      "C:\\Users\\ngoph\\AppData\\Local\\Temp\\ipykernel_27304\\3947983937.py:18: FutureWarning: YF.download() has changed argument auto_adjust default to True\n",
      "  stock_data = yf.download(symbol, start=start_date, end=end_date)\n",
      "[*********************100%***********************]  1 of 1 completed\n"
     ]
    },
    {
     "name": "stdout",
     "output_type": "stream",
     "text": [
      "Downloading data for A\n"
     ]
    },
    {
     "name": "stderr",
     "output_type": "stream",
     "text": [
      "C:\\Users\\ngoph\\AppData\\Local\\Temp\\ipykernel_27304\\3947983937.py:18: FutureWarning: YF.download() has changed argument auto_adjust default to True\n",
      "  stock_data = yf.download(symbol, start=start_date, end=end_date)\n",
      "[*********************100%***********************]  1 of 1 completed\n"
     ]
    },
    {
     "name": "stdout",
     "output_type": "stream",
     "text": [
      "Downloading data for APD\n"
     ]
    },
    {
     "name": "stderr",
     "output_type": "stream",
     "text": [
      "C:\\Users\\ngoph\\AppData\\Local\\Temp\\ipykernel_27304\\3947983937.py:18: FutureWarning: YF.download() has changed argument auto_adjust default to True\n",
      "  stock_data = yf.download(symbol, start=start_date, end=end_date)\n",
      "[*********************100%***********************]  1 of 1 completed\n"
     ]
    },
    {
     "name": "stdout",
     "output_type": "stream",
     "text": [
      "Downloading data for ABNB\n"
     ]
    },
    {
     "name": "stderr",
     "output_type": "stream",
     "text": [
      "C:\\Users\\ngoph\\AppData\\Local\\Temp\\ipykernel_27304\\3947983937.py:18: FutureWarning: YF.download() has changed argument auto_adjust default to True\n",
      "  stock_data = yf.download(symbol, start=start_date, end=end_date)\n",
      "[*********************100%***********************]  1 of 1 completed\n"
     ]
    },
    {
     "name": "stdout",
     "output_type": "stream",
     "text": [
      "Downloading data for AKAM\n"
     ]
    },
    {
     "name": "stderr",
     "output_type": "stream",
     "text": [
      "C:\\Users\\ngoph\\AppData\\Local\\Temp\\ipykernel_27304\\3947983937.py:18: FutureWarning: YF.download() has changed argument auto_adjust default to True\n",
      "  stock_data = yf.download(symbol, start=start_date, end=end_date)\n",
      "[*********************100%***********************]  1 of 1 completed\n"
     ]
    },
    {
     "name": "stdout",
     "output_type": "stream",
     "text": [
      "Downloading data for ALB\n"
     ]
    },
    {
     "name": "stderr",
     "output_type": "stream",
     "text": [
      "C:\\Users\\ngoph\\AppData\\Local\\Temp\\ipykernel_27304\\3947983937.py:18: FutureWarning: YF.download() has changed argument auto_adjust default to True\n",
      "  stock_data = yf.download(symbol, start=start_date, end=end_date)\n",
      "[*********************100%***********************]  1 of 1 completed\n"
     ]
    },
    {
     "name": "stdout",
     "output_type": "stream",
     "text": [
      "Downloading data for ARE\n"
     ]
    },
    {
     "name": "stderr",
     "output_type": "stream",
     "text": [
      "C:\\Users\\ngoph\\AppData\\Local\\Temp\\ipykernel_27304\\3947983937.py:18: FutureWarning: YF.download() has changed argument auto_adjust default to True\n",
      "  stock_data = yf.download(symbol, start=start_date, end=end_date)\n",
      "[*********************100%***********************]  1 of 1 completed\n"
     ]
    },
    {
     "name": "stdout",
     "output_type": "stream",
     "text": [
      "Downloading data for ALGN\n"
     ]
    },
    {
     "name": "stderr",
     "output_type": "stream",
     "text": [
      "C:\\Users\\ngoph\\AppData\\Local\\Temp\\ipykernel_27304\\3947983937.py:18: FutureWarning: YF.download() has changed argument auto_adjust default to True\n",
      "  stock_data = yf.download(symbol, start=start_date, end=end_date)\n",
      "[*********************100%***********************]  1 of 1 completed\n"
     ]
    },
    {
     "name": "stdout",
     "output_type": "stream",
     "text": [
      "Downloading data for ALLE\n"
     ]
    },
    {
     "name": "stderr",
     "output_type": "stream",
     "text": [
      "C:\\Users\\ngoph\\AppData\\Local\\Temp\\ipykernel_27304\\3947983937.py:18: FutureWarning: YF.download() has changed argument auto_adjust default to True\n",
      "  stock_data = yf.download(symbol, start=start_date, end=end_date)\n",
      "[*********************100%***********************]  1 of 1 completed\n"
     ]
    },
    {
     "name": "stdout",
     "output_type": "stream",
     "text": [
      "Downloading data for LNT\n"
     ]
    },
    {
     "name": "stderr",
     "output_type": "stream",
     "text": [
      "C:\\Users\\ngoph\\AppData\\Local\\Temp\\ipykernel_27304\\3947983937.py:18: FutureWarning: YF.download() has changed argument auto_adjust default to True\n",
      "  stock_data = yf.download(symbol, start=start_date, end=end_date)\n",
      "[*********************100%***********************]  1 of 1 completed\n"
     ]
    },
    {
     "name": "stdout",
     "output_type": "stream",
     "text": [
      "Downloading data for ALL\n"
     ]
    },
    {
     "name": "stderr",
     "output_type": "stream",
     "text": [
      "C:\\Users\\ngoph\\AppData\\Local\\Temp\\ipykernel_27304\\3947983937.py:18: FutureWarning: YF.download() has changed argument auto_adjust default to True\n",
      "  stock_data = yf.download(symbol, start=start_date, end=end_date)\n",
      "[*********************100%***********************]  1 of 1 completed\n"
     ]
    },
    {
     "name": "stdout",
     "output_type": "stream",
     "text": [
      "Downloading data for GOOGL\n"
     ]
    },
    {
     "name": "stderr",
     "output_type": "stream",
     "text": [
      "C:\\Users\\ngoph\\AppData\\Local\\Temp\\ipykernel_27304\\3947983937.py:18: FutureWarning: YF.download() has changed argument auto_adjust default to True\n",
      "  stock_data = yf.download(symbol, start=start_date, end=end_date)\n",
      "[*********************100%***********************]  1 of 1 completed\n"
     ]
    },
    {
     "name": "stdout",
     "output_type": "stream",
     "text": [
      "Downloading data for GOOG\n"
     ]
    },
    {
     "name": "stderr",
     "output_type": "stream",
     "text": [
      "C:\\Users\\ngoph\\AppData\\Local\\Temp\\ipykernel_27304\\3947983937.py:18: FutureWarning: YF.download() has changed argument auto_adjust default to True\n",
      "  stock_data = yf.download(symbol, start=start_date, end=end_date)\n",
      "[*********************100%***********************]  1 of 1 completed\n"
     ]
    },
    {
     "name": "stdout",
     "output_type": "stream",
     "text": [
      "Downloading data for MO\n"
     ]
    },
    {
     "name": "stderr",
     "output_type": "stream",
     "text": [
      "C:\\Users\\ngoph\\AppData\\Local\\Temp\\ipykernel_27304\\3947983937.py:18: FutureWarning: YF.download() has changed argument auto_adjust default to True\n",
      "  stock_data = yf.download(symbol, start=start_date, end=end_date)\n",
      "[*********************100%***********************]  1 of 1 completed\n"
     ]
    },
    {
     "name": "stdout",
     "output_type": "stream",
     "text": [
      "Downloading data for AMZN\n"
     ]
    },
    {
     "name": "stderr",
     "output_type": "stream",
     "text": [
      "C:\\Users\\ngoph\\AppData\\Local\\Temp\\ipykernel_27304\\3947983937.py:18: FutureWarning: YF.download() has changed argument auto_adjust default to True\n",
      "  stock_data = yf.download(symbol, start=start_date, end=end_date)\n",
      "[*********************100%***********************]  1 of 1 completed\n"
     ]
    },
    {
     "name": "stdout",
     "output_type": "stream",
     "text": [
      "Downloading data for AMCR\n"
     ]
    },
    {
     "name": "stderr",
     "output_type": "stream",
     "text": [
      "C:\\Users\\ngoph\\AppData\\Local\\Temp\\ipykernel_27304\\3947983937.py:18: FutureWarning: YF.download() has changed argument auto_adjust default to True\n",
      "  stock_data = yf.download(symbol, start=start_date, end=end_date)\n",
      "[*********************100%***********************]  1 of 1 completed\n"
     ]
    },
    {
     "name": "stdout",
     "output_type": "stream",
     "text": [
      "Downloading data for AEE\n"
     ]
    },
    {
     "name": "stderr",
     "output_type": "stream",
     "text": [
      "C:\\Users\\ngoph\\AppData\\Local\\Temp\\ipykernel_27304\\3947983937.py:18: FutureWarning: YF.download() has changed argument auto_adjust default to True\n",
      "  stock_data = yf.download(symbol, start=start_date, end=end_date)\n",
      "[*********************100%***********************]  1 of 1 completed\n"
     ]
    },
    {
     "name": "stdout",
     "output_type": "stream",
     "text": [
      "Downloading data for AEP\n"
     ]
    },
    {
     "name": "stderr",
     "output_type": "stream",
     "text": [
      "C:\\Users\\ngoph\\AppData\\Local\\Temp\\ipykernel_27304\\3947983937.py:18: FutureWarning: YF.download() has changed argument auto_adjust default to True\n",
      "  stock_data = yf.download(symbol, start=start_date, end=end_date)\n",
      "[*********************100%***********************]  1 of 1 completed\n"
     ]
    },
    {
     "name": "stdout",
     "output_type": "stream",
     "text": [
      "Downloading data for AXP\n"
     ]
    },
    {
     "name": "stderr",
     "output_type": "stream",
     "text": [
      "C:\\Users\\ngoph\\AppData\\Local\\Temp\\ipykernel_27304\\3947983937.py:18: FutureWarning: YF.download() has changed argument auto_adjust default to True\n",
      "  stock_data = yf.download(symbol, start=start_date, end=end_date)\n",
      "[*********************100%***********************]  1 of 1 completed\n"
     ]
    },
    {
     "name": "stdout",
     "output_type": "stream",
     "text": [
      "Downloading data for AIG\n"
     ]
    },
    {
     "name": "stderr",
     "output_type": "stream",
     "text": [
      "C:\\Users\\ngoph\\AppData\\Local\\Temp\\ipykernel_27304\\3947983937.py:18: FutureWarning: YF.download() has changed argument auto_adjust default to True\n",
      "  stock_data = yf.download(symbol, start=start_date, end=end_date)\n",
      "[*********************100%***********************]  1 of 1 completed\n"
     ]
    },
    {
     "name": "stdout",
     "output_type": "stream",
     "text": [
      "Downloading data for AMT\n"
     ]
    },
    {
     "name": "stderr",
     "output_type": "stream",
     "text": [
      "C:\\Users\\ngoph\\AppData\\Local\\Temp\\ipykernel_27304\\3947983937.py:18: FutureWarning: YF.download() has changed argument auto_adjust default to True\n",
      "  stock_data = yf.download(symbol, start=start_date, end=end_date)\n",
      "[*********************100%***********************]  1 of 1 completed\n"
     ]
    },
    {
     "name": "stdout",
     "output_type": "stream",
     "text": [
      "Downloading data for AWK\n"
     ]
    },
    {
     "name": "stderr",
     "output_type": "stream",
     "text": [
      "C:\\Users\\ngoph\\AppData\\Local\\Temp\\ipykernel_27304\\3947983937.py:18: FutureWarning: YF.download() has changed argument auto_adjust default to True\n",
      "  stock_data = yf.download(symbol, start=start_date, end=end_date)\n",
      "[*********************100%***********************]  1 of 1 completed\n"
     ]
    },
    {
     "name": "stdout",
     "output_type": "stream",
     "text": [
      "Downloading data for AMP\n"
     ]
    },
    {
     "name": "stderr",
     "output_type": "stream",
     "text": [
      "C:\\Users\\ngoph\\AppData\\Local\\Temp\\ipykernel_27304\\3947983937.py:18: FutureWarning: YF.download() has changed argument auto_adjust default to True\n",
      "  stock_data = yf.download(symbol, start=start_date, end=end_date)\n",
      "[*********************100%***********************]  1 of 1 completed\n"
     ]
    },
    {
     "name": "stdout",
     "output_type": "stream",
     "text": [
      "Downloading data for AME\n"
     ]
    },
    {
     "name": "stderr",
     "output_type": "stream",
     "text": [
      "C:\\Users\\ngoph\\AppData\\Local\\Temp\\ipykernel_27304\\3947983937.py:18: FutureWarning: YF.download() has changed argument auto_adjust default to True\n",
      "  stock_data = yf.download(symbol, start=start_date, end=end_date)\n",
      "[*********************100%***********************]  1 of 1 completed\n"
     ]
    },
    {
     "name": "stdout",
     "output_type": "stream",
     "text": [
      "Downloading data for AMGN\n"
     ]
    },
    {
     "name": "stderr",
     "output_type": "stream",
     "text": [
      "C:\\Users\\ngoph\\AppData\\Local\\Temp\\ipykernel_27304\\3947983937.py:18: FutureWarning: YF.download() has changed argument auto_adjust default to True\n",
      "  stock_data = yf.download(symbol, start=start_date, end=end_date)\n",
      "[*********************100%***********************]  1 of 1 completed\n"
     ]
    },
    {
     "name": "stdout",
     "output_type": "stream",
     "text": [
      "Downloading data for APH\n"
     ]
    },
    {
     "name": "stderr",
     "output_type": "stream",
     "text": [
      "C:\\Users\\ngoph\\AppData\\Local\\Temp\\ipykernel_27304\\3947983937.py:18: FutureWarning: YF.download() has changed argument auto_adjust default to True\n",
      "  stock_data = yf.download(symbol, start=start_date, end=end_date)\n",
      "[*********************100%***********************]  1 of 1 completed\n"
     ]
    },
    {
     "name": "stdout",
     "output_type": "stream",
     "text": [
      "Downloading data for ADI\n"
     ]
    },
    {
     "name": "stderr",
     "output_type": "stream",
     "text": [
      "C:\\Users\\ngoph\\AppData\\Local\\Temp\\ipykernel_27304\\3947983937.py:18: FutureWarning: YF.download() has changed argument auto_adjust default to True\n",
      "  stock_data = yf.download(symbol, start=start_date, end=end_date)\n",
      "[*********************100%***********************]  1 of 1 completed\n"
     ]
    },
    {
     "name": "stdout",
     "output_type": "stream",
     "text": [
      "Downloading data for AON\n"
     ]
    },
    {
     "name": "stderr",
     "output_type": "stream",
     "text": [
      "C:\\Users\\ngoph\\AppData\\Local\\Temp\\ipykernel_27304\\3947983937.py:18: FutureWarning: YF.download() has changed argument auto_adjust default to True\n",
      "  stock_data = yf.download(symbol, start=start_date, end=end_date)\n",
      "[*********************100%***********************]  1 of 1 completed\n"
     ]
    },
    {
     "name": "stdout",
     "output_type": "stream",
     "text": [
      "Downloading data for APA\n"
     ]
    },
    {
     "name": "stderr",
     "output_type": "stream",
     "text": [
      "C:\\Users\\ngoph\\AppData\\Local\\Temp\\ipykernel_27304\\3947983937.py:18: FutureWarning: YF.download() has changed argument auto_adjust default to True\n",
      "  stock_data = yf.download(symbol, start=start_date, end=end_date)\n",
      "[*********************100%***********************]  1 of 1 completed\n"
     ]
    },
    {
     "name": "stdout",
     "output_type": "stream",
     "text": [
      "Downloading data for APO\n"
     ]
    },
    {
     "name": "stderr",
     "output_type": "stream",
     "text": [
      "C:\\Users\\ngoph\\AppData\\Local\\Temp\\ipykernel_27304\\3947983937.py:18: FutureWarning: YF.download() has changed argument auto_adjust default to True\n",
      "  stock_data = yf.download(symbol, start=start_date, end=end_date)\n",
      "[*********************100%***********************]  1 of 1 completed\n"
     ]
    },
    {
     "name": "stdout",
     "output_type": "stream",
     "text": [
      "Downloading data for AAPL\n"
     ]
    },
    {
     "name": "stderr",
     "output_type": "stream",
     "text": [
      "C:\\Users\\ngoph\\AppData\\Local\\Temp\\ipykernel_27304\\3947983937.py:18: FutureWarning: YF.download() has changed argument auto_adjust default to True\n",
      "  stock_data = yf.download(symbol, start=start_date, end=end_date)\n",
      "[*********************100%***********************]  1 of 1 completed\n"
     ]
    },
    {
     "name": "stdout",
     "output_type": "stream",
     "text": [
      "Downloading data for AMAT\n"
     ]
    },
    {
     "name": "stderr",
     "output_type": "stream",
     "text": [
      "C:\\Users\\ngoph\\AppData\\Local\\Temp\\ipykernel_27304\\3947983937.py:18: FutureWarning: YF.download() has changed argument auto_adjust default to True\n",
      "  stock_data = yf.download(symbol, start=start_date, end=end_date)\n",
      "[*********************100%***********************]  1 of 1 completed\n"
     ]
    },
    {
     "name": "stdout",
     "output_type": "stream",
     "text": [
      "Downloading data for APTV\n"
     ]
    },
    {
     "name": "stderr",
     "output_type": "stream",
     "text": [
      "C:\\Users\\ngoph\\AppData\\Local\\Temp\\ipykernel_27304\\3947983937.py:18: FutureWarning: YF.download() has changed argument auto_adjust default to True\n",
      "  stock_data = yf.download(symbol, start=start_date, end=end_date)\n",
      "[*********************100%***********************]  1 of 1 completed\n"
     ]
    },
    {
     "name": "stdout",
     "output_type": "stream",
     "text": [
      "Downloading data for ACGL\n"
     ]
    },
    {
     "name": "stderr",
     "output_type": "stream",
     "text": [
      "C:\\Users\\ngoph\\AppData\\Local\\Temp\\ipykernel_27304\\3947983937.py:18: FutureWarning: YF.download() has changed argument auto_adjust default to True\n",
      "  stock_data = yf.download(symbol, start=start_date, end=end_date)\n",
      "[*********************100%***********************]  1 of 1 completed\n"
     ]
    },
    {
     "name": "stdout",
     "output_type": "stream",
     "text": [
      "Downloading data for ADM\n"
     ]
    },
    {
     "name": "stderr",
     "output_type": "stream",
     "text": [
      "C:\\Users\\ngoph\\AppData\\Local\\Temp\\ipykernel_27304\\3947983937.py:18: FutureWarning: YF.download() has changed argument auto_adjust default to True\n",
      "  stock_data = yf.download(symbol, start=start_date, end=end_date)\n",
      "[*********************100%***********************]  1 of 1 completed\n"
     ]
    },
    {
     "name": "stdout",
     "output_type": "stream",
     "text": [
      "Downloading data for ANET\n"
     ]
    },
    {
     "name": "stderr",
     "output_type": "stream",
     "text": [
      "C:\\Users\\ngoph\\AppData\\Local\\Temp\\ipykernel_27304\\3947983937.py:18: FutureWarning: YF.download() has changed argument auto_adjust default to True\n",
      "  stock_data = yf.download(symbol, start=start_date, end=end_date)\n",
      "[*********************100%***********************]  1 of 1 completed\n"
     ]
    },
    {
     "name": "stdout",
     "output_type": "stream",
     "text": [
      "Downloading data for AJG\n"
     ]
    },
    {
     "name": "stderr",
     "output_type": "stream",
     "text": [
      "C:\\Users\\ngoph\\AppData\\Local\\Temp\\ipykernel_27304\\3947983937.py:18: FutureWarning: YF.download() has changed argument auto_adjust default to True\n",
      "  stock_data = yf.download(symbol, start=start_date, end=end_date)\n",
      "[*********************100%***********************]  1 of 1 completed\n"
     ]
    },
    {
     "name": "stdout",
     "output_type": "stream",
     "text": [
      "Downloading data for AIZ\n"
     ]
    },
    {
     "name": "stderr",
     "output_type": "stream",
     "text": [
      "C:\\Users\\ngoph\\AppData\\Local\\Temp\\ipykernel_27304\\3947983937.py:18: FutureWarning: YF.download() has changed argument auto_adjust default to True\n",
      "  stock_data = yf.download(symbol, start=start_date, end=end_date)\n",
      "[*********************100%***********************]  1 of 1 completed\n"
     ]
    },
    {
     "name": "stdout",
     "output_type": "stream",
     "text": [
      "Downloading data for T\n"
     ]
    },
    {
     "name": "stderr",
     "output_type": "stream",
     "text": [
      "C:\\Users\\ngoph\\AppData\\Local\\Temp\\ipykernel_27304\\3947983937.py:18: FutureWarning: YF.download() has changed argument auto_adjust default to True\n",
      "  stock_data = yf.download(symbol, start=start_date, end=end_date)\n",
      "[*********************100%***********************]  1 of 1 completed\n"
     ]
    },
    {
     "name": "stdout",
     "output_type": "stream",
     "text": [
      "Downloading data for ATO\n"
     ]
    },
    {
     "name": "stderr",
     "output_type": "stream",
     "text": [
      "C:\\Users\\ngoph\\AppData\\Local\\Temp\\ipykernel_27304\\3947983937.py:18: FutureWarning: YF.download() has changed argument auto_adjust default to True\n",
      "  stock_data = yf.download(symbol, start=start_date, end=end_date)\n",
      "[*********************100%***********************]  1 of 1 completed\n"
     ]
    },
    {
     "name": "stdout",
     "output_type": "stream",
     "text": [
      "Downloading data for ADSK\n"
     ]
    },
    {
     "name": "stderr",
     "output_type": "stream",
     "text": [
      "C:\\Users\\ngoph\\AppData\\Local\\Temp\\ipykernel_27304\\3947983937.py:18: FutureWarning: YF.download() has changed argument auto_adjust default to True\n",
      "  stock_data = yf.download(symbol, start=start_date, end=end_date)\n",
      "[*********************100%***********************]  1 of 1 completed\n"
     ]
    },
    {
     "name": "stdout",
     "output_type": "stream",
     "text": [
      "Downloading data for ADP\n"
     ]
    },
    {
     "name": "stderr",
     "output_type": "stream",
     "text": [
      "C:\\Users\\ngoph\\AppData\\Local\\Temp\\ipykernel_27304\\3947983937.py:18: FutureWarning: YF.download() has changed argument auto_adjust default to True\n",
      "  stock_data = yf.download(symbol, start=start_date, end=end_date)\n",
      "[*********************100%***********************]  1 of 1 completed\n"
     ]
    },
    {
     "name": "stdout",
     "output_type": "stream",
     "text": [
      "Downloading data for AZO\n"
     ]
    },
    {
     "name": "stderr",
     "output_type": "stream",
     "text": [
      "C:\\Users\\ngoph\\AppData\\Local\\Temp\\ipykernel_27304\\3947983937.py:18: FutureWarning: YF.download() has changed argument auto_adjust default to True\n",
      "  stock_data = yf.download(symbol, start=start_date, end=end_date)\n",
      "[*********************100%***********************]  1 of 1 completed\n"
     ]
    },
    {
     "name": "stdout",
     "output_type": "stream",
     "text": [
      "Downloading data for AVB\n"
     ]
    },
    {
     "name": "stderr",
     "output_type": "stream",
     "text": [
      "C:\\Users\\ngoph\\AppData\\Local\\Temp\\ipykernel_27304\\3947983937.py:18: FutureWarning: YF.download() has changed argument auto_adjust default to True\n",
      "  stock_data = yf.download(symbol, start=start_date, end=end_date)\n",
      "[*********************100%***********************]  1 of 1 completed\n"
     ]
    },
    {
     "name": "stdout",
     "output_type": "stream",
     "text": [
      "Downloading data for AVY\n"
     ]
    },
    {
     "name": "stderr",
     "output_type": "stream",
     "text": [
      "C:\\Users\\ngoph\\AppData\\Local\\Temp\\ipykernel_27304\\3947983937.py:18: FutureWarning: YF.download() has changed argument auto_adjust default to True\n",
      "  stock_data = yf.download(symbol, start=start_date, end=end_date)\n",
      "[*********************100%***********************]  1 of 1 completed\n"
     ]
    },
    {
     "name": "stdout",
     "output_type": "stream",
     "text": [
      "Downloading data for AXON\n"
     ]
    },
    {
     "name": "stderr",
     "output_type": "stream",
     "text": [
      "C:\\Users\\ngoph\\AppData\\Local\\Temp\\ipykernel_27304\\3947983937.py:18: FutureWarning: YF.download() has changed argument auto_adjust default to True\n",
      "  stock_data = yf.download(symbol, start=start_date, end=end_date)\n",
      "[*********************100%***********************]  1 of 1 completed\n"
     ]
    },
    {
     "name": "stdout",
     "output_type": "stream",
     "text": [
      "Downloading data for BKR\n"
     ]
    },
    {
     "name": "stderr",
     "output_type": "stream",
     "text": [
      "C:\\Users\\ngoph\\AppData\\Local\\Temp\\ipykernel_27304\\3947983937.py:18: FutureWarning: YF.download() has changed argument auto_adjust default to True\n",
      "  stock_data = yf.download(symbol, start=start_date, end=end_date)\n",
      "[*********************100%***********************]  1 of 1 completed\n"
     ]
    },
    {
     "name": "stdout",
     "output_type": "stream",
     "text": [
      "Downloading data for BALL\n"
     ]
    },
    {
     "name": "stderr",
     "output_type": "stream",
     "text": [
      "C:\\Users\\ngoph\\AppData\\Local\\Temp\\ipykernel_27304\\3947983937.py:18: FutureWarning: YF.download() has changed argument auto_adjust default to True\n",
      "  stock_data = yf.download(symbol, start=start_date, end=end_date)\n",
      "[*********************100%***********************]  1 of 1 completed\n"
     ]
    },
    {
     "name": "stdout",
     "output_type": "stream",
     "text": [
      "Downloading data for BAC\n"
     ]
    },
    {
     "name": "stderr",
     "output_type": "stream",
     "text": [
      "C:\\Users\\ngoph\\AppData\\Local\\Temp\\ipykernel_27304\\3947983937.py:18: FutureWarning: YF.download() has changed argument auto_adjust default to True\n",
      "  stock_data = yf.download(symbol, start=start_date, end=end_date)\n",
      "[*********************100%***********************]  1 of 1 completed\n"
     ]
    },
    {
     "name": "stdout",
     "output_type": "stream",
     "text": [
      "Downloading data for BAX\n"
     ]
    },
    {
     "name": "stderr",
     "output_type": "stream",
     "text": [
      "C:\\Users\\ngoph\\AppData\\Local\\Temp\\ipykernel_27304\\3947983937.py:18: FutureWarning: YF.download() has changed argument auto_adjust default to True\n",
      "  stock_data = yf.download(symbol, start=start_date, end=end_date)\n",
      "[*********************100%***********************]  1 of 1 completed\n"
     ]
    },
    {
     "name": "stdout",
     "output_type": "stream",
     "text": [
      "Downloading data for BDX\n"
     ]
    },
    {
     "name": "stderr",
     "output_type": "stream",
     "text": [
      "C:\\Users\\ngoph\\AppData\\Local\\Temp\\ipykernel_27304\\3947983937.py:18: FutureWarning: YF.download() has changed argument auto_adjust default to True\n",
      "  stock_data = yf.download(symbol, start=start_date, end=end_date)\n",
      "[*********************100%***********************]  1 of 1 completed\n"
     ]
    },
    {
     "name": "stdout",
     "output_type": "stream",
     "text": [
      "Downloading data for BRK.B\n"
     ]
    },
    {
     "name": "stderr",
     "output_type": "stream",
     "text": [
      "C:\\Users\\ngoph\\AppData\\Local\\Temp\\ipykernel_27304\\3947983937.py:18: FutureWarning: YF.download() has changed argument auto_adjust default to True\n",
      "  stock_data = yf.download(symbol, start=start_date, end=end_date)\n",
      "[*********************100%***********************]  1 of 1 completed\n",
      "\n",
      "1 Failed download:\n",
      "['BRK.B']: YFTzMissingError('possibly delisted; no timezone found')\n"
     ]
    },
    {
     "name": "stdout",
     "output_type": "stream",
     "text": [
      "Downloading data for BBY\n"
     ]
    },
    {
     "name": "stderr",
     "output_type": "stream",
     "text": [
      "C:\\Users\\ngoph\\AppData\\Local\\Temp\\ipykernel_27304\\3947983937.py:18: FutureWarning: YF.download() has changed argument auto_adjust default to True\n",
      "  stock_data = yf.download(symbol, start=start_date, end=end_date)\n",
      "[*********************100%***********************]  1 of 1 completed\n"
     ]
    },
    {
     "name": "stdout",
     "output_type": "stream",
     "text": [
      "Downloading data for TECH\n"
     ]
    },
    {
     "name": "stderr",
     "output_type": "stream",
     "text": [
      "C:\\Users\\ngoph\\AppData\\Local\\Temp\\ipykernel_27304\\3947983937.py:18: FutureWarning: YF.download() has changed argument auto_adjust default to True\n",
      "  stock_data = yf.download(symbol, start=start_date, end=end_date)\n",
      "[*********************100%***********************]  1 of 1 completed\n"
     ]
    },
    {
     "name": "stdout",
     "output_type": "stream",
     "text": [
      "Downloading data for BIIB\n"
     ]
    },
    {
     "name": "stderr",
     "output_type": "stream",
     "text": [
      "C:\\Users\\ngoph\\AppData\\Local\\Temp\\ipykernel_27304\\3947983937.py:18: FutureWarning: YF.download() has changed argument auto_adjust default to True\n",
      "  stock_data = yf.download(symbol, start=start_date, end=end_date)\n",
      "[*********************100%***********************]  1 of 1 completed\n"
     ]
    },
    {
     "name": "stdout",
     "output_type": "stream",
     "text": [
      "Downloading data for BLK\n"
     ]
    },
    {
     "name": "stderr",
     "output_type": "stream",
     "text": [
      "C:\\Users\\ngoph\\AppData\\Local\\Temp\\ipykernel_27304\\3947983937.py:18: FutureWarning: YF.download() has changed argument auto_adjust default to True\n",
      "  stock_data = yf.download(symbol, start=start_date, end=end_date)\n",
      "[*********************100%***********************]  1 of 1 completed\n"
     ]
    },
    {
     "name": "stdout",
     "output_type": "stream",
     "text": [
      "Downloading data for BX\n"
     ]
    },
    {
     "name": "stderr",
     "output_type": "stream",
     "text": [
      "C:\\Users\\ngoph\\AppData\\Local\\Temp\\ipykernel_27304\\3947983937.py:18: FutureWarning: YF.download() has changed argument auto_adjust default to True\n",
      "  stock_data = yf.download(symbol, start=start_date, end=end_date)\n",
      "[*********************100%***********************]  1 of 1 completed\n"
     ]
    },
    {
     "name": "stdout",
     "output_type": "stream",
     "text": [
      "Downloading data for XYZ\n"
     ]
    },
    {
     "name": "stderr",
     "output_type": "stream",
     "text": [
      "C:\\Users\\ngoph\\AppData\\Local\\Temp\\ipykernel_27304\\3947983937.py:18: FutureWarning: YF.download() has changed argument auto_adjust default to True\n",
      "  stock_data = yf.download(symbol, start=start_date, end=end_date)\n",
      "[*********************100%***********************]  1 of 1 completed\n"
     ]
    },
    {
     "name": "stdout",
     "output_type": "stream",
     "text": [
      "Downloading data for BK\n"
     ]
    },
    {
     "name": "stderr",
     "output_type": "stream",
     "text": [
      "C:\\Users\\ngoph\\AppData\\Local\\Temp\\ipykernel_27304\\3947983937.py:18: FutureWarning: YF.download() has changed argument auto_adjust default to True\n",
      "  stock_data = yf.download(symbol, start=start_date, end=end_date)\n",
      "[*********************100%***********************]  1 of 1 completed\n"
     ]
    },
    {
     "name": "stdout",
     "output_type": "stream",
     "text": [
      "Downloading data for BA\n"
     ]
    },
    {
     "name": "stderr",
     "output_type": "stream",
     "text": [
      "C:\\Users\\ngoph\\AppData\\Local\\Temp\\ipykernel_27304\\3947983937.py:18: FutureWarning: YF.download() has changed argument auto_adjust default to True\n",
      "  stock_data = yf.download(symbol, start=start_date, end=end_date)\n",
      "[*********************100%***********************]  1 of 1 completed\n"
     ]
    },
    {
     "name": "stdout",
     "output_type": "stream",
     "text": [
      "Downloading data for BKNG\n"
     ]
    },
    {
     "name": "stderr",
     "output_type": "stream",
     "text": [
      "C:\\Users\\ngoph\\AppData\\Local\\Temp\\ipykernel_27304\\3947983937.py:18: FutureWarning: YF.download() has changed argument auto_adjust default to True\n",
      "  stock_data = yf.download(symbol, start=start_date, end=end_date)\n",
      "[*********************100%***********************]  1 of 1 completed\n"
     ]
    },
    {
     "name": "stdout",
     "output_type": "stream",
     "text": [
      "Downloading data for BSX\n"
     ]
    },
    {
     "name": "stderr",
     "output_type": "stream",
     "text": [
      "C:\\Users\\ngoph\\AppData\\Local\\Temp\\ipykernel_27304\\3947983937.py:18: FutureWarning: YF.download() has changed argument auto_adjust default to True\n",
      "  stock_data = yf.download(symbol, start=start_date, end=end_date)\n",
      "[*********************100%***********************]  1 of 1 completed\n"
     ]
    },
    {
     "name": "stdout",
     "output_type": "stream",
     "text": [
      "Downloading data for BMY\n"
     ]
    },
    {
     "name": "stderr",
     "output_type": "stream",
     "text": [
      "C:\\Users\\ngoph\\AppData\\Local\\Temp\\ipykernel_27304\\3947983937.py:18: FutureWarning: YF.download() has changed argument auto_adjust default to True\n",
      "  stock_data = yf.download(symbol, start=start_date, end=end_date)\n",
      "[*********************100%***********************]  1 of 1 completed\n"
     ]
    },
    {
     "name": "stdout",
     "output_type": "stream",
     "text": [
      "Downloading data for AVGO\n"
     ]
    },
    {
     "name": "stderr",
     "output_type": "stream",
     "text": [
      "C:\\Users\\ngoph\\AppData\\Local\\Temp\\ipykernel_27304\\3947983937.py:18: FutureWarning: YF.download() has changed argument auto_adjust default to True\n",
      "  stock_data = yf.download(symbol, start=start_date, end=end_date)\n",
      "[*********************100%***********************]  1 of 1 completed\n"
     ]
    },
    {
     "name": "stdout",
     "output_type": "stream",
     "text": [
      "Downloading data for BR\n"
     ]
    },
    {
     "name": "stderr",
     "output_type": "stream",
     "text": [
      "C:\\Users\\ngoph\\AppData\\Local\\Temp\\ipykernel_27304\\3947983937.py:18: FutureWarning: YF.download() has changed argument auto_adjust default to True\n",
      "  stock_data = yf.download(symbol, start=start_date, end=end_date)\n",
      "[*********************100%***********************]  1 of 1 completed\n"
     ]
    },
    {
     "name": "stdout",
     "output_type": "stream",
     "text": [
      "Downloading data for BRO\n"
     ]
    },
    {
     "name": "stderr",
     "output_type": "stream",
     "text": [
      "C:\\Users\\ngoph\\AppData\\Local\\Temp\\ipykernel_27304\\3947983937.py:18: FutureWarning: YF.download() has changed argument auto_adjust default to True\n",
      "  stock_data = yf.download(symbol, start=start_date, end=end_date)\n",
      "[*********************100%***********************]  1 of 1 completed\n"
     ]
    },
    {
     "name": "stdout",
     "output_type": "stream",
     "text": [
      "Downloading data for BF.B\n"
     ]
    },
    {
     "name": "stderr",
     "output_type": "stream",
     "text": [
      "C:\\Users\\ngoph\\AppData\\Local\\Temp\\ipykernel_27304\\3947983937.py:18: FutureWarning: YF.download() has changed argument auto_adjust default to True\n",
      "  stock_data = yf.download(symbol, start=start_date, end=end_date)\n",
      "[*********************100%***********************]  1 of 1 completed\n",
      "\n",
      "1 Failed download:\n",
      "['BF.B']: YFPricesMissingError('possibly delisted; no price data found  (1d 2015-01-01 -> 2025-01-01)')\n"
     ]
    },
    {
     "name": "stdout",
     "output_type": "stream",
     "text": [
      "Downloading data for BLDR\n"
     ]
    },
    {
     "name": "stderr",
     "output_type": "stream",
     "text": [
      "C:\\Users\\ngoph\\AppData\\Local\\Temp\\ipykernel_27304\\3947983937.py:18: FutureWarning: YF.download() has changed argument auto_adjust default to True\n",
      "  stock_data = yf.download(symbol, start=start_date, end=end_date)\n",
      "[*********************100%***********************]  1 of 1 completed\n"
     ]
    },
    {
     "name": "stdout",
     "output_type": "stream",
     "text": [
      "Downloading data for BG\n"
     ]
    },
    {
     "name": "stderr",
     "output_type": "stream",
     "text": [
      "C:\\Users\\ngoph\\AppData\\Local\\Temp\\ipykernel_27304\\3947983937.py:18: FutureWarning: YF.download() has changed argument auto_adjust default to True\n",
      "  stock_data = yf.download(symbol, start=start_date, end=end_date)\n",
      "[*********************100%***********************]  1 of 1 completed\n"
     ]
    },
    {
     "name": "stdout",
     "output_type": "stream",
     "text": [
      "Downloading data for BXP\n"
     ]
    },
    {
     "name": "stderr",
     "output_type": "stream",
     "text": [
      "C:\\Users\\ngoph\\AppData\\Local\\Temp\\ipykernel_27304\\3947983937.py:18: FutureWarning: YF.download() has changed argument auto_adjust default to True\n",
      "  stock_data = yf.download(symbol, start=start_date, end=end_date)\n",
      "[*********************100%***********************]  1 of 1 completed\n"
     ]
    },
    {
     "name": "stdout",
     "output_type": "stream",
     "text": [
      "Downloading data for CHRW\n"
     ]
    },
    {
     "name": "stderr",
     "output_type": "stream",
     "text": [
      "C:\\Users\\ngoph\\AppData\\Local\\Temp\\ipykernel_27304\\3947983937.py:18: FutureWarning: YF.download() has changed argument auto_adjust default to True\n",
      "  stock_data = yf.download(symbol, start=start_date, end=end_date)\n",
      "[*********************100%***********************]  1 of 1 completed\n"
     ]
    },
    {
     "name": "stdout",
     "output_type": "stream",
     "text": [
      "Downloading data for CDNS\n"
     ]
    },
    {
     "name": "stderr",
     "output_type": "stream",
     "text": [
      "C:\\Users\\ngoph\\AppData\\Local\\Temp\\ipykernel_27304\\3947983937.py:18: FutureWarning: YF.download() has changed argument auto_adjust default to True\n",
      "  stock_data = yf.download(symbol, start=start_date, end=end_date)\n",
      "[*********************100%***********************]  1 of 1 completed\n"
     ]
    },
    {
     "name": "stdout",
     "output_type": "stream",
     "text": [
      "Downloading data for CZR\n"
     ]
    },
    {
     "name": "stderr",
     "output_type": "stream",
     "text": [
      "C:\\Users\\ngoph\\AppData\\Local\\Temp\\ipykernel_27304\\3947983937.py:18: FutureWarning: YF.download() has changed argument auto_adjust default to True\n",
      "  stock_data = yf.download(symbol, start=start_date, end=end_date)\n",
      "[*********************100%***********************]  1 of 1 completed\n"
     ]
    },
    {
     "name": "stdout",
     "output_type": "stream",
     "text": [
      "Downloading data for CPT\n"
     ]
    },
    {
     "name": "stderr",
     "output_type": "stream",
     "text": [
      "C:\\Users\\ngoph\\AppData\\Local\\Temp\\ipykernel_27304\\3947983937.py:18: FutureWarning: YF.download() has changed argument auto_adjust default to True\n",
      "  stock_data = yf.download(symbol, start=start_date, end=end_date)\n",
      "[*********************100%***********************]  1 of 1 completed\n"
     ]
    },
    {
     "name": "stdout",
     "output_type": "stream",
     "text": [
      "Downloading data for CPB\n"
     ]
    },
    {
     "name": "stderr",
     "output_type": "stream",
     "text": [
      "C:\\Users\\ngoph\\AppData\\Local\\Temp\\ipykernel_27304\\3947983937.py:18: FutureWarning: YF.download() has changed argument auto_adjust default to True\n",
      "  stock_data = yf.download(symbol, start=start_date, end=end_date)\n",
      "[*********************100%***********************]  1 of 1 completed\n"
     ]
    },
    {
     "name": "stdout",
     "output_type": "stream",
     "text": [
      "Downloading data for COF\n"
     ]
    },
    {
     "name": "stderr",
     "output_type": "stream",
     "text": [
      "C:\\Users\\ngoph\\AppData\\Local\\Temp\\ipykernel_27304\\3947983937.py:18: FutureWarning: YF.download() has changed argument auto_adjust default to True\n",
      "  stock_data = yf.download(symbol, start=start_date, end=end_date)\n",
      "[*********************100%***********************]  1 of 1 completed\n"
     ]
    },
    {
     "name": "stdout",
     "output_type": "stream",
     "text": [
      "Downloading data for CAH\n"
     ]
    },
    {
     "name": "stderr",
     "output_type": "stream",
     "text": [
      "C:\\Users\\ngoph\\AppData\\Local\\Temp\\ipykernel_27304\\3947983937.py:18: FutureWarning: YF.download() has changed argument auto_adjust default to True\n",
      "  stock_data = yf.download(symbol, start=start_date, end=end_date)\n",
      "[*********************100%***********************]  1 of 1 completed\n"
     ]
    },
    {
     "name": "stdout",
     "output_type": "stream",
     "text": [
      "Downloading data for KMX\n"
     ]
    },
    {
     "name": "stderr",
     "output_type": "stream",
     "text": [
      "C:\\Users\\ngoph\\AppData\\Local\\Temp\\ipykernel_27304\\3947983937.py:18: FutureWarning: YF.download() has changed argument auto_adjust default to True\n",
      "  stock_data = yf.download(symbol, start=start_date, end=end_date)\n",
      "[*********************100%***********************]  1 of 1 completed\n"
     ]
    },
    {
     "name": "stdout",
     "output_type": "stream",
     "text": [
      "Downloading data for CCL\n"
     ]
    },
    {
     "name": "stderr",
     "output_type": "stream",
     "text": [
      "C:\\Users\\ngoph\\AppData\\Local\\Temp\\ipykernel_27304\\3947983937.py:18: FutureWarning: YF.download() has changed argument auto_adjust default to True\n",
      "  stock_data = yf.download(symbol, start=start_date, end=end_date)\n",
      "[*********************100%***********************]  1 of 1 completed\n"
     ]
    },
    {
     "name": "stdout",
     "output_type": "stream",
     "text": [
      "Downloading data for CARR\n"
     ]
    },
    {
     "name": "stderr",
     "output_type": "stream",
     "text": [
      "C:\\Users\\ngoph\\AppData\\Local\\Temp\\ipykernel_27304\\3947983937.py:18: FutureWarning: YF.download() has changed argument auto_adjust default to True\n",
      "  stock_data = yf.download(symbol, start=start_date, end=end_date)\n",
      "[*********************100%***********************]  1 of 1 completed\n"
     ]
    },
    {
     "name": "stdout",
     "output_type": "stream",
     "text": [
      "Downloading data for CAT\n"
     ]
    },
    {
     "name": "stderr",
     "output_type": "stream",
     "text": [
      "C:\\Users\\ngoph\\AppData\\Local\\Temp\\ipykernel_27304\\3947983937.py:18: FutureWarning: YF.download() has changed argument auto_adjust default to True\n",
      "  stock_data = yf.download(symbol, start=start_date, end=end_date)\n",
      "[*********************100%***********************]  1 of 1 completed\n"
     ]
    },
    {
     "name": "stdout",
     "output_type": "stream",
     "text": [
      "Downloading data for CBOE\n"
     ]
    },
    {
     "name": "stderr",
     "output_type": "stream",
     "text": [
      "C:\\Users\\ngoph\\AppData\\Local\\Temp\\ipykernel_27304\\3947983937.py:18: FutureWarning: YF.download() has changed argument auto_adjust default to True\n",
      "  stock_data = yf.download(symbol, start=start_date, end=end_date)\n",
      "[*********************100%***********************]  1 of 1 completed\n"
     ]
    },
    {
     "name": "stdout",
     "output_type": "stream",
     "text": [
      "Downloading data for CBRE\n"
     ]
    },
    {
     "name": "stderr",
     "output_type": "stream",
     "text": [
      "C:\\Users\\ngoph\\AppData\\Local\\Temp\\ipykernel_27304\\3947983937.py:18: FutureWarning: YF.download() has changed argument auto_adjust default to True\n",
      "  stock_data = yf.download(symbol, start=start_date, end=end_date)\n",
      "[*********************100%***********************]  1 of 1 completed\n"
     ]
    },
    {
     "name": "stdout",
     "output_type": "stream",
     "text": [
      "Downloading data for CDW\n"
     ]
    },
    {
     "name": "stderr",
     "output_type": "stream",
     "text": [
      "C:\\Users\\ngoph\\AppData\\Local\\Temp\\ipykernel_27304\\3947983937.py:18: FutureWarning: YF.download() has changed argument auto_adjust default to True\n",
      "  stock_data = yf.download(symbol, start=start_date, end=end_date)\n",
      "[*********************100%***********************]  1 of 1 completed\n"
     ]
    },
    {
     "name": "stdout",
     "output_type": "stream",
     "text": [
      "Downloading data for COR\n"
     ]
    },
    {
     "name": "stderr",
     "output_type": "stream",
     "text": [
      "C:\\Users\\ngoph\\AppData\\Local\\Temp\\ipykernel_27304\\3947983937.py:18: FutureWarning: YF.download() has changed argument auto_adjust default to True\n",
      "  stock_data = yf.download(symbol, start=start_date, end=end_date)\n",
      "[*********************100%***********************]  1 of 1 completed\n"
     ]
    },
    {
     "name": "stdout",
     "output_type": "stream",
     "text": [
      "Downloading data for CNC\n"
     ]
    },
    {
     "name": "stderr",
     "output_type": "stream",
     "text": [
      "C:\\Users\\ngoph\\AppData\\Local\\Temp\\ipykernel_27304\\3947983937.py:18: FutureWarning: YF.download() has changed argument auto_adjust default to True\n",
      "  stock_data = yf.download(symbol, start=start_date, end=end_date)\n",
      "[*********************100%***********************]  1 of 1 completed\n"
     ]
    },
    {
     "name": "stdout",
     "output_type": "stream",
     "text": [
      "Downloading data for CNP\n"
     ]
    },
    {
     "name": "stderr",
     "output_type": "stream",
     "text": [
      "C:\\Users\\ngoph\\AppData\\Local\\Temp\\ipykernel_27304\\3947983937.py:18: FutureWarning: YF.download() has changed argument auto_adjust default to True\n",
      "  stock_data = yf.download(symbol, start=start_date, end=end_date)\n",
      "[*********************100%***********************]  1 of 1 completed\n"
     ]
    },
    {
     "name": "stdout",
     "output_type": "stream",
     "text": [
      "Downloading data for CF\n"
     ]
    },
    {
     "name": "stderr",
     "output_type": "stream",
     "text": [
      "C:\\Users\\ngoph\\AppData\\Local\\Temp\\ipykernel_27304\\3947983937.py:18: FutureWarning: YF.download() has changed argument auto_adjust default to True\n",
      "  stock_data = yf.download(symbol, start=start_date, end=end_date)\n",
      "[*********************100%***********************]  1 of 1 completed\n"
     ]
    },
    {
     "name": "stdout",
     "output_type": "stream",
     "text": [
      "Downloading data for CRL\n"
     ]
    },
    {
     "name": "stderr",
     "output_type": "stream",
     "text": [
      "C:\\Users\\ngoph\\AppData\\Local\\Temp\\ipykernel_27304\\3947983937.py:18: FutureWarning: YF.download() has changed argument auto_adjust default to True\n",
      "  stock_data = yf.download(symbol, start=start_date, end=end_date)\n",
      "[*********************100%***********************]  1 of 1 completed\n"
     ]
    },
    {
     "name": "stdout",
     "output_type": "stream",
     "text": [
      "Downloading data for SCHW\n"
     ]
    },
    {
     "name": "stderr",
     "output_type": "stream",
     "text": [
      "C:\\Users\\ngoph\\AppData\\Local\\Temp\\ipykernel_27304\\3947983937.py:18: FutureWarning: YF.download() has changed argument auto_adjust default to True\n",
      "  stock_data = yf.download(symbol, start=start_date, end=end_date)\n",
      "[*********************100%***********************]  1 of 1 completed\n"
     ]
    },
    {
     "name": "stdout",
     "output_type": "stream",
     "text": [
      "Downloading data for CHTR\n"
     ]
    },
    {
     "name": "stderr",
     "output_type": "stream",
     "text": [
      "C:\\Users\\ngoph\\AppData\\Local\\Temp\\ipykernel_27304\\3947983937.py:18: FutureWarning: YF.download() has changed argument auto_adjust default to True\n",
      "  stock_data = yf.download(symbol, start=start_date, end=end_date)\n",
      "[*********************100%***********************]  1 of 1 completed\n"
     ]
    },
    {
     "name": "stdout",
     "output_type": "stream",
     "text": [
      "Downloading data for CVX\n"
     ]
    },
    {
     "name": "stderr",
     "output_type": "stream",
     "text": [
      "C:\\Users\\ngoph\\AppData\\Local\\Temp\\ipykernel_27304\\3947983937.py:18: FutureWarning: YF.download() has changed argument auto_adjust default to True\n",
      "  stock_data = yf.download(symbol, start=start_date, end=end_date)\n",
      "[*********************100%***********************]  1 of 1 completed\n"
     ]
    },
    {
     "name": "stdout",
     "output_type": "stream",
     "text": [
      "Downloading data for CMG\n"
     ]
    },
    {
     "name": "stderr",
     "output_type": "stream",
     "text": [
      "C:\\Users\\ngoph\\AppData\\Local\\Temp\\ipykernel_27304\\3947983937.py:18: FutureWarning: YF.download() has changed argument auto_adjust default to True\n",
      "  stock_data = yf.download(symbol, start=start_date, end=end_date)\n",
      "[*********************100%***********************]  1 of 1 completed\n"
     ]
    },
    {
     "name": "stdout",
     "output_type": "stream",
     "text": [
      "Downloading data for CB\n"
     ]
    },
    {
     "name": "stderr",
     "output_type": "stream",
     "text": [
      "C:\\Users\\ngoph\\AppData\\Local\\Temp\\ipykernel_27304\\3947983937.py:18: FutureWarning: YF.download() has changed argument auto_adjust default to True\n",
      "  stock_data = yf.download(symbol, start=start_date, end=end_date)\n",
      "[*********************100%***********************]  1 of 1 completed\n"
     ]
    },
    {
     "name": "stdout",
     "output_type": "stream",
     "text": [
      "Downloading data for CHD\n"
     ]
    },
    {
     "name": "stderr",
     "output_type": "stream",
     "text": [
      "C:\\Users\\ngoph\\AppData\\Local\\Temp\\ipykernel_27304\\3947983937.py:18: FutureWarning: YF.download() has changed argument auto_adjust default to True\n",
      "  stock_data = yf.download(symbol, start=start_date, end=end_date)\n",
      "[*********************100%***********************]  1 of 1 completed\n"
     ]
    },
    {
     "name": "stdout",
     "output_type": "stream",
     "text": [
      "Downloading data for CI\n"
     ]
    },
    {
     "name": "stderr",
     "output_type": "stream",
     "text": [
      "C:\\Users\\ngoph\\AppData\\Local\\Temp\\ipykernel_27304\\3947983937.py:18: FutureWarning: YF.download() has changed argument auto_adjust default to True\n",
      "  stock_data = yf.download(symbol, start=start_date, end=end_date)\n",
      "[*********************100%***********************]  1 of 1 completed\n"
     ]
    },
    {
     "name": "stdout",
     "output_type": "stream",
     "text": [
      "Downloading data for CINF\n"
     ]
    },
    {
     "name": "stderr",
     "output_type": "stream",
     "text": [
      "C:\\Users\\ngoph\\AppData\\Local\\Temp\\ipykernel_27304\\3947983937.py:18: FutureWarning: YF.download() has changed argument auto_adjust default to True\n",
      "  stock_data = yf.download(symbol, start=start_date, end=end_date)\n",
      "[*********************100%***********************]  1 of 1 completed\n"
     ]
    },
    {
     "name": "stdout",
     "output_type": "stream",
     "text": [
      "Downloading data for CTAS\n"
     ]
    },
    {
     "name": "stderr",
     "output_type": "stream",
     "text": [
      "C:\\Users\\ngoph\\AppData\\Local\\Temp\\ipykernel_27304\\3947983937.py:18: FutureWarning: YF.download() has changed argument auto_adjust default to True\n",
      "  stock_data = yf.download(symbol, start=start_date, end=end_date)\n",
      "[*********************100%***********************]  1 of 1 completed\n"
     ]
    },
    {
     "name": "stdout",
     "output_type": "stream",
     "text": [
      "Downloading data for CSCO\n"
     ]
    },
    {
     "name": "stderr",
     "output_type": "stream",
     "text": [
      "C:\\Users\\ngoph\\AppData\\Local\\Temp\\ipykernel_27304\\3947983937.py:18: FutureWarning: YF.download() has changed argument auto_adjust default to True\n",
      "  stock_data = yf.download(symbol, start=start_date, end=end_date)\n",
      "[*********************100%***********************]  1 of 1 completed\n"
     ]
    },
    {
     "name": "stdout",
     "output_type": "stream",
     "text": [
      "Downloading data for C\n"
     ]
    },
    {
     "name": "stderr",
     "output_type": "stream",
     "text": [
      "C:\\Users\\ngoph\\AppData\\Local\\Temp\\ipykernel_27304\\3947983937.py:18: FutureWarning: YF.download() has changed argument auto_adjust default to True\n",
      "  stock_data = yf.download(symbol, start=start_date, end=end_date)\n",
      "[*********************100%***********************]  1 of 1 completed\n"
     ]
    },
    {
     "name": "stdout",
     "output_type": "stream",
     "text": [
      "Downloading data for CFG\n"
     ]
    },
    {
     "name": "stderr",
     "output_type": "stream",
     "text": [
      "C:\\Users\\ngoph\\AppData\\Local\\Temp\\ipykernel_27304\\3947983937.py:18: FutureWarning: YF.download() has changed argument auto_adjust default to True\n",
      "  stock_data = yf.download(symbol, start=start_date, end=end_date)\n",
      "[*********************100%***********************]  1 of 1 completed\n"
     ]
    },
    {
     "name": "stdout",
     "output_type": "stream",
     "text": [
      "Downloading data for CLX\n"
     ]
    },
    {
     "name": "stderr",
     "output_type": "stream",
     "text": [
      "C:\\Users\\ngoph\\AppData\\Local\\Temp\\ipykernel_27304\\3947983937.py:18: FutureWarning: YF.download() has changed argument auto_adjust default to True\n",
      "  stock_data = yf.download(symbol, start=start_date, end=end_date)\n",
      "[*********************100%***********************]  1 of 1 completed\n"
     ]
    },
    {
     "name": "stdout",
     "output_type": "stream",
     "text": [
      "Downloading data for CME\n"
     ]
    },
    {
     "name": "stderr",
     "output_type": "stream",
     "text": [
      "C:\\Users\\ngoph\\AppData\\Local\\Temp\\ipykernel_27304\\3947983937.py:18: FutureWarning: YF.download() has changed argument auto_adjust default to True\n",
      "  stock_data = yf.download(symbol, start=start_date, end=end_date)\n",
      "[*********************100%***********************]  1 of 1 completed\n"
     ]
    },
    {
     "name": "stdout",
     "output_type": "stream",
     "text": [
      "Downloading data for CMS\n"
     ]
    },
    {
     "name": "stderr",
     "output_type": "stream",
     "text": [
      "C:\\Users\\ngoph\\AppData\\Local\\Temp\\ipykernel_27304\\3947983937.py:18: FutureWarning: YF.download() has changed argument auto_adjust default to True\n",
      "  stock_data = yf.download(symbol, start=start_date, end=end_date)\n",
      "[*********************100%***********************]  1 of 1 completed\n"
     ]
    },
    {
     "name": "stdout",
     "output_type": "stream",
     "text": [
      "Downloading data for KO\n"
     ]
    },
    {
     "name": "stderr",
     "output_type": "stream",
     "text": [
      "C:\\Users\\ngoph\\AppData\\Local\\Temp\\ipykernel_27304\\3947983937.py:18: FutureWarning: YF.download() has changed argument auto_adjust default to True\n",
      "  stock_data = yf.download(symbol, start=start_date, end=end_date)\n",
      "[*********************100%***********************]  1 of 1 completed\n"
     ]
    },
    {
     "name": "stdout",
     "output_type": "stream",
     "text": [
      "Downloading data for CTSH\n"
     ]
    },
    {
     "name": "stderr",
     "output_type": "stream",
     "text": [
      "C:\\Users\\ngoph\\AppData\\Local\\Temp\\ipykernel_27304\\3947983937.py:18: FutureWarning: YF.download() has changed argument auto_adjust default to True\n",
      "  stock_data = yf.download(symbol, start=start_date, end=end_date)\n",
      "[*********************100%***********************]  1 of 1 completed\n"
     ]
    },
    {
     "name": "stdout",
     "output_type": "stream",
     "text": [
      "Downloading data for COIN\n"
     ]
    },
    {
     "name": "stderr",
     "output_type": "stream",
     "text": [
      "C:\\Users\\ngoph\\AppData\\Local\\Temp\\ipykernel_27304\\3947983937.py:18: FutureWarning: YF.download() has changed argument auto_adjust default to True\n",
      "  stock_data = yf.download(symbol, start=start_date, end=end_date)\n",
      "[*********************100%***********************]  1 of 1 completed\n"
     ]
    },
    {
     "name": "stdout",
     "output_type": "stream",
     "text": [
      "Downloading data for CL\n"
     ]
    },
    {
     "name": "stderr",
     "output_type": "stream",
     "text": [
      "C:\\Users\\ngoph\\AppData\\Local\\Temp\\ipykernel_27304\\3947983937.py:18: FutureWarning: YF.download() has changed argument auto_adjust default to True\n",
      "  stock_data = yf.download(symbol, start=start_date, end=end_date)\n",
      "[*********************100%***********************]  1 of 1 completed\n"
     ]
    },
    {
     "name": "stdout",
     "output_type": "stream",
     "text": [
      "Downloading data for CMCSA\n"
     ]
    },
    {
     "name": "stderr",
     "output_type": "stream",
     "text": [
      "C:\\Users\\ngoph\\AppData\\Local\\Temp\\ipykernel_27304\\3947983937.py:18: FutureWarning: YF.download() has changed argument auto_adjust default to True\n",
      "  stock_data = yf.download(symbol, start=start_date, end=end_date)\n",
      "[*********************100%***********************]  1 of 1 completed\n"
     ]
    },
    {
     "name": "stdout",
     "output_type": "stream",
     "text": [
      "Downloading data for CAG\n"
     ]
    },
    {
     "name": "stderr",
     "output_type": "stream",
     "text": [
      "C:\\Users\\ngoph\\AppData\\Local\\Temp\\ipykernel_27304\\3947983937.py:18: FutureWarning: YF.download() has changed argument auto_adjust default to True\n",
      "  stock_data = yf.download(symbol, start=start_date, end=end_date)\n",
      "[*********************100%***********************]  1 of 1 completed\n"
     ]
    },
    {
     "name": "stdout",
     "output_type": "stream",
     "text": [
      "Downloading data for COP\n"
     ]
    },
    {
     "name": "stderr",
     "output_type": "stream",
     "text": [
      "C:\\Users\\ngoph\\AppData\\Local\\Temp\\ipykernel_27304\\3947983937.py:18: FutureWarning: YF.download() has changed argument auto_adjust default to True\n",
      "  stock_data = yf.download(symbol, start=start_date, end=end_date)\n",
      "[*********************100%***********************]  1 of 1 completed\n"
     ]
    },
    {
     "name": "stdout",
     "output_type": "stream",
     "text": [
      "Downloading data for ED\n"
     ]
    },
    {
     "name": "stderr",
     "output_type": "stream",
     "text": [
      "C:\\Users\\ngoph\\AppData\\Local\\Temp\\ipykernel_27304\\3947983937.py:18: FutureWarning: YF.download() has changed argument auto_adjust default to True\n",
      "  stock_data = yf.download(symbol, start=start_date, end=end_date)\n",
      "[*********************100%***********************]  1 of 1 completed\n"
     ]
    },
    {
     "name": "stdout",
     "output_type": "stream",
     "text": [
      "Downloading data for STZ\n"
     ]
    },
    {
     "name": "stderr",
     "output_type": "stream",
     "text": [
      "C:\\Users\\ngoph\\AppData\\Local\\Temp\\ipykernel_27304\\3947983937.py:18: FutureWarning: YF.download() has changed argument auto_adjust default to True\n",
      "  stock_data = yf.download(symbol, start=start_date, end=end_date)\n",
      "[*********************100%***********************]  1 of 1 completed\n"
     ]
    },
    {
     "name": "stdout",
     "output_type": "stream",
     "text": [
      "Downloading data for CEG\n"
     ]
    },
    {
     "name": "stderr",
     "output_type": "stream",
     "text": [
      "C:\\Users\\ngoph\\AppData\\Local\\Temp\\ipykernel_27304\\3947983937.py:18: FutureWarning: YF.download() has changed argument auto_adjust default to True\n",
      "  stock_data = yf.download(symbol, start=start_date, end=end_date)\n",
      "[*********************100%***********************]  1 of 1 completed\n"
     ]
    },
    {
     "name": "stdout",
     "output_type": "stream",
     "text": [
      "Downloading data for COO\n"
     ]
    },
    {
     "name": "stderr",
     "output_type": "stream",
     "text": [
      "C:\\Users\\ngoph\\AppData\\Local\\Temp\\ipykernel_27304\\3947983937.py:18: FutureWarning: YF.download() has changed argument auto_adjust default to True\n",
      "  stock_data = yf.download(symbol, start=start_date, end=end_date)\n",
      "[*********************100%***********************]  1 of 1 completed\n"
     ]
    },
    {
     "name": "stdout",
     "output_type": "stream",
     "text": [
      "Downloading data for CPRT\n"
     ]
    },
    {
     "name": "stderr",
     "output_type": "stream",
     "text": [
      "C:\\Users\\ngoph\\AppData\\Local\\Temp\\ipykernel_27304\\3947983937.py:18: FutureWarning: YF.download() has changed argument auto_adjust default to True\n",
      "  stock_data = yf.download(symbol, start=start_date, end=end_date)\n",
      "[*********************100%***********************]  1 of 1 completed\n"
     ]
    },
    {
     "name": "stdout",
     "output_type": "stream",
     "text": [
      "Downloading data for GLW\n"
     ]
    },
    {
     "name": "stderr",
     "output_type": "stream",
     "text": [
      "C:\\Users\\ngoph\\AppData\\Local\\Temp\\ipykernel_27304\\3947983937.py:18: FutureWarning: YF.download() has changed argument auto_adjust default to True\n",
      "  stock_data = yf.download(symbol, start=start_date, end=end_date)\n",
      "[*********************100%***********************]  1 of 1 completed\n"
     ]
    },
    {
     "name": "stdout",
     "output_type": "stream",
     "text": [
      "Downloading data for CPAY\n"
     ]
    },
    {
     "name": "stderr",
     "output_type": "stream",
     "text": [
      "C:\\Users\\ngoph\\AppData\\Local\\Temp\\ipykernel_27304\\3947983937.py:18: FutureWarning: YF.download() has changed argument auto_adjust default to True\n",
      "  stock_data = yf.download(symbol, start=start_date, end=end_date)\n",
      "[*********************100%***********************]  1 of 1 completed\n"
     ]
    },
    {
     "name": "stdout",
     "output_type": "stream",
     "text": [
      "Downloading data for CTVA\n"
     ]
    },
    {
     "name": "stderr",
     "output_type": "stream",
     "text": [
      "C:\\Users\\ngoph\\AppData\\Local\\Temp\\ipykernel_27304\\3947983937.py:18: FutureWarning: YF.download() has changed argument auto_adjust default to True\n",
      "  stock_data = yf.download(symbol, start=start_date, end=end_date)\n",
      "[*********************100%***********************]  1 of 1 completed\n"
     ]
    },
    {
     "name": "stdout",
     "output_type": "stream",
     "text": [
      "Downloading data for CSGP\n"
     ]
    },
    {
     "name": "stderr",
     "output_type": "stream",
     "text": [
      "C:\\Users\\ngoph\\AppData\\Local\\Temp\\ipykernel_27304\\3947983937.py:18: FutureWarning: YF.download() has changed argument auto_adjust default to True\n",
      "  stock_data = yf.download(symbol, start=start_date, end=end_date)\n",
      "[*********************100%***********************]  1 of 1 completed\n"
     ]
    },
    {
     "name": "stdout",
     "output_type": "stream",
     "text": [
      "Downloading data for COST\n"
     ]
    },
    {
     "name": "stderr",
     "output_type": "stream",
     "text": [
      "C:\\Users\\ngoph\\AppData\\Local\\Temp\\ipykernel_27304\\3947983937.py:18: FutureWarning: YF.download() has changed argument auto_adjust default to True\n",
      "  stock_data = yf.download(symbol, start=start_date, end=end_date)\n",
      "[*********************100%***********************]  1 of 1 completed\n"
     ]
    },
    {
     "name": "stdout",
     "output_type": "stream",
     "text": [
      "Downloading data for CTRA\n"
     ]
    },
    {
     "name": "stderr",
     "output_type": "stream",
     "text": [
      "C:\\Users\\ngoph\\AppData\\Local\\Temp\\ipykernel_27304\\3947983937.py:18: FutureWarning: YF.download() has changed argument auto_adjust default to True\n",
      "  stock_data = yf.download(symbol, start=start_date, end=end_date)\n",
      "[*********************100%***********************]  1 of 1 completed\n"
     ]
    },
    {
     "name": "stdout",
     "output_type": "stream",
     "text": [
      "Downloading data for CRWD\n"
     ]
    },
    {
     "name": "stderr",
     "output_type": "stream",
     "text": [
      "C:\\Users\\ngoph\\AppData\\Local\\Temp\\ipykernel_27304\\3947983937.py:18: FutureWarning: YF.download() has changed argument auto_adjust default to True\n",
      "  stock_data = yf.download(symbol, start=start_date, end=end_date)\n",
      "[*********************100%***********************]  1 of 1 completed\n"
     ]
    },
    {
     "name": "stdout",
     "output_type": "stream",
     "text": [
      "Downloading data for CCI\n"
     ]
    },
    {
     "name": "stderr",
     "output_type": "stream",
     "text": [
      "C:\\Users\\ngoph\\AppData\\Local\\Temp\\ipykernel_27304\\3947983937.py:18: FutureWarning: YF.download() has changed argument auto_adjust default to True\n",
      "  stock_data = yf.download(symbol, start=start_date, end=end_date)\n",
      "[*********************100%***********************]  1 of 1 completed\n"
     ]
    },
    {
     "name": "stdout",
     "output_type": "stream",
     "text": [
      "Downloading data for CSX\n"
     ]
    },
    {
     "name": "stderr",
     "output_type": "stream",
     "text": [
      "C:\\Users\\ngoph\\AppData\\Local\\Temp\\ipykernel_27304\\3947983937.py:18: FutureWarning: YF.download() has changed argument auto_adjust default to True\n",
      "  stock_data = yf.download(symbol, start=start_date, end=end_date)\n",
      "[*********************100%***********************]  1 of 1 completed\n"
     ]
    },
    {
     "name": "stdout",
     "output_type": "stream",
     "text": [
      "Downloading data for CMI\n"
     ]
    },
    {
     "name": "stderr",
     "output_type": "stream",
     "text": [
      "C:\\Users\\ngoph\\AppData\\Local\\Temp\\ipykernel_27304\\3947983937.py:18: FutureWarning: YF.download() has changed argument auto_adjust default to True\n",
      "  stock_data = yf.download(symbol, start=start_date, end=end_date)\n",
      "[*********************100%***********************]  1 of 1 completed\n"
     ]
    },
    {
     "name": "stdout",
     "output_type": "stream",
     "text": [
      "Downloading data for CVS\n"
     ]
    },
    {
     "name": "stderr",
     "output_type": "stream",
     "text": [
      "C:\\Users\\ngoph\\AppData\\Local\\Temp\\ipykernel_27304\\3947983937.py:18: FutureWarning: YF.download() has changed argument auto_adjust default to True\n",
      "  stock_data = yf.download(symbol, start=start_date, end=end_date)\n",
      "[*********************100%***********************]  1 of 1 completed\n"
     ]
    },
    {
     "name": "stdout",
     "output_type": "stream",
     "text": [
      "Downloading data for DHR\n"
     ]
    },
    {
     "name": "stderr",
     "output_type": "stream",
     "text": [
      "C:\\Users\\ngoph\\AppData\\Local\\Temp\\ipykernel_27304\\3947983937.py:18: FutureWarning: YF.download() has changed argument auto_adjust default to True\n",
      "  stock_data = yf.download(symbol, start=start_date, end=end_date)\n",
      "[*********************100%***********************]  1 of 1 completed\n"
     ]
    },
    {
     "name": "stdout",
     "output_type": "stream",
     "text": [
      "Downloading data for DRI\n"
     ]
    },
    {
     "name": "stderr",
     "output_type": "stream",
     "text": [
      "C:\\Users\\ngoph\\AppData\\Local\\Temp\\ipykernel_27304\\3947983937.py:18: FutureWarning: YF.download() has changed argument auto_adjust default to True\n",
      "  stock_data = yf.download(symbol, start=start_date, end=end_date)\n",
      "[*********************100%***********************]  1 of 1 completed\n"
     ]
    },
    {
     "name": "stdout",
     "output_type": "stream",
     "text": [
      "Downloading data for DDOG\n"
     ]
    },
    {
     "name": "stderr",
     "output_type": "stream",
     "text": [
      "C:\\Users\\ngoph\\AppData\\Local\\Temp\\ipykernel_27304\\3947983937.py:18: FutureWarning: YF.download() has changed argument auto_adjust default to True\n",
      "  stock_data = yf.download(symbol, start=start_date, end=end_date)\n",
      "[*********************100%***********************]  1 of 1 completed\n"
     ]
    },
    {
     "name": "stdout",
     "output_type": "stream",
     "text": [
      "Downloading data for DVA\n"
     ]
    },
    {
     "name": "stderr",
     "output_type": "stream",
     "text": [
      "C:\\Users\\ngoph\\AppData\\Local\\Temp\\ipykernel_27304\\3947983937.py:18: FutureWarning: YF.download() has changed argument auto_adjust default to True\n",
      "  stock_data = yf.download(symbol, start=start_date, end=end_date)\n",
      "[*********************100%***********************]  1 of 1 completed\n"
     ]
    },
    {
     "name": "stdout",
     "output_type": "stream",
     "text": [
      "Downloading data for DAY\n"
     ]
    },
    {
     "name": "stderr",
     "output_type": "stream",
     "text": [
      "C:\\Users\\ngoph\\AppData\\Local\\Temp\\ipykernel_27304\\3947983937.py:18: FutureWarning: YF.download() has changed argument auto_adjust default to True\n",
      "  stock_data = yf.download(symbol, start=start_date, end=end_date)\n",
      "[*********************100%***********************]  1 of 1 completed\n"
     ]
    },
    {
     "name": "stdout",
     "output_type": "stream",
     "text": [
      "Downloading data for DECK\n"
     ]
    },
    {
     "name": "stderr",
     "output_type": "stream",
     "text": [
      "C:\\Users\\ngoph\\AppData\\Local\\Temp\\ipykernel_27304\\3947983937.py:18: FutureWarning: YF.download() has changed argument auto_adjust default to True\n",
      "  stock_data = yf.download(symbol, start=start_date, end=end_date)\n",
      "[*********************100%***********************]  1 of 1 completed\n"
     ]
    },
    {
     "name": "stdout",
     "output_type": "stream",
     "text": [
      "Downloading data for DE\n"
     ]
    },
    {
     "name": "stderr",
     "output_type": "stream",
     "text": [
      "C:\\Users\\ngoph\\AppData\\Local\\Temp\\ipykernel_27304\\3947983937.py:18: FutureWarning: YF.download() has changed argument auto_adjust default to True\n",
      "  stock_data = yf.download(symbol, start=start_date, end=end_date)\n",
      "[*********************100%***********************]  1 of 1 completed\n"
     ]
    },
    {
     "name": "stdout",
     "output_type": "stream",
     "text": [
      "Downloading data for DELL\n"
     ]
    },
    {
     "name": "stderr",
     "output_type": "stream",
     "text": [
      "C:\\Users\\ngoph\\AppData\\Local\\Temp\\ipykernel_27304\\3947983937.py:18: FutureWarning: YF.download() has changed argument auto_adjust default to True\n",
      "  stock_data = yf.download(symbol, start=start_date, end=end_date)\n",
      "[*********************100%***********************]  1 of 1 completed\n"
     ]
    },
    {
     "name": "stdout",
     "output_type": "stream",
     "text": [
      "Downloading data for DAL\n"
     ]
    },
    {
     "name": "stderr",
     "output_type": "stream",
     "text": [
      "C:\\Users\\ngoph\\AppData\\Local\\Temp\\ipykernel_27304\\3947983937.py:18: FutureWarning: YF.download() has changed argument auto_adjust default to True\n",
      "  stock_data = yf.download(symbol, start=start_date, end=end_date)\n",
      "[*********************100%***********************]  1 of 1 completed\n"
     ]
    },
    {
     "name": "stdout",
     "output_type": "stream",
     "text": [
      "Downloading data for DVN\n"
     ]
    },
    {
     "name": "stderr",
     "output_type": "stream",
     "text": [
      "C:\\Users\\ngoph\\AppData\\Local\\Temp\\ipykernel_27304\\3947983937.py:18: FutureWarning: YF.download() has changed argument auto_adjust default to True\n",
      "  stock_data = yf.download(symbol, start=start_date, end=end_date)\n",
      "[*********************100%***********************]  1 of 1 completed\n"
     ]
    },
    {
     "name": "stdout",
     "output_type": "stream",
     "text": [
      "Downloading data for DXCM\n"
     ]
    },
    {
     "name": "stderr",
     "output_type": "stream",
     "text": [
      "C:\\Users\\ngoph\\AppData\\Local\\Temp\\ipykernel_27304\\3947983937.py:18: FutureWarning: YF.download() has changed argument auto_adjust default to True\n",
      "  stock_data = yf.download(symbol, start=start_date, end=end_date)\n",
      "[*********************100%***********************]  1 of 1 completed\n"
     ]
    },
    {
     "name": "stdout",
     "output_type": "stream",
     "text": [
      "Downloading data for FANG\n"
     ]
    },
    {
     "name": "stderr",
     "output_type": "stream",
     "text": [
      "C:\\Users\\ngoph\\AppData\\Local\\Temp\\ipykernel_27304\\3947983937.py:18: FutureWarning: YF.download() has changed argument auto_adjust default to True\n",
      "  stock_data = yf.download(symbol, start=start_date, end=end_date)\n",
      "[*********************100%***********************]  1 of 1 completed\n"
     ]
    },
    {
     "name": "stdout",
     "output_type": "stream",
     "text": [
      "Downloading data for DLR\n"
     ]
    },
    {
     "name": "stderr",
     "output_type": "stream",
     "text": [
      "C:\\Users\\ngoph\\AppData\\Local\\Temp\\ipykernel_27304\\3947983937.py:18: FutureWarning: YF.download() has changed argument auto_adjust default to True\n",
      "  stock_data = yf.download(symbol, start=start_date, end=end_date)\n",
      "[*********************100%***********************]  1 of 1 completed\n"
     ]
    },
    {
     "name": "stdout",
     "output_type": "stream",
     "text": [
      "Downloading data for DG\n"
     ]
    },
    {
     "name": "stderr",
     "output_type": "stream",
     "text": [
      "C:\\Users\\ngoph\\AppData\\Local\\Temp\\ipykernel_27304\\3947983937.py:18: FutureWarning: YF.download() has changed argument auto_adjust default to True\n",
      "  stock_data = yf.download(symbol, start=start_date, end=end_date)\n",
      "[*********************100%***********************]  1 of 1 completed\n"
     ]
    },
    {
     "name": "stdout",
     "output_type": "stream",
     "text": [
      "Downloading data for DLTR\n"
     ]
    },
    {
     "name": "stderr",
     "output_type": "stream",
     "text": [
      "C:\\Users\\ngoph\\AppData\\Local\\Temp\\ipykernel_27304\\3947983937.py:18: FutureWarning: YF.download() has changed argument auto_adjust default to True\n",
      "  stock_data = yf.download(symbol, start=start_date, end=end_date)\n",
      "[*********************100%***********************]  1 of 1 completed\n"
     ]
    },
    {
     "name": "stdout",
     "output_type": "stream",
     "text": [
      "Downloading data for D\n"
     ]
    },
    {
     "name": "stderr",
     "output_type": "stream",
     "text": [
      "C:\\Users\\ngoph\\AppData\\Local\\Temp\\ipykernel_27304\\3947983937.py:18: FutureWarning: YF.download() has changed argument auto_adjust default to True\n",
      "  stock_data = yf.download(symbol, start=start_date, end=end_date)\n",
      "[*********************100%***********************]  1 of 1 completed\n"
     ]
    },
    {
     "name": "stdout",
     "output_type": "stream",
     "text": [
      "Downloading data for DPZ\n"
     ]
    },
    {
     "name": "stderr",
     "output_type": "stream",
     "text": [
      "C:\\Users\\ngoph\\AppData\\Local\\Temp\\ipykernel_27304\\3947983937.py:18: FutureWarning: YF.download() has changed argument auto_adjust default to True\n",
      "  stock_data = yf.download(symbol, start=start_date, end=end_date)\n",
      "[*********************100%***********************]  1 of 1 completed\n"
     ]
    },
    {
     "name": "stdout",
     "output_type": "stream",
     "text": [
      "Downloading data for DASH\n"
     ]
    },
    {
     "name": "stderr",
     "output_type": "stream",
     "text": [
      "C:\\Users\\ngoph\\AppData\\Local\\Temp\\ipykernel_27304\\3947983937.py:18: FutureWarning: YF.download() has changed argument auto_adjust default to True\n",
      "  stock_data = yf.download(symbol, start=start_date, end=end_date)\n",
      "[*********************100%***********************]  1 of 1 completed\n"
     ]
    },
    {
     "name": "stdout",
     "output_type": "stream",
     "text": [
      "Downloading data for DOV\n"
     ]
    },
    {
     "name": "stderr",
     "output_type": "stream",
     "text": [
      "C:\\Users\\ngoph\\AppData\\Local\\Temp\\ipykernel_27304\\3947983937.py:18: FutureWarning: YF.download() has changed argument auto_adjust default to True\n",
      "  stock_data = yf.download(symbol, start=start_date, end=end_date)\n",
      "[*********************100%***********************]  1 of 1 completed\n"
     ]
    },
    {
     "name": "stdout",
     "output_type": "stream",
     "text": [
      "Downloading data for DOW\n"
     ]
    },
    {
     "name": "stderr",
     "output_type": "stream",
     "text": [
      "C:\\Users\\ngoph\\AppData\\Local\\Temp\\ipykernel_27304\\3947983937.py:18: FutureWarning: YF.download() has changed argument auto_adjust default to True\n",
      "  stock_data = yf.download(symbol, start=start_date, end=end_date)\n",
      "[*********************100%***********************]  1 of 1 completed\n"
     ]
    },
    {
     "name": "stdout",
     "output_type": "stream",
     "text": [
      "Downloading data for DHI\n"
     ]
    },
    {
     "name": "stderr",
     "output_type": "stream",
     "text": [
      "C:\\Users\\ngoph\\AppData\\Local\\Temp\\ipykernel_27304\\3947983937.py:18: FutureWarning: YF.download() has changed argument auto_adjust default to True\n",
      "  stock_data = yf.download(symbol, start=start_date, end=end_date)\n",
      "[*********************100%***********************]  1 of 1 completed\n"
     ]
    },
    {
     "name": "stdout",
     "output_type": "stream",
     "text": [
      "Downloading data for DTE\n"
     ]
    },
    {
     "name": "stderr",
     "output_type": "stream",
     "text": [
      "C:\\Users\\ngoph\\AppData\\Local\\Temp\\ipykernel_27304\\3947983937.py:18: FutureWarning: YF.download() has changed argument auto_adjust default to True\n",
      "  stock_data = yf.download(symbol, start=start_date, end=end_date)\n",
      "[*********************100%***********************]  1 of 1 completed\n"
     ]
    },
    {
     "name": "stdout",
     "output_type": "stream",
     "text": [
      "Downloading data for DUK\n"
     ]
    },
    {
     "name": "stderr",
     "output_type": "stream",
     "text": [
      "C:\\Users\\ngoph\\AppData\\Local\\Temp\\ipykernel_27304\\3947983937.py:18: FutureWarning: YF.download() has changed argument auto_adjust default to True\n",
      "  stock_data = yf.download(symbol, start=start_date, end=end_date)\n",
      "[*********************100%***********************]  1 of 1 completed\n"
     ]
    },
    {
     "name": "stdout",
     "output_type": "stream",
     "text": [
      "Downloading data for DD\n"
     ]
    },
    {
     "name": "stderr",
     "output_type": "stream",
     "text": [
      "C:\\Users\\ngoph\\AppData\\Local\\Temp\\ipykernel_27304\\3947983937.py:18: FutureWarning: YF.download() has changed argument auto_adjust default to True\n",
      "  stock_data = yf.download(symbol, start=start_date, end=end_date)\n",
      "[*********************100%***********************]  1 of 1 completed\n"
     ]
    },
    {
     "name": "stdout",
     "output_type": "stream",
     "text": [
      "Downloading data for EMN\n"
     ]
    },
    {
     "name": "stderr",
     "output_type": "stream",
     "text": [
      "C:\\Users\\ngoph\\AppData\\Local\\Temp\\ipykernel_27304\\3947983937.py:18: FutureWarning: YF.download() has changed argument auto_adjust default to True\n",
      "  stock_data = yf.download(symbol, start=start_date, end=end_date)\n",
      "[*********************100%***********************]  1 of 1 completed\n"
     ]
    },
    {
     "name": "stdout",
     "output_type": "stream",
     "text": [
      "Downloading data for ETN\n"
     ]
    },
    {
     "name": "stderr",
     "output_type": "stream",
     "text": [
      "C:\\Users\\ngoph\\AppData\\Local\\Temp\\ipykernel_27304\\3947983937.py:18: FutureWarning: YF.download() has changed argument auto_adjust default to True\n",
      "  stock_data = yf.download(symbol, start=start_date, end=end_date)\n",
      "[*********************100%***********************]  1 of 1 completed\n"
     ]
    },
    {
     "name": "stdout",
     "output_type": "stream",
     "text": [
      "Downloading data for EBAY\n"
     ]
    },
    {
     "name": "stderr",
     "output_type": "stream",
     "text": [
      "C:\\Users\\ngoph\\AppData\\Local\\Temp\\ipykernel_27304\\3947983937.py:18: FutureWarning: YF.download() has changed argument auto_adjust default to True\n",
      "  stock_data = yf.download(symbol, start=start_date, end=end_date)\n",
      "[*********************100%***********************]  1 of 1 completed\n"
     ]
    },
    {
     "name": "stdout",
     "output_type": "stream",
     "text": [
      "Downloading data for ECL\n"
     ]
    },
    {
     "name": "stderr",
     "output_type": "stream",
     "text": [
      "C:\\Users\\ngoph\\AppData\\Local\\Temp\\ipykernel_27304\\3947983937.py:18: FutureWarning: YF.download() has changed argument auto_adjust default to True\n",
      "  stock_data = yf.download(symbol, start=start_date, end=end_date)\n",
      "[*********************100%***********************]  1 of 1 completed\n"
     ]
    },
    {
     "name": "stdout",
     "output_type": "stream",
     "text": [
      "Downloading data for EIX\n"
     ]
    },
    {
     "name": "stderr",
     "output_type": "stream",
     "text": [
      "C:\\Users\\ngoph\\AppData\\Local\\Temp\\ipykernel_27304\\3947983937.py:18: FutureWarning: YF.download() has changed argument auto_adjust default to True\n",
      "  stock_data = yf.download(symbol, start=start_date, end=end_date)\n",
      "[*********************100%***********************]  1 of 1 completed\n"
     ]
    },
    {
     "name": "stdout",
     "output_type": "stream",
     "text": [
      "Downloading data for EW\n"
     ]
    },
    {
     "name": "stderr",
     "output_type": "stream",
     "text": [
      "C:\\Users\\ngoph\\AppData\\Local\\Temp\\ipykernel_27304\\3947983937.py:18: FutureWarning: YF.download() has changed argument auto_adjust default to True\n",
      "  stock_data = yf.download(symbol, start=start_date, end=end_date)\n",
      "[*********************100%***********************]  1 of 1 completed\n"
     ]
    },
    {
     "name": "stdout",
     "output_type": "stream",
     "text": [
      "Downloading data for EA\n"
     ]
    },
    {
     "name": "stderr",
     "output_type": "stream",
     "text": [
      "C:\\Users\\ngoph\\AppData\\Local\\Temp\\ipykernel_27304\\3947983937.py:18: FutureWarning: YF.download() has changed argument auto_adjust default to True\n",
      "  stock_data = yf.download(symbol, start=start_date, end=end_date)\n",
      "[*********************100%***********************]  1 of 1 completed\n"
     ]
    },
    {
     "name": "stdout",
     "output_type": "stream",
     "text": [
      "Downloading data for ELV\n"
     ]
    },
    {
     "name": "stderr",
     "output_type": "stream",
     "text": [
      "C:\\Users\\ngoph\\AppData\\Local\\Temp\\ipykernel_27304\\3947983937.py:18: FutureWarning: YF.download() has changed argument auto_adjust default to True\n",
      "  stock_data = yf.download(symbol, start=start_date, end=end_date)\n",
      "[*********************100%***********************]  1 of 1 completed\n"
     ]
    },
    {
     "name": "stdout",
     "output_type": "stream",
     "text": [
      "Downloading data for EMR\n"
     ]
    },
    {
     "name": "stderr",
     "output_type": "stream",
     "text": [
      "C:\\Users\\ngoph\\AppData\\Local\\Temp\\ipykernel_27304\\3947983937.py:18: FutureWarning: YF.download() has changed argument auto_adjust default to True\n",
      "  stock_data = yf.download(symbol, start=start_date, end=end_date)\n",
      "[*********************100%***********************]  1 of 1 completed\n"
     ]
    },
    {
     "name": "stdout",
     "output_type": "stream",
     "text": [
      "Downloading data for ENPH\n"
     ]
    },
    {
     "name": "stderr",
     "output_type": "stream",
     "text": [
      "C:\\Users\\ngoph\\AppData\\Local\\Temp\\ipykernel_27304\\3947983937.py:18: FutureWarning: YF.download() has changed argument auto_adjust default to True\n",
      "  stock_data = yf.download(symbol, start=start_date, end=end_date)\n",
      "[*********************100%***********************]  1 of 1 completed\n"
     ]
    },
    {
     "name": "stdout",
     "output_type": "stream",
     "text": [
      "Downloading data for ETR\n"
     ]
    },
    {
     "name": "stderr",
     "output_type": "stream",
     "text": [
      "C:\\Users\\ngoph\\AppData\\Local\\Temp\\ipykernel_27304\\3947983937.py:18: FutureWarning: YF.download() has changed argument auto_adjust default to True\n",
      "  stock_data = yf.download(symbol, start=start_date, end=end_date)\n",
      "[*********************100%***********************]  1 of 1 completed\n"
     ]
    },
    {
     "name": "stdout",
     "output_type": "stream",
     "text": [
      "Downloading data for EOG\n"
     ]
    },
    {
     "name": "stderr",
     "output_type": "stream",
     "text": [
      "C:\\Users\\ngoph\\AppData\\Local\\Temp\\ipykernel_27304\\3947983937.py:18: FutureWarning: YF.download() has changed argument auto_adjust default to True\n",
      "  stock_data = yf.download(symbol, start=start_date, end=end_date)\n",
      "[*********************100%***********************]  1 of 1 completed\n"
     ]
    },
    {
     "name": "stdout",
     "output_type": "stream",
     "text": [
      "Downloading data for EPAM\n"
     ]
    },
    {
     "name": "stderr",
     "output_type": "stream",
     "text": [
      "C:\\Users\\ngoph\\AppData\\Local\\Temp\\ipykernel_27304\\3947983937.py:18: FutureWarning: YF.download() has changed argument auto_adjust default to True\n",
      "  stock_data = yf.download(symbol, start=start_date, end=end_date)\n",
      "[*********************100%***********************]  1 of 1 completed\n"
     ]
    },
    {
     "name": "stdout",
     "output_type": "stream",
     "text": [
      "Downloading data for EQT\n"
     ]
    },
    {
     "name": "stderr",
     "output_type": "stream",
     "text": [
      "C:\\Users\\ngoph\\AppData\\Local\\Temp\\ipykernel_27304\\3947983937.py:18: FutureWarning: YF.download() has changed argument auto_adjust default to True\n",
      "  stock_data = yf.download(symbol, start=start_date, end=end_date)\n",
      "[*********************100%***********************]  1 of 1 completed\n"
     ]
    },
    {
     "name": "stdout",
     "output_type": "stream",
     "text": [
      "Downloading data for EFX\n"
     ]
    },
    {
     "name": "stderr",
     "output_type": "stream",
     "text": [
      "C:\\Users\\ngoph\\AppData\\Local\\Temp\\ipykernel_27304\\3947983937.py:18: FutureWarning: YF.download() has changed argument auto_adjust default to True\n",
      "  stock_data = yf.download(symbol, start=start_date, end=end_date)\n",
      "[*********************100%***********************]  1 of 1 completed\n"
     ]
    },
    {
     "name": "stdout",
     "output_type": "stream",
     "text": [
      "Downloading data for EQIX\n"
     ]
    },
    {
     "name": "stderr",
     "output_type": "stream",
     "text": [
      "C:\\Users\\ngoph\\AppData\\Local\\Temp\\ipykernel_27304\\3947983937.py:18: FutureWarning: YF.download() has changed argument auto_adjust default to True\n",
      "  stock_data = yf.download(symbol, start=start_date, end=end_date)\n",
      "[*********************100%***********************]  1 of 1 completed\n"
     ]
    },
    {
     "name": "stdout",
     "output_type": "stream",
     "text": [
      "Downloading data for EQR\n"
     ]
    },
    {
     "name": "stderr",
     "output_type": "stream",
     "text": [
      "C:\\Users\\ngoph\\AppData\\Local\\Temp\\ipykernel_27304\\3947983937.py:18: FutureWarning: YF.download() has changed argument auto_adjust default to True\n",
      "  stock_data = yf.download(symbol, start=start_date, end=end_date)\n",
      "[*********************100%***********************]  1 of 1 completed\n"
     ]
    },
    {
     "name": "stdout",
     "output_type": "stream",
     "text": [
      "Downloading data for ERIE\n"
     ]
    },
    {
     "name": "stderr",
     "output_type": "stream",
     "text": [
      "C:\\Users\\ngoph\\AppData\\Local\\Temp\\ipykernel_27304\\3947983937.py:18: FutureWarning: YF.download() has changed argument auto_adjust default to True\n",
      "  stock_data = yf.download(symbol, start=start_date, end=end_date)\n",
      "[*********************100%***********************]  1 of 1 completed\n"
     ]
    },
    {
     "name": "stdout",
     "output_type": "stream",
     "text": [
      "Downloading data for ESS\n"
     ]
    },
    {
     "name": "stderr",
     "output_type": "stream",
     "text": [
      "C:\\Users\\ngoph\\AppData\\Local\\Temp\\ipykernel_27304\\3947983937.py:18: FutureWarning: YF.download() has changed argument auto_adjust default to True\n",
      "  stock_data = yf.download(symbol, start=start_date, end=end_date)\n",
      "[*********************100%***********************]  1 of 1 completed\n"
     ]
    },
    {
     "name": "stdout",
     "output_type": "stream",
     "text": [
      "Downloading data for EL\n"
     ]
    },
    {
     "name": "stderr",
     "output_type": "stream",
     "text": [
      "C:\\Users\\ngoph\\AppData\\Local\\Temp\\ipykernel_27304\\3947983937.py:18: FutureWarning: YF.download() has changed argument auto_adjust default to True\n",
      "  stock_data = yf.download(symbol, start=start_date, end=end_date)\n",
      "[*********************100%***********************]  1 of 1 completed\n"
     ]
    },
    {
     "name": "stdout",
     "output_type": "stream",
     "text": [
      "Downloading data for EG\n"
     ]
    },
    {
     "name": "stderr",
     "output_type": "stream",
     "text": [
      "C:\\Users\\ngoph\\AppData\\Local\\Temp\\ipykernel_27304\\3947983937.py:18: FutureWarning: YF.download() has changed argument auto_adjust default to True\n",
      "  stock_data = yf.download(symbol, start=start_date, end=end_date)\n",
      "[*********************100%***********************]  1 of 1 completed\n"
     ]
    },
    {
     "name": "stdout",
     "output_type": "stream",
     "text": [
      "Downloading data for EVRG\n"
     ]
    },
    {
     "name": "stderr",
     "output_type": "stream",
     "text": [
      "C:\\Users\\ngoph\\AppData\\Local\\Temp\\ipykernel_27304\\3947983937.py:18: FutureWarning: YF.download() has changed argument auto_adjust default to True\n",
      "  stock_data = yf.download(symbol, start=start_date, end=end_date)\n",
      "[*********************100%***********************]  1 of 1 completed\n"
     ]
    },
    {
     "name": "stdout",
     "output_type": "stream",
     "text": [
      "Downloading data for ES\n"
     ]
    },
    {
     "name": "stderr",
     "output_type": "stream",
     "text": [
      "C:\\Users\\ngoph\\AppData\\Local\\Temp\\ipykernel_27304\\3947983937.py:18: FutureWarning: YF.download() has changed argument auto_adjust default to True\n",
      "  stock_data = yf.download(symbol, start=start_date, end=end_date)\n",
      "[*********************100%***********************]  1 of 1 completed\n"
     ]
    },
    {
     "name": "stdout",
     "output_type": "stream",
     "text": [
      "Downloading data for EXC\n"
     ]
    },
    {
     "name": "stderr",
     "output_type": "stream",
     "text": [
      "C:\\Users\\ngoph\\AppData\\Local\\Temp\\ipykernel_27304\\3947983937.py:18: FutureWarning: YF.download() has changed argument auto_adjust default to True\n",
      "  stock_data = yf.download(symbol, start=start_date, end=end_date)\n",
      "[*********************100%***********************]  1 of 1 completed\n"
     ]
    },
    {
     "name": "stdout",
     "output_type": "stream",
     "text": [
      "Downloading data for EXE\n"
     ]
    },
    {
     "name": "stderr",
     "output_type": "stream",
     "text": [
      "C:\\Users\\ngoph\\AppData\\Local\\Temp\\ipykernel_27304\\3947983937.py:18: FutureWarning: YF.download() has changed argument auto_adjust default to True\n",
      "  stock_data = yf.download(symbol, start=start_date, end=end_date)\n",
      "[*********************100%***********************]  1 of 1 completed\n"
     ]
    },
    {
     "name": "stdout",
     "output_type": "stream",
     "text": [
      "Downloading data for EXPE\n"
     ]
    },
    {
     "name": "stderr",
     "output_type": "stream",
     "text": [
      "C:\\Users\\ngoph\\AppData\\Local\\Temp\\ipykernel_27304\\3947983937.py:18: FutureWarning: YF.download() has changed argument auto_adjust default to True\n",
      "  stock_data = yf.download(symbol, start=start_date, end=end_date)\n",
      "[*********************100%***********************]  1 of 1 completed\n"
     ]
    },
    {
     "name": "stdout",
     "output_type": "stream",
     "text": [
      "Downloading data for EXPD\n"
     ]
    },
    {
     "name": "stderr",
     "output_type": "stream",
     "text": [
      "C:\\Users\\ngoph\\AppData\\Local\\Temp\\ipykernel_27304\\3947983937.py:18: FutureWarning: YF.download() has changed argument auto_adjust default to True\n",
      "  stock_data = yf.download(symbol, start=start_date, end=end_date)\n",
      "[*********************100%***********************]  1 of 1 completed\n"
     ]
    },
    {
     "name": "stdout",
     "output_type": "stream",
     "text": [
      "Downloading data for EXR\n"
     ]
    },
    {
     "name": "stderr",
     "output_type": "stream",
     "text": [
      "C:\\Users\\ngoph\\AppData\\Local\\Temp\\ipykernel_27304\\3947983937.py:18: FutureWarning: YF.download() has changed argument auto_adjust default to True\n",
      "  stock_data = yf.download(symbol, start=start_date, end=end_date)\n",
      "[*********************100%***********************]  1 of 1 completed\n"
     ]
    },
    {
     "name": "stdout",
     "output_type": "stream",
     "text": [
      "Downloading data for XOM\n"
     ]
    },
    {
     "name": "stderr",
     "output_type": "stream",
     "text": [
      "C:\\Users\\ngoph\\AppData\\Local\\Temp\\ipykernel_27304\\3947983937.py:18: FutureWarning: YF.download() has changed argument auto_adjust default to True\n",
      "  stock_data = yf.download(symbol, start=start_date, end=end_date)\n",
      "[*********************100%***********************]  1 of 1 completed\n"
     ]
    },
    {
     "name": "stdout",
     "output_type": "stream",
     "text": [
      "Downloading data for FFIV\n"
     ]
    },
    {
     "name": "stderr",
     "output_type": "stream",
     "text": [
      "C:\\Users\\ngoph\\AppData\\Local\\Temp\\ipykernel_27304\\3947983937.py:18: FutureWarning: YF.download() has changed argument auto_adjust default to True\n",
      "  stock_data = yf.download(symbol, start=start_date, end=end_date)\n",
      "[*********************100%***********************]  1 of 1 completed\n"
     ]
    },
    {
     "name": "stdout",
     "output_type": "stream",
     "text": [
      "Downloading data for FDS\n"
     ]
    },
    {
     "name": "stderr",
     "output_type": "stream",
     "text": [
      "C:\\Users\\ngoph\\AppData\\Local\\Temp\\ipykernel_27304\\3947983937.py:18: FutureWarning: YF.download() has changed argument auto_adjust default to True\n",
      "  stock_data = yf.download(symbol, start=start_date, end=end_date)\n",
      "[*********************100%***********************]  1 of 1 completed\n"
     ]
    },
    {
     "name": "stdout",
     "output_type": "stream",
     "text": [
      "Downloading data for FICO\n"
     ]
    },
    {
     "name": "stderr",
     "output_type": "stream",
     "text": [
      "C:\\Users\\ngoph\\AppData\\Local\\Temp\\ipykernel_27304\\3947983937.py:18: FutureWarning: YF.download() has changed argument auto_adjust default to True\n",
      "  stock_data = yf.download(symbol, start=start_date, end=end_date)\n",
      "[*********************100%***********************]  1 of 1 completed\n"
     ]
    },
    {
     "name": "stdout",
     "output_type": "stream",
     "text": [
      "Downloading data for FAST\n"
     ]
    },
    {
     "name": "stderr",
     "output_type": "stream",
     "text": [
      "C:\\Users\\ngoph\\AppData\\Local\\Temp\\ipykernel_27304\\3947983937.py:18: FutureWarning: YF.download() has changed argument auto_adjust default to True\n",
      "  stock_data = yf.download(symbol, start=start_date, end=end_date)\n",
      "[*********************100%***********************]  1 of 1 completed\n"
     ]
    },
    {
     "name": "stdout",
     "output_type": "stream",
     "text": [
      "Downloading data for FRT\n"
     ]
    },
    {
     "name": "stderr",
     "output_type": "stream",
     "text": [
      "C:\\Users\\ngoph\\AppData\\Local\\Temp\\ipykernel_27304\\3947983937.py:18: FutureWarning: YF.download() has changed argument auto_adjust default to True\n",
      "  stock_data = yf.download(symbol, start=start_date, end=end_date)\n",
      "[*********************100%***********************]  1 of 1 completed\n"
     ]
    },
    {
     "name": "stdout",
     "output_type": "stream",
     "text": [
      "Downloading data for FDX\n"
     ]
    },
    {
     "name": "stderr",
     "output_type": "stream",
     "text": [
      "C:\\Users\\ngoph\\AppData\\Local\\Temp\\ipykernel_27304\\3947983937.py:18: FutureWarning: YF.download() has changed argument auto_adjust default to True\n",
      "  stock_data = yf.download(symbol, start=start_date, end=end_date)\n",
      "[*********************100%***********************]  1 of 1 completed\n"
     ]
    },
    {
     "name": "stdout",
     "output_type": "stream",
     "text": [
      "Downloading data for FIS\n"
     ]
    },
    {
     "name": "stderr",
     "output_type": "stream",
     "text": [
      "C:\\Users\\ngoph\\AppData\\Local\\Temp\\ipykernel_27304\\3947983937.py:18: FutureWarning: YF.download() has changed argument auto_adjust default to True\n",
      "  stock_data = yf.download(symbol, start=start_date, end=end_date)\n",
      "[*********************100%***********************]  1 of 1 completed\n"
     ]
    },
    {
     "name": "stdout",
     "output_type": "stream",
     "text": [
      "Downloading data for FITB\n"
     ]
    },
    {
     "name": "stderr",
     "output_type": "stream",
     "text": [
      "C:\\Users\\ngoph\\AppData\\Local\\Temp\\ipykernel_27304\\3947983937.py:18: FutureWarning: YF.download() has changed argument auto_adjust default to True\n",
      "  stock_data = yf.download(symbol, start=start_date, end=end_date)\n",
      "[*********************100%***********************]  1 of 1 completed\n"
     ]
    },
    {
     "name": "stdout",
     "output_type": "stream",
     "text": [
      "Downloading data for FSLR\n"
     ]
    },
    {
     "name": "stderr",
     "output_type": "stream",
     "text": [
      "C:\\Users\\ngoph\\AppData\\Local\\Temp\\ipykernel_27304\\3947983937.py:18: FutureWarning: YF.download() has changed argument auto_adjust default to True\n",
      "  stock_data = yf.download(symbol, start=start_date, end=end_date)\n",
      "[*********************100%***********************]  1 of 1 completed\n"
     ]
    },
    {
     "name": "stdout",
     "output_type": "stream",
     "text": [
      "Downloading data for FE\n"
     ]
    },
    {
     "name": "stderr",
     "output_type": "stream",
     "text": [
      "C:\\Users\\ngoph\\AppData\\Local\\Temp\\ipykernel_27304\\3947983937.py:18: FutureWarning: YF.download() has changed argument auto_adjust default to True\n",
      "  stock_data = yf.download(symbol, start=start_date, end=end_date)\n",
      "[*********************100%***********************]  1 of 1 completed\n"
     ]
    },
    {
     "name": "stdout",
     "output_type": "stream",
     "text": [
      "Downloading data for FI\n"
     ]
    },
    {
     "name": "stderr",
     "output_type": "stream",
     "text": [
      "C:\\Users\\ngoph\\AppData\\Local\\Temp\\ipykernel_27304\\3947983937.py:18: FutureWarning: YF.download() has changed argument auto_adjust default to True\n",
      "  stock_data = yf.download(symbol, start=start_date, end=end_date)\n",
      "[*********************100%***********************]  1 of 1 completed\n"
     ]
    },
    {
     "name": "stdout",
     "output_type": "stream",
     "text": [
      "Downloading data for F\n"
     ]
    },
    {
     "name": "stderr",
     "output_type": "stream",
     "text": [
      "C:\\Users\\ngoph\\AppData\\Local\\Temp\\ipykernel_27304\\3947983937.py:18: FutureWarning: YF.download() has changed argument auto_adjust default to True\n",
      "  stock_data = yf.download(symbol, start=start_date, end=end_date)\n",
      "[*********************100%***********************]  1 of 1 completed\n"
     ]
    },
    {
     "name": "stdout",
     "output_type": "stream",
     "text": [
      "Downloading data for FTNT\n"
     ]
    },
    {
     "name": "stderr",
     "output_type": "stream",
     "text": [
      "C:\\Users\\ngoph\\AppData\\Local\\Temp\\ipykernel_27304\\3947983937.py:18: FutureWarning: YF.download() has changed argument auto_adjust default to True\n",
      "  stock_data = yf.download(symbol, start=start_date, end=end_date)\n",
      "[*********************100%***********************]  1 of 1 completed\n"
     ]
    },
    {
     "name": "stdout",
     "output_type": "stream",
     "text": [
      "Downloading data for FTV\n"
     ]
    },
    {
     "name": "stderr",
     "output_type": "stream",
     "text": [
      "C:\\Users\\ngoph\\AppData\\Local\\Temp\\ipykernel_27304\\3947983937.py:18: FutureWarning: YF.download() has changed argument auto_adjust default to True\n",
      "  stock_data = yf.download(symbol, start=start_date, end=end_date)\n",
      "[*********************100%***********************]  1 of 1 completed\n"
     ]
    },
    {
     "name": "stdout",
     "output_type": "stream",
     "text": [
      "Downloading data for FOXA\n"
     ]
    },
    {
     "name": "stderr",
     "output_type": "stream",
     "text": [
      "C:\\Users\\ngoph\\AppData\\Local\\Temp\\ipykernel_27304\\3947983937.py:18: FutureWarning: YF.download() has changed argument auto_adjust default to True\n",
      "  stock_data = yf.download(symbol, start=start_date, end=end_date)\n",
      "[*********************100%***********************]  1 of 1 completed\n"
     ]
    },
    {
     "name": "stdout",
     "output_type": "stream",
     "text": [
      "Downloading data for FOX\n"
     ]
    },
    {
     "name": "stderr",
     "output_type": "stream",
     "text": [
      "C:\\Users\\ngoph\\AppData\\Local\\Temp\\ipykernel_27304\\3947983937.py:18: FutureWarning: YF.download() has changed argument auto_adjust default to True\n",
      "  stock_data = yf.download(symbol, start=start_date, end=end_date)\n",
      "[*********************100%***********************]  1 of 1 completed\n"
     ]
    },
    {
     "name": "stdout",
     "output_type": "stream",
     "text": [
      "Downloading data for BEN\n"
     ]
    },
    {
     "name": "stderr",
     "output_type": "stream",
     "text": [
      "C:\\Users\\ngoph\\AppData\\Local\\Temp\\ipykernel_27304\\3947983937.py:18: FutureWarning: YF.download() has changed argument auto_adjust default to True\n",
      "  stock_data = yf.download(symbol, start=start_date, end=end_date)\n",
      "[*********************100%***********************]  1 of 1 completed\n"
     ]
    },
    {
     "name": "stdout",
     "output_type": "stream",
     "text": [
      "Downloading data for FCX\n"
     ]
    },
    {
     "name": "stderr",
     "output_type": "stream",
     "text": [
      "C:\\Users\\ngoph\\AppData\\Local\\Temp\\ipykernel_27304\\3947983937.py:18: FutureWarning: YF.download() has changed argument auto_adjust default to True\n",
      "  stock_data = yf.download(symbol, start=start_date, end=end_date)\n",
      "[*********************100%***********************]  1 of 1 completed\n"
     ]
    },
    {
     "name": "stdout",
     "output_type": "stream",
     "text": [
      "Downloading data for GRMN\n"
     ]
    },
    {
     "name": "stderr",
     "output_type": "stream",
     "text": [
      "C:\\Users\\ngoph\\AppData\\Local\\Temp\\ipykernel_27304\\3947983937.py:18: FutureWarning: YF.download() has changed argument auto_adjust default to True\n",
      "  stock_data = yf.download(symbol, start=start_date, end=end_date)\n",
      "[*********************100%***********************]  1 of 1 completed\n"
     ]
    },
    {
     "name": "stdout",
     "output_type": "stream",
     "text": [
      "Downloading data for IT\n"
     ]
    },
    {
     "name": "stderr",
     "output_type": "stream",
     "text": [
      "C:\\Users\\ngoph\\AppData\\Local\\Temp\\ipykernel_27304\\3947983937.py:18: FutureWarning: YF.download() has changed argument auto_adjust default to True\n",
      "  stock_data = yf.download(symbol, start=start_date, end=end_date)\n",
      "[*********************100%***********************]  1 of 1 completed\n"
     ]
    },
    {
     "name": "stdout",
     "output_type": "stream",
     "text": [
      "Downloading data for GE\n"
     ]
    },
    {
     "name": "stderr",
     "output_type": "stream",
     "text": [
      "C:\\Users\\ngoph\\AppData\\Local\\Temp\\ipykernel_27304\\3947983937.py:18: FutureWarning: YF.download() has changed argument auto_adjust default to True\n",
      "  stock_data = yf.download(symbol, start=start_date, end=end_date)\n",
      "[*********************100%***********************]  1 of 1 completed\n"
     ]
    },
    {
     "name": "stdout",
     "output_type": "stream",
     "text": [
      "Downloading data for GEHC\n"
     ]
    },
    {
     "name": "stderr",
     "output_type": "stream",
     "text": [
      "C:\\Users\\ngoph\\AppData\\Local\\Temp\\ipykernel_27304\\3947983937.py:18: FutureWarning: YF.download() has changed argument auto_adjust default to True\n",
      "  stock_data = yf.download(symbol, start=start_date, end=end_date)\n",
      "[*********************100%***********************]  1 of 1 completed\n"
     ]
    },
    {
     "name": "stdout",
     "output_type": "stream",
     "text": [
      "Downloading data for GEV\n"
     ]
    },
    {
     "name": "stderr",
     "output_type": "stream",
     "text": [
      "C:\\Users\\ngoph\\AppData\\Local\\Temp\\ipykernel_27304\\3947983937.py:18: FutureWarning: YF.download() has changed argument auto_adjust default to True\n",
      "  stock_data = yf.download(symbol, start=start_date, end=end_date)\n",
      "[*********************100%***********************]  1 of 1 completed\n"
     ]
    },
    {
     "name": "stdout",
     "output_type": "stream",
     "text": [
      "Downloading data for GEN\n"
     ]
    },
    {
     "name": "stderr",
     "output_type": "stream",
     "text": [
      "C:\\Users\\ngoph\\AppData\\Local\\Temp\\ipykernel_27304\\3947983937.py:18: FutureWarning: YF.download() has changed argument auto_adjust default to True\n",
      "  stock_data = yf.download(symbol, start=start_date, end=end_date)\n",
      "[*********************100%***********************]  1 of 1 completed\n"
     ]
    },
    {
     "name": "stdout",
     "output_type": "stream",
     "text": [
      "Downloading data for GNRC\n"
     ]
    },
    {
     "name": "stderr",
     "output_type": "stream",
     "text": [
      "C:\\Users\\ngoph\\AppData\\Local\\Temp\\ipykernel_27304\\3947983937.py:18: FutureWarning: YF.download() has changed argument auto_adjust default to True\n",
      "  stock_data = yf.download(symbol, start=start_date, end=end_date)\n",
      "[*********************100%***********************]  1 of 1 completed\n"
     ]
    },
    {
     "name": "stdout",
     "output_type": "stream",
     "text": [
      "Downloading data for GD\n"
     ]
    },
    {
     "name": "stderr",
     "output_type": "stream",
     "text": [
      "C:\\Users\\ngoph\\AppData\\Local\\Temp\\ipykernel_27304\\3947983937.py:18: FutureWarning: YF.download() has changed argument auto_adjust default to True\n",
      "  stock_data = yf.download(symbol, start=start_date, end=end_date)\n",
      "[*********************100%***********************]  1 of 1 completed\n"
     ]
    },
    {
     "name": "stdout",
     "output_type": "stream",
     "text": [
      "Downloading data for GIS\n"
     ]
    },
    {
     "name": "stderr",
     "output_type": "stream",
     "text": [
      "C:\\Users\\ngoph\\AppData\\Local\\Temp\\ipykernel_27304\\3947983937.py:18: FutureWarning: YF.download() has changed argument auto_adjust default to True\n",
      "  stock_data = yf.download(symbol, start=start_date, end=end_date)\n",
      "[*********************100%***********************]  1 of 1 completed\n"
     ]
    },
    {
     "name": "stdout",
     "output_type": "stream",
     "text": [
      "Downloading data for GM\n"
     ]
    },
    {
     "name": "stderr",
     "output_type": "stream",
     "text": [
      "C:\\Users\\ngoph\\AppData\\Local\\Temp\\ipykernel_27304\\3947983937.py:18: FutureWarning: YF.download() has changed argument auto_adjust default to True\n",
      "  stock_data = yf.download(symbol, start=start_date, end=end_date)\n",
      "[*********************100%***********************]  1 of 1 completed\n"
     ]
    },
    {
     "name": "stdout",
     "output_type": "stream",
     "text": [
      "Downloading data for GPC\n"
     ]
    },
    {
     "name": "stderr",
     "output_type": "stream",
     "text": [
      "C:\\Users\\ngoph\\AppData\\Local\\Temp\\ipykernel_27304\\3947983937.py:18: FutureWarning: YF.download() has changed argument auto_adjust default to True\n",
      "  stock_data = yf.download(symbol, start=start_date, end=end_date)\n",
      "[*********************100%***********************]  1 of 1 completed\n"
     ]
    },
    {
     "name": "stdout",
     "output_type": "stream",
     "text": [
      "Downloading data for GILD\n"
     ]
    },
    {
     "name": "stderr",
     "output_type": "stream",
     "text": [
      "C:\\Users\\ngoph\\AppData\\Local\\Temp\\ipykernel_27304\\3947983937.py:18: FutureWarning: YF.download() has changed argument auto_adjust default to True\n",
      "  stock_data = yf.download(symbol, start=start_date, end=end_date)\n",
      "[*********************100%***********************]  1 of 1 completed\n"
     ]
    },
    {
     "name": "stdout",
     "output_type": "stream",
     "text": [
      "Downloading data for GPN\n"
     ]
    },
    {
     "name": "stderr",
     "output_type": "stream",
     "text": [
      "C:\\Users\\ngoph\\AppData\\Local\\Temp\\ipykernel_27304\\3947983937.py:18: FutureWarning: YF.download() has changed argument auto_adjust default to True\n",
      "  stock_data = yf.download(symbol, start=start_date, end=end_date)\n",
      "[*********************100%***********************]  1 of 1 completed\n"
     ]
    },
    {
     "name": "stdout",
     "output_type": "stream",
     "text": [
      "Downloading data for GL\n"
     ]
    },
    {
     "name": "stderr",
     "output_type": "stream",
     "text": [
      "C:\\Users\\ngoph\\AppData\\Local\\Temp\\ipykernel_27304\\3947983937.py:18: FutureWarning: YF.download() has changed argument auto_adjust default to True\n",
      "  stock_data = yf.download(symbol, start=start_date, end=end_date)\n",
      "[*********************100%***********************]  1 of 1 completed\n"
     ]
    },
    {
     "name": "stdout",
     "output_type": "stream",
     "text": [
      "Downloading data for GDDY\n"
     ]
    },
    {
     "name": "stderr",
     "output_type": "stream",
     "text": [
      "C:\\Users\\ngoph\\AppData\\Local\\Temp\\ipykernel_27304\\3947983937.py:18: FutureWarning: YF.download() has changed argument auto_adjust default to True\n",
      "  stock_data = yf.download(symbol, start=start_date, end=end_date)\n",
      "[*********************100%***********************]  1 of 1 completed\n"
     ]
    },
    {
     "name": "stdout",
     "output_type": "stream",
     "text": [
      "Downloading data for GS\n"
     ]
    },
    {
     "name": "stderr",
     "output_type": "stream",
     "text": [
      "C:\\Users\\ngoph\\AppData\\Local\\Temp\\ipykernel_27304\\3947983937.py:18: FutureWarning: YF.download() has changed argument auto_adjust default to True\n",
      "  stock_data = yf.download(symbol, start=start_date, end=end_date)\n",
      "[*********************100%***********************]  1 of 1 completed\n"
     ]
    },
    {
     "name": "stdout",
     "output_type": "stream",
     "text": [
      "Downloading data for HAL\n"
     ]
    },
    {
     "name": "stderr",
     "output_type": "stream",
     "text": [
      "C:\\Users\\ngoph\\AppData\\Local\\Temp\\ipykernel_27304\\3947983937.py:18: FutureWarning: YF.download() has changed argument auto_adjust default to True\n",
      "  stock_data = yf.download(symbol, start=start_date, end=end_date)\n",
      "[*********************100%***********************]  1 of 1 completed\n"
     ]
    },
    {
     "name": "stdout",
     "output_type": "stream",
     "text": [
      "Downloading data for HIG\n"
     ]
    },
    {
     "name": "stderr",
     "output_type": "stream",
     "text": [
      "C:\\Users\\ngoph\\AppData\\Local\\Temp\\ipykernel_27304\\3947983937.py:18: FutureWarning: YF.download() has changed argument auto_adjust default to True\n",
      "  stock_data = yf.download(symbol, start=start_date, end=end_date)\n",
      "[*********************100%***********************]  1 of 1 completed\n"
     ]
    },
    {
     "name": "stdout",
     "output_type": "stream",
     "text": [
      "Downloading data for HAS\n"
     ]
    },
    {
     "name": "stderr",
     "output_type": "stream",
     "text": [
      "C:\\Users\\ngoph\\AppData\\Local\\Temp\\ipykernel_27304\\3947983937.py:18: FutureWarning: YF.download() has changed argument auto_adjust default to True\n",
      "  stock_data = yf.download(symbol, start=start_date, end=end_date)\n",
      "[*********************100%***********************]  1 of 1 completed\n"
     ]
    },
    {
     "name": "stdout",
     "output_type": "stream",
     "text": [
      "Downloading data for HCA\n"
     ]
    },
    {
     "name": "stderr",
     "output_type": "stream",
     "text": [
      "C:\\Users\\ngoph\\AppData\\Local\\Temp\\ipykernel_27304\\3947983937.py:18: FutureWarning: YF.download() has changed argument auto_adjust default to True\n",
      "  stock_data = yf.download(symbol, start=start_date, end=end_date)\n",
      "[*********************100%***********************]  1 of 1 completed\n"
     ]
    },
    {
     "name": "stdout",
     "output_type": "stream",
     "text": [
      "Downloading data for DOC\n"
     ]
    },
    {
     "name": "stderr",
     "output_type": "stream",
     "text": [
      "C:\\Users\\ngoph\\AppData\\Local\\Temp\\ipykernel_27304\\3947983937.py:18: FutureWarning: YF.download() has changed argument auto_adjust default to True\n",
      "  stock_data = yf.download(symbol, start=start_date, end=end_date)\n",
      "[*********************100%***********************]  1 of 1 completed\n"
     ]
    },
    {
     "name": "stdout",
     "output_type": "stream",
     "text": [
      "Downloading data for HSIC\n"
     ]
    },
    {
     "name": "stderr",
     "output_type": "stream",
     "text": [
      "C:\\Users\\ngoph\\AppData\\Local\\Temp\\ipykernel_27304\\3947983937.py:18: FutureWarning: YF.download() has changed argument auto_adjust default to True\n",
      "  stock_data = yf.download(symbol, start=start_date, end=end_date)\n",
      "[*********************100%***********************]  1 of 1 completed\n"
     ]
    },
    {
     "name": "stdout",
     "output_type": "stream",
     "text": [
      "Downloading data for HSY\n"
     ]
    },
    {
     "name": "stderr",
     "output_type": "stream",
     "text": [
      "C:\\Users\\ngoph\\AppData\\Local\\Temp\\ipykernel_27304\\3947983937.py:18: FutureWarning: YF.download() has changed argument auto_adjust default to True\n",
      "  stock_data = yf.download(symbol, start=start_date, end=end_date)\n",
      "[*********************100%***********************]  1 of 1 completed\n"
     ]
    },
    {
     "name": "stdout",
     "output_type": "stream",
     "text": [
      "Downloading data for HPE\n"
     ]
    },
    {
     "name": "stderr",
     "output_type": "stream",
     "text": [
      "C:\\Users\\ngoph\\AppData\\Local\\Temp\\ipykernel_27304\\3947983937.py:18: FutureWarning: YF.download() has changed argument auto_adjust default to True\n",
      "  stock_data = yf.download(symbol, start=start_date, end=end_date)\n",
      "[*********************100%***********************]  1 of 1 completed\n"
     ]
    },
    {
     "name": "stdout",
     "output_type": "stream",
     "text": [
      "Downloading data for HLT\n"
     ]
    },
    {
     "name": "stderr",
     "output_type": "stream",
     "text": [
      "C:\\Users\\ngoph\\AppData\\Local\\Temp\\ipykernel_27304\\3947983937.py:18: FutureWarning: YF.download() has changed argument auto_adjust default to True\n",
      "  stock_data = yf.download(symbol, start=start_date, end=end_date)\n",
      "[*********************100%***********************]  1 of 1 completed\n"
     ]
    },
    {
     "name": "stdout",
     "output_type": "stream",
     "text": [
      "Downloading data for HOLX\n"
     ]
    },
    {
     "name": "stderr",
     "output_type": "stream",
     "text": [
      "C:\\Users\\ngoph\\AppData\\Local\\Temp\\ipykernel_27304\\3947983937.py:18: FutureWarning: YF.download() has changed argument auto_adjust default to True\n",
      "  stock_data = yf.download(symbol, start=start_date, end=end_date)\n",
      "[*********************100%***********************]  1 of 1 completed\n"
     ]
    },
    {
     "name": "stdout",
     "output_type": "stream",
     "text": [
      "Downloading data for HD\n"
     ]
    },
    {
     "name": "stderr",
     "output_type": "stream",
     "text": [
      "C:\\Users\\ngoph\\AppData\\Local\\Temp\\ipykernel_27304\\3947983937.py:18: FutureWarning: YF.download() has changed argument auto_adjust default to True\n",
      "  stock_data = yf.download(symbol, start=start_date, end=end_date)\n",
      "[*********************100%***********************]  1 of 1 completed\n"
     ]
    },
    {
     "name": "stdout",
     "output_type": "stream",
     "text": [
      "Downloading data for HON\n"
     ]
    },
    {
     "name": "stderr",
     "output_type": "stream",
     "text": [
      "C:\\Users\\ngoph\\AppData\\Local\\Temp\\ipykernel_27304\\3947983937.py:18: FutureWarning: YF.download() has changed argument auto_adjust default to True\n",
      "  stock_data = yf.download(symbol, start=start_date, end=end_date)\n",
      "[*********************100%***********************]  1 of 1 completed\n"
     ]
    },
    {
     "name": "stdout",
     "output_type": "stream",
     "text": [
      "Downloading data for HRL\n"
     ]
    },
    {
     "name": "stderr",
     "output_type": "stream",
     "text": [
      "C:\\Users\\ngoph\\AppData\\Local\\Temp\\ipykernel_27304\\3947983937.py:18: FutureWarning: YF.download() has changed argument auto_adjust default to True\n",
      "  stock_data = yf.download(symbol, start=start_date, end=end_date)\n",
      "[*********************100%***********************]  1 of 1 completed\n"
     ]
    },
    {
     "name": "stdout",
     "output_type": "stream",
     "text": [
      "Downloading data for HST\n"
     ]
    },
    {
     "name": "stderr",
     "output_type": "stream",
     "text": [
      "C:\\Users\\ngoph\\AppData\\Local\\Temp\\ipykernel_27304\\3947983937.py:18: FutureWarning: YF.download() has changed argument auto_adjust default to True\n",
      "  stock_data = yf.download(symbol, start=start_date, end=end_date)\n",
      "[*********************100%***********************]  1 of 1 completed\n"
     ]
    },
    {
     "name": "stdout",
     "output_type": "stream",
     "text": [
      "Downloading data for HWM\n"
     ]
    },
    {
     "name": "stderr",
     "output_type": "stream",
     "text": [
      "C:\\Users\\ngoph\\AppData\\Local\\Temp\\ipykernel_27304\\3947983937.py:18: FutureWarning: YF.download() has changed argument auto_adjust default to True\n",
      "  stock_data = yf.download(symbol, start=start_date, end=end_date)\n",
      "[*********************100%***********************]  1 of 1 completed\n"
     ]
    },
    {
     "name": "stdout",
     "output_type": "stream",
     "text": [
      "Downloading data for HPQ\n"
     ]
    },
    {
     "name": "stderr",
     "output_type": "stream",
     "text": [
      "C:\\Users\\ngoph\\AppData\\Local\\Temp\\ipykernel_27304\\3947983937.py:18: FutureWarning: YF.download() has changed argument auto_adjust default to True\n",
      "  stock_data = yf.download(symbol, start=start_date, end=end_date)\n",
      "[*********************100%***********************]  1 of 1 completed\n"
     ]
    },
    {
     "name": "stdout",
     "output_type": "stream",
     "text": [
      "Downloading data for HUBB\n"
     ]
    },
    {
     "name": "stderr",
     "output_type": "stream",
     "text": [
      "C:\\Users\\ngoph\\AppData\\Local\\Temp\\ipykernel_27304\\3947983937.py:18: FutureWarning: YF.download() has changed argument auto_adjust default to True\n",
      "  stock_data = yf.download(symbol, start=start_date, end=end_date)\n",
      "[*********************100%***********************]  1 of 1 completed\n"
     ]
    },
    {
     "name": "stdout",
     "output_type": "stream",
     "text": [
      "Downloading data for HUM\n"
     ]
    },
    {
     "name": "stderr",
     "output_type": "stream",
     "text": [
      "C:\\Users\\ngoph\\AppData\\Local\\Temp\\ipykernel_27304\\3947983937.py:18: FutureWarning: YF.download() has changed argument auto_adjust default to True\n",
      "  stock_data = yf.download(symbol, start=start_date, end=end_date)\n",
      "[*********************100%***********************]  1 of 1 completed\n"
     ]
    },
    {
     "name": "stdout",
     "output_type": "stream",
     "text": [
      "Downloading data for HBAN\n"
     ]
    },
    {
     "name": "stderr",
     "output_type": "stream",
     "text": [
      "C:\\Users\\ngoph\\AppData\\Local\\Temp\\ipykernel_27304\\3947983937.py:18: FutureWarning: YF.download() has changed argument auto_adjust default to True\n",
      "  stock_data = yf.download(symbol, start=start_date, end=end_date)\n",
      "[*********************100%***********************]  1 of 1 completed\n"
     ]
    },
    {
     "name": "stdout",
     "output_type": "stream",
     "text": [
      "Downloading data for HII\n"
     ]
    },
    {
     "name": "stderr",
     "output_type": "stream",
     "text": [
      "C:\\Users\\ngoph\\AppData\\Local\\Temp\\ipykernel_27304\\3947983937.py:18: FutureWarning: YF.download() has changed argument auto_adjust default to True\n",
      "  stock_data = yf.download(symbol, start=start_date, end=end_date)\n",
      "[*********************100%***********************]  1 of 1 completed\n"
     ]
    },
    {
     "name": "stdout",
     "output_type": "stream",
     "text": [
      "Downloading data for IBM\n"
     ]
    },
    {
     "name": "stderr",
     "output_type": "stream",
     "text": [
      "C:\\Users\\ngoph\\AppData\\Local\\Temp\\ipykernel_27304\\3947983937.py:18: FutureWarning: YF.download() has changed argument auto_adjust default to True\n",
      "  stock_data = yf.download(symbol, start=start_date, end=end_date)\n",
      "[*********************100%***********************]  1 of 1 completed\n"
     ]
    },
    {
     "name": "stdout",
     "output_type": "stream",
     "text": [
      "Downloading data for IEX\n"
     ]
    },
    {
     "name": "stderr",
     "output_type": "stream",
     "text": [
      "C:\\Users\\ngoph\\AppData\\Local\\Temp\\ipykernel_27304\\3947983937.py:18: FutureWarning: YF.download() has changed argument auto_adjust default to True\n",
      "  stock_data = yf.download(symbol, start=start_date, end=end_date)\n",
      "[*********************100%***********************]  1 of 1 completed\n"
     ]
    },
    {
     "name": "stdout",
     "output_type": "stream",
     "text": [
      "Downloading data for IDXX\n"
     ]
    },
    {
     "name": "stderr",
     "output_type": "stream",
     "text": [
      "C:\\Users\\ngoph\\AppData\\Local\\Temp\\ipykernel_27304\\3947983937.py:18: FutureWarning: YF.download() has changed argument auto_adjust default to True\n",
      "  stock_data = yf.download(symbol, start=start_date, end=end_date)\n",
      "[*********************100%***********************]  1 of 1 completed\n"
     ]
    },
    {
     "name": "stdout",
     "output_type": "stream",
     "text": [
      "Downloading data for ITW\n"
     ]
    },
    {
     "name": "stderr",
     "output_type": "stream",
     "text": [
      "C:\\Users\\ngoph\\AppData\\Local\\Temp\\ipykernel_27304\\3947983937.py:18: FutureWarning: YF.download() has changed argument auto_adjust default to True\n",
      "  stock_data = yf.download(symbol, start=start_date, end=end_date)\n",
      "[*********************100%***********************]  1 of 1 completed\n"
     ]
    },
    {
     "name": "stdout",
     "output_type": "stream",
     "text": [
      "Downloading data for INCY\n"
     ]
    },
    {
     "name": "stderr",
     "output_type": "stream",
     "text": [
      "C:\\Users\\ngoph\\AppData\\Local\\Temp\\ipykernel_27304\\3947983937.py:18: FutureWarning: YF.download() has changed argument auto_adjust default to True\n",
      "  stock_data = yf.download(symbol, start=start_date, end=end_date)\n",
      "[*********************100%***********************]  1 of 1 completed\n"
     ]
    },
    {
     "name": "stdout",
     "output_type": "stream",
     "text": [
      "Downloading data for IR\n"
     ]
    },
    {
     "name": "stderr",
     "output_type": "stream",
     "text": [
      "C:\\Users\\ngoph\\AppData\\Local\\Temp\\ipykernel_27304\\3947983937.py:18: FutureWarning: YF.download() has changed argument auto_adjust default to True\n",
      "  stock_data = yf.download(symbol, start=start_date, end=end_date)\n",
      "[*********************100%***********************]  1 of 1 completed\n"
     ]
    },
    {
     "name": "stdout",
     "output_type": "stream",
     "text": [
      "Downloading data for PODD\n"
     ]
    },
    {
     "name": "stderr",
     "output_type": "stream",
     "text": [
      "C:\\Users\\ngoph\\AppData\\Local\\Temp\\ipykernel_27304\\3947983937.py:18: FutureWarning: YF.download() has changed argument auto_adjust default to True\n",
      "  stock_data = yf.download(symbol, start=start_date, end=end_date)\n",
      "[*********************100%***********************]  1 of 1 completed\n"
     ]
    },
    {
     "name": "stdout",
     "output_type": "stream",
     "text": [
      "Downloading data for INTC\n"
     ]
    },
    {
     "name": "stderr",
     "output_type": "stream",
     "text": [
      "C:\\Users\\ngoph\\AppData\\Local\\Temp\\ipykernel_27304\\3947983937.py:18: FutureWarning: YF.download() has changed argument auto_adjust default to True\n",
      "  stock_data = yf.download(symbol, start=start_date, end=end_date)\n",
      "[*********************100%***********************]  1 of 1 completed\n"
     ]
    },
    {
     "name": "stdout",
     "output_type": "stream",
     "text": [
      "Downloading data for ICE\n"
     ]
    },
    {
     "name": "stderr",
     "output_type": "stream",
     "text": [
      "C:\\Users\\ngoph\\AppData\\Local\\Temp\\ipykernel_27304\\3947983937.py:18: FutureWarning: YF.download() has changed argument auto_adjust default to True\n",
      "  stock_data = yf.download(symbol, start=start_date, end=end_date)\n",
      "[*********************100%***********************]  1 of 1 completed\n"
     ]
    },
    {
     "name": "stdout",
     "output_type": "stream",
     "text": [
      "Downloading data for IFF\n"
     ]
    },
    {
     "name": "stderr",
     "output_type": "stream",
     "text": [
      "C:\\Users\\ngoph\\AppData\\Local\\Temp\\ipykernel_27304\\3947983937.py:18: FutureWarning: YF.download() has changed argument auto_adjust default to True\n",
      "  stock_data = yf.download(symbol, start=start_date, end=end_date)\n",
      "[*********************100%***********************]  1 of 1 completed\n"
     ]
    },
    {
     "name": "stdout",
     "output_type": "stream",
     "text": [
      "Downloading data for IP\n"
     ]
    },
    {
     "name": "stderr",
     "output_type": "stream",
     "text": [
      "C:\\Users\\ngoph\\AppData\\Local\\Temp\\ipykernel_27304\\3947983937.py:18: FutureWarning: YF.download() has changed argument auto_adjust default to True\n",
      "  stock_data = yf.download(symbol, start=start_date, end=end_date)\n",
      "[*********************100%***********************]  1 of 1 completed\n"
     ]
    },
    {
     "name": "stdout",
     "output_type": "stream",
     "text": [
      "Downloading data for IPG\n"
     ]
    },
    {
     "name": "stderr",
     "output_type": "stream",
     "text": [
      "C:\\Users\\ngoph\\AppData\\Local\\Temp\\ipykernel_27304\\3947983937.py:18: FutureWarning: YF.download() has changed argument auto_adjust default to True\n",
      "  stock_data = yf.download(symbol, start=start_date, end=end_date)\n",
      "[*********************100%***********************]  1 of 1 completed\n"
     ]
    },
    {
     "name": "stdout",
     "output_type": "stream",
     "text": [
      "Downloading data for INTU\n"
     ]
    },
    {
     "name": "stderr",
     "output_type": "stream",
     "text": [
      "C:\\Users\\ngoph\\AppData\\Local\\Temp\\ipykernel_27304\\3947983937.py:18: FutureWarning: YF.download() has changed argument auto_adjust default to True\n",
      "  stock_data = yf.download(symbol, start=start_date, end=end_date)\n",
      "[*********************100%***********************]  1 of 1 completed\n"
     ]
    },
    {
     "name": "stdout",
     "output_type": "stream",
     "text": [
      "Downloading data for ISRG\n"
     ]
    },
    {
     "name": "stderr",
     "output_type": "stream",
     "text": [
      "C:\\Users\\ngoph\\AppData\\Local\\Temp\\ipykernel_27304\\3947983937.py:18: FutureWarning: YF.download() has changed argument auto_adjust default to True\n",
      "  stock_data = yf.download(symbol, start=start_date, end=end_date)\n",
      "[*********************100%***********************]  1 of 1 completed\n"
     ]
    },
    {
     "name": "stdout",
     "output_type": "stream",
     "text": [
      "Downloading data for IVZ\n"
     ]
    },
    {
     "name": "stderr",
     "output_type": "stream",
     "text": [
      "C:\\Users\\ngoph\\AppData\\Local\\Temp\\ipykernel_27304\\3947983937.py:18: FutureWarning: YF.download() has changed argument auto_adjust default to True\n",
      "  stock_data = yf.download(symbol, start=start_date, end=end_date)\n",
      "[*********************100%***********************]  1 of 1 completed\n"
     ]
    },
    {
     "name": "stdout",
     "output_type": "stream",
     "text": [
      "Downloading data for INVH\n"
     ]
    },
    {
     "name": "stderr",
     "output_type": "stream",
     "text": [
      "C:\\Users\\ngoph\\AppData\\Local\\Temp\\ipykernel_27304\\3947983937.py:18: FutureWarning: YF.download() has changed argument auto_adjust default to True\n",
      "  stock_data = yf.download(symbol, start=start_date, end=end_date)\n",
      "[*********************100%***********************]  1 of 1 completed\n"
     ]
    },
    {
     "name": "stdout",
     "output_type": "stream",
     "text": [
      "Downloading data for IQV\n"
     ]
    },
    {
     "name": "stderr",
     "output_type": "stream",
     "text": [
      "C:\\Users\\ngoph\\AppData\\Local\\Temp\\ipykernel_27304\\3947983937.py:18: FutureWarning: YF.download() has changed argument auto_adjust default to True\n",
      "  stock_data = yf.download(symbol, start=start_date, end=end_date)\n",
      "[*********************100%***********************]  1 of 1 completed\n"
     ]
    },
    {
     "name": "stdout",
     "output_type": "stream",
     "text": [
      "Downloading data for IRM\n"
     ]
    },
    {
     "name": "stderr",
     "output_type": "stream",
     "text": [
      "C:\\Users\\ngoph\\AppData\\Local\\Temp\\ipykernel_27304\\3947983937.py:18: FutureWarning: YF.download() has changed argument auto_adjust default to True\n",
      "  stock_data = yf.download(symbol, start=start_date, end=end_date)\n",
      "[*********************100%***********************]  1 of 1 completed\n"
     ]
    },
    {
     "name": "stdout",
     "output_type": "stream",
     "text": [
      "Downloading data for JBHT\n"
     ]
    },
    {
     "name": "stderr",
     "output_type": "stream",
     "text": [
      "C:\\Users\\ngoph\\AppData\\Local\\Temp\\ipykernel_27304\\3947983937.py:18: FutureWarning: YF.download() has changed argument auto_adjust default to True\n",
      "  stock_data = yf.download(symbol, start=start_date, end=end_date)\n",
      "[*********************100%***********************]  1 of 1 completed\n"
     ]
    },
    {
     "name": "stdout",
     "output_type": "stream",
     "text": [
      "Downloading data for JBL\n"
     ]
    },
    {
     "name": "stderr",
     "output_type": "stream",
     "text": [
      "C:\\Users\\ngoph\\AppData\\Local\\Temp\\ipykernel_27304\\3947983937.py:18: FutureWarning: YF.download() has changed argument auto_adjust default to True\n",
      "  stock_data = yf.download(symbol, start=start_date, end=end_date)\n",
      "[*********************100%***********************]  1 of 1 completed\n"
     ]
    },
    {
     "name": "stdout",
     "output_type": "stream",
     "text": [
      "Downloading data for JKHY\n"
     ]
    },
    {
     "name": "stderr",
     "output_type": "stream",
     "text": [
      "C:\\Users\\ngoph\\AppData\\Local\\Temp\\ipykernel_27304\\3947983937.py:18: FutureWarning: YF.download() has changed argument auto_adjust default to True\n",
      "  stock_data = yf.download(symbol, start=start_date, end=end_date)\n",
      "[*********************100%***********************]  1 of 1 completed\n"
     ]
    },
    {
     "name": "stdout",
     "output_type": "stream",
     "text": [
      "Downloading data for J\n"
     ]
    },
    {
     "name": "stderr",
     "output_type": "stream",
     "text": [
      "C:\\Users\\ngoph\\AppData\\Local\\Temp\\ipykernel_27304\\3947983937.py:18: FutureWarning: YF.download() has changed argument auto_adjust default to True\n",
      "  stock_data = yf.download(symbol, start=start_date, end=end_date)\n",
      "[*********************100%***********************]  1 of 1 completed\n"
     ]
    },
    {
     "name": "stdout",
     "output_type": "stream",
     "text": [
      "Downloading data for JNJ\n"
     ]
    },
    {
     "name": "stderr",
     "output_type": "stream",
     "text": [
      "C:\\Users\\ngoph\\AppData\\Local\\Temp\\ipykernel_27304\\3947983937.py:18: FutureWarning: YF.download() has changed argument auto_adjust default to True\n",
      "  stock_data = yf.download(symbol, start=start_date, end=end_date)\n",
      "[*********************100%***********************]  1 of 1 completed\n"
     ]
    },
    {
     "name": "stdout",
     "output_type": "stream",
     "text": [
      "Downloading data for JCI\n"
     ]
    },
    {
     "name": "stderr",
     "output_type": "stream",
     "text": [
      "C:\\Users\\ngoph\\AppData\\Local\\Temp\\ipykernel_27304\\3947983937.py:18: FutureWarning: YF.download() has changed argument auto_adjust default to True\n",
      "  stock_data = yf.download(symbol, start=start_date, end=end_date)\n",
      "[*********************100%***********************]  1 of 1 completed\n"
     ]
    },
    {
     "name": "stdout",
     "output_type": "stream",
     "text": [
      "Downloading data for JPM\n"
     ]
    },
    {
     "name": "stderr",
     "output_type": "stream",
     "text": [
      "C:\\Users\\ngoph\\AppData\\Local\\Temp\\ipykernel_27304\\3947983937.py:18: FutureWarning: YF.download() has changed argument auto_adjust default to True\n",
      "  stock_data = yf.download(symbol, start=start_date, end=end_date)\n",
      "[*********************100%***********************]  1 of 1 completed\n"
     ]
    },
    {
     "name": "stdout",
     "output_type": "stream",
     "text": [
      "Downloading data for K\n"
     ]
    },
    {
     "name": "stderr",
     "output_type": "stream",
     "text": [
      "C:\\Users\\ngoph\\AppData\\Local\\Temp\\ipykernel_27304\\3947983937.py:18: FutureWarning: YF.download() has changed argument auto_adjust default to True\n",
      "  stock_data = yf.download(symbol, start=start_date, end=end_date)\n",
      "[*********************100%***********************]  1 of 1 completed\n"
     ]
    },
    {
     "name": "stdout",
     "output_type": "stream",
     "text": [
      "Downloading data for KVUE\n"
     ]
    },
    {
     "name": "stderr",
     "output_type": "stream",
     "text": [
      "C:\\Users\\ngoph\\AppData\\Local\\Temp\\ipykernel_27304\\3947983937.py:18: FutureWarning: YF.download() has changed argument auto_adjust default to True\n",
      "  stock_data = yf.download(symbol, start=start_date, end=end_date)\n",
      "[*********************100%***********************]  1 of 1 completed\n"
     ]
    },
    {
     "name": "stdout",
     "output_type": "stream",
     "text": [
      "Downloading data for KDP\n"
     ]
    },
    {
     "name": "stderr",
     "output_type": "stream",
     "text": [
      "C:\\Users\\ngoph\\AppData\\Local\\Temp\\ipykernel_27304\\3947983937.py:18: FutureWarning: YF.download() has changed argument auto_adjust default to True\n",
      "  stock_data = yf.download(symbol, start=start_date, end=end_date)\n",
      "[*********************100%***********************]  1 of 1 completed\n"
     ]
    },
    {
     "name": "stdout",
     "output_type": "stream",
     "text": [
      "Downloading data for KEY\n"
     ]
    },
    {
     "name": "stderr",
     "output_type": "stream",
     "text": [
      "C:\\Users\\ngoph\\AppData\\Local\\Temp\\ipykernel_27304\\3947983937.py:18: FutureWarning: YF.download() has changed argument auto_adjust default to True\n",
      "  stock_data = yf.download(symbol, start=start_date, end=end_date)\n",
      "[*********************100%***********************]  1 of 1 completed\n"
     ]
    },
    {
     "name": "stdout",
     "output_type": "stream",
     "text": [
      "Downloading data for KEYS\n"
     ]
    },
    {
     "name": "stderr",
     "output_type": "stream",
     "text": [
      "C:\\Users\\ngoph\\AppData\\Local\\Temp\\ipykernel_27304\\3947983937.py:18: FutureWarning: YF.download() has changed argument auto_adjust default to True\n",
      "  stock_data = yf.download(symbol, start=start_date, end=end_date)\n",
      "[*********************100%***********************]  1 of 1 completed\n"
     ]
    },
    {
     "name": "stdout",
     "output_type": "stream",
     "text": [
      "Downloading data for KMB\n"
     ]
    },
    {
     "name": "stderr",
     "output_type": "stream",
     "text": [
      "C:\\Users\\ngoph\\AppData\\Local\\Temp\\ipykernel_27304\\3947983937.py:18: FutureWarning: YF.download() has changed argument auto_adjust default to True\n",
      "  stock_data = yf.download(symbol, start=start_date, end=end_date)\n",
      "[*********************100%***********************]  1 of 1 completed\n"
     ]
    },
    {
     "name": "stdout",
     "output_type": "stream",
     "text": [
      "Downloading data for KIM\n"
     ]
    },
    {
     "name": "stderr",
     "output_type": "stream",
     "text": [
      "C:\\Users\\ngoph\\AppData\\Local\\Temp\\ipykernel_27304\\3947983937.py:18: FutureWarning: YF.download() has changed argument auto_adjust default to True\n",
      "  stock_data = yf.download(symbol, start=start_date, end=end_date)\n",
      "[*********************100%***********************]  1 of 1 completed\n"
     ]
    },
    {
     "name": "stdout",
     "output_type": "stream",
     "text": [
      "Downloading data for KMI\n"
     ]
    },
    {
     "name": "stderr",
     "output_type": "stream",
     "text": [
      "C:\\Users\\ngoph\\AppData\\Local\\Temp\\ipykernel_27304\\3947983937.py:18: FutureWarning: YF.download() has changed argument auto_adjust default to True\n",
      "  stock_data = yf.download(symbol, start=start_date, end=end_date)\n",
      "[*********************100%***********************]  1 of 1 completed\n"
     ]
    },
    {
     "name": "stdout",
     "output_type": "stream",
     "text": [
      "Downloading data for KKR\n"
     ]
    },
    {
     "name": "stderr",
     "output_type": "stream",
     "text": [
      "C:\\Users\\ngoph\\AppData\\Local\\Temp\\ipykernel_27304\\3947983937.py:18: FutureWarning: YF.download() has changed argument auto_adjust default to True\n",
      "  stock_data = yf.download(symbol, start=start_date, end=end_date)\n",
      "[*********************100%***********************]  1 of 1 completed\n"
     ]
    },
    {
     "name": "stdout",
     "output_type": "stream",
     "text": [
      "Downloading data for KLAC\n"
     ]
    },
    {
     "name": "stderr",
     "output_type": "stream",
     "text": [
      "C:\\Users\\ngoph\\AppData\\Local\\Temp\\ipykernel_27304\\3947983937.py:18: FutureWarning: YF.download() has changed argument auto_adjust default to True\n",
      "  stock_data = yf.download(symbol, start=start_date, end=end_date)\n",
      "[*********************100%***********************]  1 of 1 completed\n"
     ]
    },
    {
     "name": "stdout",
     "output_type": "stream",
     "text": [
      "Downloading data for KHC\n"
     ]
    },
    {
     "name": "stderr",
     "output_type": "stream",
     "text": [
      "C:\\Users\\ngoph\\AppData\\Local\\Temp\\ipykernel_27304\\3947983937.py:18: FutureWarning: YF.download() has changed argument auto_adjust default to True\n",
      "  stock_data = yf.download(symbol, start=start_date, end=end_date)\n",
      "[*********************100%***********************]  1 of 1 completed\n"
     ]
    },
    {
     "name": "stdout",
     "output_type": "stream",
     "text": [
      "Downloading data for KR\n"
     ]
    },
    {
     "name": "stderr",
     "output_type": "stream",
     "text": [
      "C:\\Users\\ngoph\\AppData\\Local\\Temp\\ipykernel_27304\\3947983937.py:18: FutureWarning: YF.download() has changed argument auto_adjust default to True\n",
      "  stock_data = yf.download(symbol, start=start_date, end=end_date)\n",
      "[*********************100%***********************]  1 of 1 completed\n"
     ]
    },
    {
     "name": "stdout",
     "output_type": "stream",
     "text": [
      "Downloading data for LHX\n"
     ]
    },
    {
     "name": "stderr",
     "output_type": "stream",
     "text": [
      "C:\\Users\\ngoph\\AppData\\Local\\Temp\\ipykernel_27304\\3947983937.py:18: FutureWarning: YF.download() has changed argument auto_adjust default to True\n",
      "  stock_data = yf.download(symbol, start=start_date, end=end_date)\n",
      "[*********************100%***********************]  1 of 1 completed\n"
     ]
    },
    {
     "name": "stdout",
     "output_type": "stream",
     "text": [
      "Downloading data for LH\n"
     ]
    },
    {
     "name": "stderr",
     "output_type": "stream",
     "text": [
      "C:\\Users\\ngoph\\AppData\\Local\\Temp\\ipykernel_27304\\3947983937.py:18: FutureWarning: YF.download() has changed argument auto_adjust default to True\n",
      "  stock_data = yf.download(symbol, start=start_date, end=end_date)\n",
      "[*********************100%***********************]  1 of 1 completed\n"
     ]
    },
    {
     "name": "stdout",
     "output_type": "stream",
     "text": [
      "Downloading data for LRCX\n"
     ]
    },
    {
     "name": "stderr",
     "output_type": "stream",
     "text": [
      "C:\\Users\\ngoph\\AppData\\Local\\Temp\\ipykernel_27304\\3947983937.py:18: FutureWarning: YF.download() has changed argument auto_adjust default to True\n",
      "  stock_data = yf.download(symbol, start=start_date, end=end_date)\n",
      "[*********************100%***********************]  1 of 1 completed\n"
     ]
    },
    {
     "name": "stdout",
     "output_type": "stream",
     "text": [
      "Downloading data for LW\n"
     ]
    },
    {
     "name": "stderr",
     "output_type": "stream",
     "text": [
      "C:\\Users\\ngoph\\AppData\\Local\\Temp\\ipykernel_27304\\3947983937.py:18: FutureWarning: YF.download() has changed argument auto_adjust default to True\n",
      "  stock_data = yf.download(symbol, start=start_date, end=end_date)\n",
      "[*********************100%***********************]  1 of 1 completed\n"
     ]
    },
    {
     "name": "stdout",
     "output_type": "stream",
     "text": [
      "Downloading data for LVS\n"
     ]
    },
    {
     "name": "stderr",
     "output_type": "stream",
     "text": [
      "C:\\Users\\ngoph\\AppData\\Local\\Temp\\ipykernel_27304\\3947983937.py:18: FutureWarning: YF.download() has changed argument auto_adjust default to True\n",
      "  stock_data = yf.download(symbol, start=start_date, end=end_date)\n",
      "[*********************100%***********************]  1 of 1 completed\n"
     ]
    },
    {
     "name": "stdout",
     "output_type": "stream",
     "text": [
      "Downloading data for LDOS\n"
     ]
    },
    {
     "name": "stderr",
     "output_type": "stream",
     "text": [
      "C:\\Users\\ngoph\\AppData\\Local\\Temp\\ipykernel_27304\\3947983937.py:18: FutureWarning: YF.download() has changed argument auto_adjust default to True\n",
      "  stock_data = yf.download(symbol, start=start_date, end=end_date)\n",
      "[*********************100%***********************]  1 of 1 completed\n"
     ]
    },
    {
     "name": "stdout",
     "output_type": "stream",
     "text": [
      "Downloading data for LEN\n"
     ]
    },
    {
     "name": "stderr",
     "output_type": "stream",
     "text": [
      "C:\\Users\\ngoph\\AppData\\Local\\Temp\\ipykernel_27304\\3947983937.py:18: FutureWarning: YF.download() has changed argument auto_adjust default to True\n",
      "  stock_data = yf.download(symbol, start=start_date, end=end_date)\n",
      "[*********************100%***********************]  1 of 1 completed\n"
     ]
    },
    {
     "name": "stdout",
     "output_type": "stream",
     "text": [
      "Downloading data for LII\n"
     ]
    },
    {
     "name": "stderr",
     "output_type": "stream",
     "text": [
      "C:\\Users\\ngoph\\AppData\\Local\\Temp\\ipykernel_27304\\3947983937.py:18: FutureWarning: YF.download() has changed argument auto_adjust default to True\n",
      "  stock_data = yf.download(symbol, start=start_date, end=end_date)\n",
      "[*********************100%***********************]  1 of 1 completed\n"
     ]
    },
    {
     "name": "stdout",
     "output_type": "stream",
     "text": [
      "Downloading data for LLY\n"
     ]
    },
    {
     "name": "stderr",
     "output_type": "stream",
     "text": [
      "C:\\Users\\ngoph\\AppData\\Local\\Temp\\ipykernel_27304\\3947983937.py:18: FutureWarning: YF.download() has changed argument auto_adjust default to True\n",
      "  stock_data = yf.download(symbol, start=start_date, end=end_date)\n",
      "[*********************100%***********************]  1 of 1 completed\n"
     ]
    },
    {
     "name": "stdout",
     "output_type": "stream",
     "text": [
      "Downloading data for LIN\n"
     ]
    },
    {
     "name": "stderr",
     "output_type": "stream",
     "text": [
      "C:\\Users\\ngoph\\AppData\\Local\\Temp\\ipykernel_27304\\3947983937.py:18: FutureWarning: YF.download() has changed argument auto_adjust default to True\n",
      "  stock_data = yf.download(symbol, start=start_date, end=end_date)\n",
      "[*********************100%***********************]  1 of 1 completed\n"
     ]
    },
    {
     "name": "stdout",
     "output_type": "stream",
     "text": [
      "Downloading data for LYV\n"
     ]
    },
    {
     "name": "stderr",
     "output_type": "stream",
     "text": [
      "C:\\Users\\ngoph\\AppData\\Local\\Temp\\ipykernel_27304\\3947983937.py:18: FutureWarning: YF.download() has changed argument auto_adjust default to True\n",
      "  stock_data = yf.download(symbol, start=start_date, end=end_date)\n",
      "[*********************100%***********************]  1 of 1 completed\n"
     ]
    },
    {
     "name": "stdout",
     "output_type": "stream",
     "text": [
      "Downloading data for LKQ\n"
     ]
    },
    {
     "name": "stderr",
     "output_type": "stream",
     "text": [
      "C:\\Users\\ngoph\\AppData\\Local\\Temp\\ipykernel_27304\\3947983937.py:18: FutureWarning: YF.download() has changed argument auto_adjust default to True\n",
      "  stock_data = yf.download(symbol, start=start_date, end=end_date)\n",
      "[*********************100%***********************]  1 of 1 completed\n"
     ]
    },
    {
     "name": "stdout",
     "output_type": "stream",
     "text": [
      "Downloading data for LMT\n"
     ]
    },
    {
     "name": "stderr",
     "output_type": "stream",
     "text": [
      "C:\\Users\\ngoph\\AppData\\Local\\Temp\\ipykernel_27304\\3947983937.py:18: FutureWarning: YF.download() has changed argument auto_adjust default to True\n",
      "  stock_data = yf.download(symbol, start=start_date, end=end_date)\n",
      "[*********************100%***********************]  1 of 1 completed\n"
     ]
    },
    {
     "name": "stdout",
     "output_type": "stream",
     "text": [
      "Downloading data for L\n"
     ]
    },
    {
     "name": "stderr",
     "output_type": "stream",
     "text": [
      "C:\\Users\\ngoph\\AppData\\Local\\Temp\\ipykernel_27304\\3947983937.py:18: FutureWarning: YF.download() has changed argument auto_adjust default to True\n",
      "  stock_data = yf.download(symbol, start=start_date, end=end_date)\n",
      "[*********************100%***********************]  1 of 1 completed\n"
     ]
    },
    {
     "name": "stdout",
     "output_type": "stream",
     "text": [
      "Downloading data for LOW\n"
     ]
    },
    {
     "name": "stderr",
     "output_type": "stream",
     "text": [
      "C:\\Users\\ngoph\\AppData\\Local\\Temp\\ipykernel_27304\\3947983937.py:18: FutureWarning: YF.download() has changed argument auto_adjust default to True\n",
      "  stock_data = yf.download(symbol, start=start_date, end=end_date)\n",
      "[*********************100%***********************]  1 of 1 completed\n"
     ]
    },
    {
     "name": "stdout",
     "output_type": "stream",
     "text": [
      "Downloading data for LULU\n"
     ]
    },
    {
     "name": "stderr",
     "output_type": "stream",
     "text": [
      "C:\\Users\\ngoph\\AppData\\Local\\Temp\\ipykernel_27304\\3947983937.py:18: FutureWarning: YF.download() has changed argument auto_adjust default to True\n",
      "  stock_data = yf.download(symbol, start=start_date, end=end_date)\n",
      "[*********************100%***********************]  1 of 1 completed\n"
     ]
    },
    {
     "name": "stdout",
     "output_type": "stream",
     "text": [
      "Downloading data for LYB\n"
     ]
    },
    {
     "name": "stderr",
     "output_type": "stream",
     "text": [
      "C:\\Users\\ngoph\\AppData\\Local\\Temp\\ipykernel_27304\\3947983937.py:18: FutureWarning: YF.download() has changed argument auto_adjust default to True\n",
      "  stock_data = yf.download(symbol, start=start_date, end=end_date)\n",
      "[*********************100%***********************]  1 of 1 completed\n"
     ]
    },
    {
     "name": "stdout",
     "output_type": "stream",
     "text": [
      "Downloading data for MTB\n"
     ]
    },
    {
     "name": "stderr",
     "output_type": "stream",
     "text": [
      "C:\\Users\\ngoph\\AppData\\Local\\Temp\\ipykernel_27304\\3947983937.py:18: FutureWarning: YF.download() has changed argument auto_adjust default to True\n",
      "  stock_data = yf.download(symbol, start=start_date, end=end_date)\n",
      "[*********************100%***********************]  1 of 1 completed\n"
     ]
    },
    {
     "name": "stdout",
     "output_type": "stream",
     "text": [
      "Downloading data for MPC\n"
     ]
    },
    {
     "name": "stderr",
     "output_type": "stream",
     "text": [
      "C:\\Users\\ngoph\\AppData\\Local\\Temp\\ipykernel_27304\\3947983937.py:18: FutureWarning: YF.download() has changed argument auto_adjust default to True\n",
      "  stock_data = yf.download(symbol, start=start_date, end=end_date)\n",
      "[*********************100%***********************]  1 of 1 completed\n"
     ]
    },
    {
     "name": "stdout",
     "output_type": "stream",
     "text": [
      "Downloading data for MKTX\n"
     ]
    },
    {
     "name": "stderr",
     "output_type": "stream",
     "text": [
      "C:\\Users\\ngoph\\AppData\\Local\\Temp\\ipykernel_27304\\3947983937.py:18: FutureWarning: YF.download() has changed argument auto_adjust default to True\n",
      "  stock_data = yf.download(symbol, start=start_date, end=end_date)\n",
      "[*********************100%***********************]  1 of 1 completed\n"
     ]
    },
    {
     "name": "stdout",
     "output_type": "stream",
     "text": [
      "Downloading data for MAR\n"
     ]
    },
    {
     "name": "stderr",
     "output_type": "stream",
     "text": [
      "C:\\Users\\ngoph\\AppData\\Local\\Temp\\ipykernel_27304\\3947983937.py:18: FutureWarning: YF.download() has changed argument auto_adjust default to True\n",
      "  stock_data = yf.download(symbol, start=start_date, end=end_date)\n",
      "[*********************100%***********************]  1 of 1 completed\n"
     ]
    },
    {
     "name": "stdout",
     "output_type": "stream",
     "text": [
      "Downloading data for MMC\n"
     ]
    },
    {
     "name": "stderr",
     "output_type": "stream",
     "text": [
      "C:\\Users\\ngoph\\AppData\\Local\\Temp\\ipykernel_27304\\3947983937.py:18: FutureWarning: YF.download() has changed argument auto_adjust default to True\n",
      "  stock_data = yf.download(symbol, start=start_date, end=end_date)\n",
      "[*********************100%***********************]  1 of 1 completed\n"
     ]
    },
    {
     "name": "stdout",
     "output_type": "stream",
     "text": [
      "Downloading data for MLM\n"
     ]
    },
    {
     "name": "stderr",
     "output_type": "stream",
     "text": [
      "C:\\Users\\ngoph\\AppData\\Local\\Temp\\ipykernel_27304\\3947983937.py:18: FutureWarning: YF.download() has changed argument auto_adjust default to True\n",
      "  stock_data = yf.download(symbol, start=start_date, end=end_date)\n",
      "[*********************100%***********************]  1 of 1 completed\n"
     ]
    },
    {
     "name": "stdout",
     "output_type": "stream",
     "text": [
      "Downloading data for MAS\n"
     ]
    },
    {
     "name": "stderr",
     "output_type": "stream",
     "text": [
      "C:\\Users\\ngoph\\AppData\\Local\\Temp\\ipykernel_27304\\3947983937.py:18: FutureWarning: YF.download() has changed argument auto_adjust default to True\n",
      "  stock_data = yf.download(symbol, start=start_date, end=end_date)\n",
      "[*********************100%***********************]  1 of 1 completed\n"
     ]
    },
    {
     "name": "stdout",
     "output_type": "stream",
     "text": [
      "Downloading data for MA\n"
     ]
    },
    {
     "name": "stderr",
     "output_type": "stream",
     "text": [
      "C:\\Users\\ngoph\\AppData\\Local\\Temp\\ipykernel_27304\\3947983937.py:18: FutureWarning: YF.download() has changed argument auto_adjust default to True\n",
      "  stock_data = yf.download(symbol, start=start_date, end=end_date)\n",
      "[*********************100%***********************]  1 of 1 completed\n"
     ]
    },
    {
     "name": "stdout",
     "output_type": "stream",
     "text": [
      "Downloading data for MTCH\n"
     ]
    },
    {
     "name": "stderr",
     "output_type": "stream",
     "text": [
      "C:\\Users\\ngoph\\AppData\\Local\\Temp\\ipykernel_27304\\3947983937.py:18: FutureWarning: YF.download() has changed argument auto_adjust default to True\n",
      "  stock_data = yf.download(symbol, start=start_date, end=end_date)\n",
      "[*********************100%***********************]  1 of 1 completed\n"
     ]
    },
    {
     "name": "stdout",
     "output_type": "stream",
     "text": [
      "Downloading data for MKC\n"
     ]
    },
    {
     "name": "stderr",
     "output_type": "stream",
     "text": [
      "C:\\Users\\ngoph\\AppData\\Local\\Temp\\ipykernel_27304\\3947983937.py:18: FutureWarning: YF.download() has changed argument auto_adjust default to True\n",
      "  stock_data = yf.download(symbol, start=start_date, end=end_date)\n",
      "[*********************100%***********************]  1 of 1 completed\n"
     ]
    },
    {
     "name": "stdout",
     "output_type": "stream",
     "text": [
      "Downloading data for MCD\n"
     ]
    },
    {
     "name": "stderr",
     "output_type": "stream",
     "text": [
      "C:\\Users\\ngoph\\AppData\\Local\\Temp\\ipykernel_27304\\3947983937.py:18: FutureWarning: YF.download() has changed argument auto_adjust default to True\n",
      "  stock_data = yf.download(symbol, start=start_date, end=end_date)\n",
      "[*********************100%***********************]  1 of 1 completed\n"
     ]
    },
    {
     "name": "stdout",
     "output_type": "stream",
     "text": [
      "Downloading data for MCK\n"
     ]
    },
    {
     "name": "stderr",
     "output_type": "stream",
     "text": [
      "C:\\Users\\ngoph\\AppData\\Local\\Temp\\ipykernel_27304\\3947983937.py:18: FutureWarning: YF.download() has changed argument auto_adjust default to True\n",
      "  stock_data = yf.download(symbol, start=start_date, end=end_date)\n",
      "[*********************100%***********************]  1 of 1 completed\n"
     ]
    },
    {
     "name": "stdout",
     "output_type": "stream",
     "text": [
      "Downloading data for MDT\n"
     ]
    },
    {
     "name": "stderr",
     "output_type": "stream",
     "text": [
      "C:\\Users\\ngoph\\AppData\\Local\\Temp\\ipykernel_27304\\3947983937.py:18: FutureWarning: YF.download() has changed argument auto_adjust default to True\n",
      "  stock_data = yf.download(symbol, start=start_date, end=end_date)\n",
      "[*********************100%***********************]  1 of 1 completed\n"
     ]
    },
    {
     "name": "stdout",
     "output_type": "stream",
     "text": [
      "Downloading data for MRK\n"
     ]
    },
    {
     "name": "stderr",
     "output_type": "stream",
     "text": [
      "C:\\Users\\ngoph\\AppData\\Local\\Temp\\ipykernel_27304\\3947983937.py:18: FutureWarning: YF.download() has changed argument auto_adjust default to True\n",
      "  stock_data = yf.download(symbol, start=start_date, end=end_date)\n",
      "[*********************100%***********************]  1 of 1 completed\n"
     ]
    },
    {
     "name": "stdout",
     "output_type": "stream",
     "text": [
      "Downloading data for META\n"
     ]
    },
    {
     "name": "stderr",
     "output_type": "stream",
     "text": [
      "C:\\Users\\ngoph\\AppData\\Local\\Temp\\ipykernel_27304\\3947983937.py:18: FutureWarning: YF.download() has changed argument auto_adjust default to True\n",
      "  stock_data = yf.download(symbol, start=start_date, end=end_date)\n",
      "[*********************100%***********************]  1 of 1 completed\n"
     ]
    },
    {
     "name": "stdout",
     "output_type": "stream",
     "text": [
      "Downloading data for MET\n"
     ]
    },
    {
     "name": "stderr",
     "output_type": "stream",
     "text": [
      "C:\\Users\\ngoph\\AppData\\Local\\Temp\\ipykernel_27304\\3947983937.py:18: FutureWarning: YF.download() has changed argument auto_adjust default to True\n",
      "  stock_data = yf.download(symbol, start=start_date, end=end_date)\n",
      "[*********************100%***********************]  1 of 1 completed\n"
     ]
    },
    {
     "name": "stdout",
     "output_type": "stream",
     "text": [
      "Downloading data for MTD\n"
     ]
    },
    {
     "name": "stderr",
     "output_type": "stream",
     "text": [
      "C:\\Users\\ngoph\\AppData\\Local\\Temp\\ipykernel_27304\\3947983937.py:18: FutureWarning: YF.download() has changed argument auto_adjust default to True\n",
      "  stock_data = yf.download(symbol, start=start_date, end=end_date)\n",
      "[*********************100%***********************]  1 of 1 completed\n"
     ]
    },
    {
     "name": "stdout",
     "output_type": "stream",
     "text": [
      "Downloading data for MGM\n"
     ]
    },
    {
     "name": "stderr",
     "output_type": "stream",
     "text": [
      "C:\\Users\\ngoph\\AppData\\Local\\Temp\\ipykernel_27304\\3947983937.py:18: FutureWarning: YF.download() has changed argument auto_adjust default to True\n",
      "  stock_data = yf.download(symbol, start=start_date, end=end_date)\n",
      "[*********************100%***********************]  1 of 1 completed\n"
     ]
    },
    {
     "name": "stdout",
     "output_type": "stream",
     "text": [
      "Downloading data for MCHP\n"
     ]
    },
    {
     "name": "stderr",
     "output_type": "stream",
     "text": [
      "C:\\Users\\ngoph\\AppData\\Local\\Temp\\ipykernel_27304\\3947983937.py:18: FutureWarning: YF.download() has changed argument auto_adjust default to True\n",
      "  stock_data = yf.download(symbol, start=start_date, end=end_date)\n",
      "[*********************100%***********************]  1 of 1 completed\n"
     ]
    },
    {
     "name": "stdout",
     "output_type": "stream",
     "text": [
      "Downloading data for MU\n"
     ]
    },
    {
     "name": "stderr",
     "output_type": "stream",
     "text": [
      "C:\\Users\\ngoph\\AppData\\Local\\Temp\\ipykernel_27304\\3947983937.py:18: FutureWarning: YF.download() has changed argument auto_adjust default to True\n",
      "  stock_data = yf.download(symbol, start=start_date, end=end_date)\n",
      "[*********************100%***********************]  1 of 1 completed\n"
     ]
    },
    {
     "name": "stdout",
     "output_type": "stream",
     "text": [
      "Downloading data for MSFT\n"
     ]
    },
    {
     "name": "stderr",
     "output_type": "stream",
     "text": [
      "C:\\Users\\ngoph\\AppData\\Local\\Temp\\ipykernel_27304\\3947983937.py:18: FutureWarning: YF.download() has changed argument auto_adjust default to True\n",
      "  stock_data = yf.download(symbol, start=start_date, end=end_date)\n",
      "[*********************100%***********************]  1 of 1 completed\n"
     ]
    },
    {
     "name": "stdout",
     "output_type": "stream",
     "text": [
      "Downloading data for MAA\n"
     ]
    },
    {
     "name": "stderr",
     "output_type": "stream",
     "text": [
      "C:\\Users\\ngoph\\AppData\\Local\\Temp\\ipykernel_27304\\3947983937.py:18: FutureWarning: YF.download() has changed argument auto_adjust default to True\n",
      "  stock_data = yf.download(symbol, start=start_date, end=end_date)\n",
      "[*********************100%***********************]  1 of 1 completed\n"
     ]
    },
    {
     "name": "stdout",
     "output_type": "stream",
     "text": [
      "Downloading data for MRNA\n"
     ]
    },
    {
     "name": "stderr",
     "output_type": "stream",
     "text": [
      "C:\\Users\\ngoph\\AppData\\Local\\Temp\\ipykernel_27304\\3947983937.py:18: FutureWarning: YF.download() has changed argument auto_adjust default to True\n",
      "  stock_data = yf.download(symbol, start=start_date, end=end_date)\n",
      "[*********************100%***********************]  1 of 1 completed\n"
     ]
    },
    {
     "name": "stdout",
     "output_type": "stream",
     "text": [
      "Downloading data for MHK\n"
     ]
    },
    {
     "name": "stderr",
     "output_type": "stream",
     "text": [
      "C:\\Users\\ngoph\\AppData\\Local\\Temp\\ipykernel_27304\\3947983937.py:18: FutureWarning: YF.download() has changed argument auto_adjust default to True\n",
      "  stock_data = yf.download(symbol, start=start_date, end=end_date)\n",
      "[*********************100%***********************]  1 of 1 completed\n"
     ]
    },
    {
     "name": "stdout",
     "output_type": "stream",
     "text": [
      "Downloading data for MOH\n"
     ]
    },
    {
     "name": "stderr",
     "output_type": "stream",
     "text": [
      "C:\\Users\\ngoph\\AppData\\Local\\Temp\\ipykernel_27304\\3947983937.py:18: FutureWarning: YF.download() has changed argument auto_adjust default to True\n",
      "  stock_data = yf.download(symbol, start=start_date, end=end_date)\n",
      "[*********************100%***********************]  1 of 1 completed\n"
     ]
    },
    {
     "name": "stdout",
     "output_type": "stream",
     "text": [
      "Downloading data for TAP\n"
     ]
    },
    {
     "name": "stderr",
     "output_type": "stream",
     "text": [
      "C:\\Users\\ngoph\\AppData\\Local\\Temp\\ipykernel_27304\\3947983937.py:18: FutureWarning: YF.download() has changed argument auto_adjust default to True\n",
      "  stock_data = yf.download(symbol, start=start_date, end=end_date)\n",
      "[*********************100%***********************]  1 of 1 completed\n"
     ]
    },
    {
     "name": "stdout",
     "output_type": "stream",
     "text": [
      "Downloading data for MDLZ\n"
     ]
    },
    {
     "name": "stderr",
     "output_type": "stream",
     "text": [
      "C:\\Users\\ngoph\\AppData\\Local\\Temp\\ipykernel_27304\\3947983937.py:18: FutureWarning: YF.download() has changed argument auto_adjust default to True\n",
      "  stock_data = yf.download(symbol, start=start_date, end=end_date)\n",
      "[*********************100%***********************]  1 of 1 completed\n"
     ]
    },
    {
     "name": "stdout",
     "output_type": "stream",
     "text": [
      "Downloading data for MPWR\n"
     ]
    },
    {
     "name": "stderr",
     "output_type": "stream",
     "text": [
      "C:\\Users\\ngoph\\AppData\\Local\\Temp\\ipykernel_27304\\3947983937.py:18: FutureWarning: YF.download() has changed argument auto_adjust default to True\n",
      "  stock_data = yf.download(symbol, start=start_date, end=end_date)\n",
      "[*********************100%***********************]  1 of 1 completed\n"
     ]
    },
    {
     "name": "stdout",
     "output_type": "stream",
     "text": [
      "Downloading data for MNST\n"
     ]
    },
    {
     "name": "stderr",
     "output_type": "stream",
     "text": [
      "C:\\Users\\ngoph\\AppData\\Local\\Temp\\ipykernel_27304\\3947983937.py:18: FutureWarning: YF.download() has changed argument auto_adjust default to True\n",
      "  stock_data = yf.download(symbol, start=start_date, end=end_date)\n",
      "[*********************100%***********************]  1 of 1 completed\n"
     ]
    },
    {
     "name": "stdout",
     "output_type": "stream",
     "text": [
      "Downloading data for MCO\n"
     ]
    },
    {
     "name": "stderr",
     "output_type": "stream",
     "text": [
      "C:\\Users\\ngoph\\AppData\\Local\\Temp\\ipykernel_27304\\3947983937.py:18: FutureWarning: YF.download() has changed argument auto_adjust default to True\n",
      "  stock_data = yf.download(symbol, start=start_date, end=end_date)\n",
      "[*********************100%***********************]  1 of 1 completed\n"
     ]
    },
    {
     "name": "stdout",
     "output_type": "stream",
     "text": [
      "Downloading data for MS\n"
     ]
    },
    {
     "name": "stderr",
     "output_type": "stream",
     "text": [
      "C:\\Users\\ngoph\\AppData\\Local\\Temp\\ipykernel_27304\\3947983937.py:18: FutureWarning: YF.download() has changed argument auto_adjust default to True\n",
      "  stock_data = yf.download(symbol, start=start_date, end=end_date)\n",
      "[*********************100%***********************]  1 of 1 completed\n"
     ]
    },
    {
     "name": "stdout",
     "output_type": "stream",
     "text": [
      "Downloading data for MOS\n"
     ]
    },
    {
     "name": "stderr",
     "output_type": "stream",
     "text": [
      "C:\\Users\\ngoph\\AppData\\Local\\Temp\\ipykernel_27304\\3947983937.py:18: FutureWarning: YF.download() has changed argument auto_adjust default to True\n",
      "  stock_data = yf.download(symbol, start=start_date, end=end_date)\n",
      "[*********************100%***********************]  1 of 1 completed\n"
     ]
    },
    {
     "name": "stdout",
     "output_type": "stream",
     "text": [
      "Downloading data for MSI\n"
     ]
    },
    {
     "name": "stderr",
     "output_type": "stream",
     "text": [
      "C:\\Users\\ngoph\\AppData\\Local\\Temp\\ipykernel_27304\\3947983937.py:18: FutureWarning: YF.download() has changed argument auto_adjust default to True\n",
      "  stock_data = yf.download(symbol, start=start_date, end=end_date)\n",
      "[*********************100%***********************]  1 of 1 completed\n"
     ]
    },
    {
     "name": "stdout",
     "output_type": "stream",
     "text": [
      "Downloading data for MSCI\n"
     ]
    },
    {
     "name": "stderr",
     "output_type": "stream",
     "text": [
      "C:\\Users\\ngoph\\AppData\\Local\\Temp\\ipykernel_27304\\3947983937.py:18: FutureWarning: YF.download() has changed argument auto_adjust default to True\n",
      "  stock_data = yf.download(symbol, start=start_date, end=end_date)\n",
      "[*********************100%***********************]  1 of 1 completed\n"
     ]
    },
    {
     "name": "stdout",
     "output_type": "stream",
     "text": [
      "Downloading data for NDAQ\n"
     ]
    },
    {
     "name": "stderr",
     "output_type": "stream",
     "text": [
      "C:\\Users\\ngoph\\AppData\\Local\\Temp\\ipykernel_27304\\3947983937.py:18: FutureWarning: YF.download() has changed argument auto_adjust default to True\n",
      "  stock_data = yf.download(symbol, start=start_date, end=end_date)\n",
      "[*********************100%***********************]  1 of 1 completed\n"
     ]
    },
    {
     "name": "stdout",
     "output_type": "stream",
     "text": [
      "Downloading data for NTAP\n"
     ]
    },
    {
     "name": "stderr",
     "output_type": "stream",
     "text": [
      "C:\\Users\\ngoph\\AppData\\Local\\Temp\\ipykernel_27304\\3947983937.py:18: FutureWarning: YF.download() has changed argument auto_adjust default to True\n",
      "  stock_data = yf.download(symbol, start=start_date, end=end_date)\n",
      "[*********************100%***********************]  1 of 1 completed\n"
     ]
    },
    {
     "name": "stdout",
     "output_type": "stream",
     "text": [
      "Downloading data for NFLX\n"
     ]
    },
    {
     "name": "stderr",
     "output_type": "stream",
     "text": [
      "C:\\Users\\ngoph\\AppData\\Local\\Temp\\ipykernel_27304\\3947983937.py:18: FutureWarning: YF.download() has changed argument auto_adjust default to True\n",
      "  stock_data = yf.download(symbol, start=start_date, end=end_date)\n",
      "[*********************100%***********************]  1 of 1 completed\n"
     ]
    },
    {
     "name": "stdout",
     "output_type": "stream",
     "text": [
      "Downloading data for NEM\n"
     ]
    },
    {
     "name": "stderr",
     "output_type": "stream",
     "text": [
      "C:\\Users\\ngoph\\AppData\\Local\\Temp\\ipykernel_27304\\3947983937.py:18: FutureWarning: YF.download() has changed argument auto_adjust default to True\n",
      "  stock_data = yf.download(symbol, start=start_date, end=end_date)\n",
      "[*********************100%***********************]  1 of 1 completed\n"
     ]
    },
    {
     "name": "stdout",
     "output_type": "stream",
     "text": [
      "Downloading data for NWSA\n"
     ]
    },
    {
     "name": "stderr",
     "output_type": "stream",
     "text": [
      "C:\\Users\\ngoph\\AppData\\Local\\Temp\\ipykernel_27304\\3947983937.py:18: FutureWarning: YF.download() has changed argument auto_adjust default to True\n",
      "  stock_data = yf.download(symbol, start=start_date, end=end_date)\n",
      "[*********************100%***********************]  1 of 1 completed\n"
     ]
    },
    {
     "name": "stdout",
     "output_type": "stream",
     "text": [
      "Downloading data for NWS\n"
     ]
    },
    {
     "name": "stderr",
     "output_type": "stream",
     "text": [
      "C:\\Users\\ngoph\\AppData\\Local\\Temp\\ipykernel_27304\\3947983937.py:18: FutureWarning: YF.download() has changed argument auto_adjust default to True\n",
      "  stock_data = yf.download(symbol, start=start_date, end=end_date)\n",
      "[*********************100%***********************]  1 of 1 completed\n"
     ]
    },
    {
     "name": "stdout",
     "output_type": "stream",
     "text": [
      "Downloading data for NEE\n"
     ]
    },
    {
     "name": "stderr",
     "output_type": "stream",
     "text": [
      "C:\\Users\\ngoph\\AppData\\Local\\Temp\\ipykernel_27304\\3947983937.py:18: FutureWarning: YF.download() has changed argument auto_adjust default to True\n",
      "  stock_data = yf.download(symbol, start=start_date, end=end_date)\n",
      "[*********************100%***********************]  1 of 1 completed\n"
     ]
    },
    {
     "name": "stdout",
     "output_type": "stream",
     "text": [
      "Downloading data for NKE\n"
     ]
    },
    {
     "name": "stderr",
     "output_type": "stream",
     "text": [
      "C:\\Users\\ngoph\\AppData\\Local\\Temp\\ipykernel_27304\\3947983937.py:18: FutureWarning: YF.download() has changed argument auto_adjust default to True\n",
      "  stock_data = yf.download(symbol, start=start_date, end=end_date)\n",
      "[*********************100%***********************]  1 of 1 completed\n"
     ]
    },
    {
     "name": "stdout",
     "output_type": "stream",
     "text": [
      "Downloading data for NI\n"
     ]
    },
    {
     "name": "stderr",
     "output_type": "stream",
     "text": [
      "C:\\Users\\ngoph\\AppData\\Local\\Temp\\ipykernel_27304\\3947983937.py:18: FutureWarning: YF.download() has changed argument auto_adjust default to True\n",
      "  stock_data = yf.download(symbol, start=start_date, end=end_date)\n",
      "[*********************100%***********************]  1 of 1 completed\n"
     ]
    },
    {
     "name": "stdout",
     "output_type": "stream",
     "text": [
      "Downloading data for NDSN\n"
     ]
    },
    {
     "name": "stderr",
     "output_type": "stream",
     "text": [
      "C:\\Users\\ngoph\\AppData\\Local\\Temp\\ipykernel_27304\\3947983937.py:18: FutureWarning: YF.download() has changed argument auto_adjust default to True\n",
      "  stock_data = yf.download(symbol, start=start_date, end=end_date)\n",
      "[*********************100%***********************]  1 of 1 completed\n"
     ]
    },
    {
     "name": "stdout",
     "output_type": "stream",
     "text": [
      "Downloading data for NSC\n"
     ]
    },
    {
     "name": "stderr",
     "output_type": "stream",
     "text": [
      "C:\\Users\\ngoph\\AppData\\Local\\Temp\\ipykernel_27304\\3947983937.py:18: FutureWarning: YF.download() has changed argument auto_adjust default to True\n",
      "  stock_data = yf.download(symbol, start=start_date, end=end_date)\n",
      "[*********************100%***********************]  1 of 1 completed\n"
     ]
    },
    {
     "name": "stdout",
     "output_type": "stream",
     "text": [
      "Downloading data for NTRS\n"
     ]
    },
    {
     "name": "stderr",
     "output_type": "stream",
     "text": [
      "C:\\Users\\ngoph\\AppData\\Local\\Temp\\ipykernel_27304\\3947983937.py:18: FutureWarning: YF.download() has changed argument auto_adjust default to True\n",
      "  stock_data = yf.download(symbol, start=start_date, end=end_date)\n",
      "[*********************100%***********************]  1 of 1 completed\n"
     ]
    },
    {
     "name": "stdout",
     "output_type": "stream",
     "text": [
      "Downloading data for NOC\n"
     ]
    },
    {
     "name": "stderr",
     "output_type": "stream",
     "text": [
      "C:\\Users\\ngoph\\AppData\\Local\\Temp\\ipykernel_27304\\3947983937.py:18: FutureWarning: YF.download() has changed argument auto_adjust default to True\n",
      "  stock_data = yf.download(symbol, start=start_date, end=end_date)\n",
      "[*********************100%***********************]  1 of 1 completed\n"
     ]
    },
    {
     "name": "stdout",
     "output_type": "stream",
     "text": [
      "Downloading data for NCLH\n"
     ]
    },
    {
     "name": "stderr",
     "output_type": "stream",
     "text": [
      "C:\\Users\\ngoph\\AppData\\Local\\Temp\\ipykernel_27304\\3947983937.py:18: FutureWarning: YF.download() has changed argument auto_adjust default to True\n",
      "  stock_data = yf.download(symbol, start=start_date, end=end_date)\n",
      "[*********************100%***********************]  1 of 1 completed\n"
     ]
    },
    {
     "name": "stdout",
     "output_type": "stream",
     "text": [
      "Downloading data for NRG\n"
     ]
    },
    {
     "name": "stderr",
     "output_type": "stream",
     "text": [
      "C:\\Users\\ngoph\\AppData\\Local\\Temp\\ipykernel_27304\\3947983937.py:18: FutureWarning: YF.download() has changed argument auto_adjust default to True\n",
      "  stock_data = yf.download(symbol, start=start_date, end=end_date)\n",
      "[*********************100%***********************]  1 of 1 completed\n"
     ]
    },
    {
     "name": "stdout",
     "output_type": "stream",
     "text": [
      "Downloading data for NUE\n"
     ]
    },
    {
     "name": "stderr",
     "output_type": "stream",
     "text": [
      "C:\\Users\\ngoph\\AppData\\Local\\Temp\\ipykernel_27304\\3947983937.py:18: FutureWarning: YF.download() has changed argument auto_adjust default to True\n",
      "  stock_data = yf.download(symbol, start=start_date, end=end_date)\n",
      "[*********************100%***********************]  1 of 1 completed\n"
     ]
    },
    {
     "name": "stdout",
     "output_type": "stream",
     "text": [
      "Downloading data for NVDA\n"
     ]
    },
    {
     "name": "stderr",
     "output_type": "stream",
     "text": [
      "C:\\Users\\ngoph\\AppData\\Local\\Temp\\ipykernel_27304\\3947983937.py:18: FutureWarning: YF.download() has changed argument auto_adjust default to True\n",
      "  stock_data = yf.download(symbol, start=start_date, end=end_date)\n",
      "[*********************100%***********************]  1 of 1 completed\n"
     ]
    },
    {
     "name": "stdout",
     "output_type": "stream",
     "text": [
      "Downloading data for NVR\n"
     ]
    },
    {
     "name": "stderr",
     "output_type": "stream",
     "text": [
      "C:\\Users\\ngoph\\AppData\\Local\\Temp\\ipykernel_27304\\3947983937.py:18: FutureWarning: YF.download() has changed argument auto_adjust default to True\n",
      "  stock_data = yf.download(symbol, start=start_date, end=end_date)\n",
      "[*********************100%***********************]  1 of 1 completed\n"
     ]
    },
    {
     "name": "stdout",
     "output_type": "stream",
     "text": [
      "Downloading data for NXPI\n"
     ]
    },
    {
     "name": "stderr",
     "output_type": "stream",
     "text": [
      "C:\\Users\\ngoph\\AppData\\Local\\Temp\\ipykernel_27304\\3947983937.py:18: FutureWarning: YF.download() has changed argument auto_adjust default to True\n",
      "  stock_data = yf.download(symbol, start=start_date, end=end_date)\n",
      "[*********************100%***********************]  1 of 1 completed\n"
     ]
    },
    {
     "name": "stdout",
     "output_type": "stream",
     "text": [
      "Downloading data for ORLY\n"
     ]
    },
    {
     "name": "stderr",
     "output_type": "stream",
     "text": [
      "C:\\Users\\ngoph\\AppData\\Local\\Temp\\ipykernel_27304\\3947983937.py:18: FutureWarning: YF.download() has changed argument auto_adjust default to True\n",
      "  stock_data = yf.download(symbol, start=start_date, end=end_date)\n",
      "[*********************100%***********************]  1 of 1 completed\n"
     ]
    },
    {
     "name": "stdout",
     "output_type": "stream",
     "text": [
      "Downloading data for OXY\n"
     ]
    },
    {
     "name": "stderr",
     "output_type": "stream",
     "text": [
      "C:\\Users\\ngoph\\AppData\\Local\\Temp\\ipykernel_27304\\3947983937.py:18: FutureWarning: YF.download() has changed argument auto_adjust default to True\n",
      "  stock_data = yf.download(symbol, start=start_date, end=end_date)\n",
      "[*********************100%***********************]  1 of 1 completed\n"
     ]
    },
    {
     "name": "stdout",
     "output_type": "stream",
     "text": [
      "Downloading data for ODFL\n"
     ]
    },
    {
     "name": "stderr",
     "output_type": "stream",
     "text": [
      "C:\\Users\\ngoph\\AppData\\Local\\Temp\\ipykernel_27304\\3947983937.py:18: FutureWarning: YF.download() has changed argument auto_adjust default to True\n",
      "  stock_data = yf.download(symbol, start=start_date, end=end_date)\n",
      "[*********************100%***********************]  1 of 1 completed\n"
     ]
    },
    {
     "name": "stdout",
     "output_type": "stream",
     "text": [
      "Downloading data for OMC\n"
     ]
    },
    {
     "name": "stderr",
     "output_type": "stream",
     "text": [
      "C:\\Users\\ngoph\\AppData\\Local\\Temp\\ipykernel_27304\\3947983937.py:18: FutureWarning: YF.download() has changed argument auto_adjust default to True\n",
      "  stock_data = yf.download(symbol, start=start_date, end=end_date)\n",
      "[*********************100%***********************]  1 of 1 completed\n"
     ]
    },
    {
     "name": "stdout",
     "output_type": "stream",
     "text": [
      "Downloading data for ON\n"
     ]
    },
    {
     "name": "stderr",
     "output_type": "stream",
     "text": [
      "C:\\Users\\ngoph\\AppData\\Local\\Temp\\ipykernel_27304\\3947983937.py:18: FutureWarning: YF.download() has changed argument auto_adjust default to True\n",
      "  stock_data = yf.download(symbol, start=start_date, end=end_date)\n",
      "[*********************100%***********************]  1 of 1 completed\n"
     ]
    },
    {
     "name": "stdout",
     "output_type": "stream",
     "text": [
      "Downloading data for OKE\n"
     ]
    },
    {
     "name": "stderr",
     "output_type": "stream",
     "text": [
      "C:\\Users\\ngoph\\AppData\\Local\\Temp\\ipykernel_27304\\3947983937.py:18: FutureWarning: YF.download() has changed argument auto_adjust default to True\n",
      "  stock_data = yf.download(symbol, start=start_date, end=end_date)\n",
      "[*********************100%***********************]  1 of 1 completed\n"
     ]
    },
    {
     "name": "stdout",
     "output_type": "stream",
     "text": [
      "Downloading data for ORCL\n"
     ]
    },
    {
     "name": "stderr",
     "output_type": "stream",
     "text": [
      "C:\\Users\\ngoph\\AppData\\Local\\Temp\\ipykernel_27304\\3947983937.py:18: FutureWarning: YF.download() has changed argument auto_adjust default to True\n",
      "  stock_data = yf.download(symbol, start=start_date, end=end_date)\n",
      "[*********************100%***********************]  1 of 1 completed\n"
     ]
    },
    {
     "name": "stdout",
     "output_type": "stream",
     "text": [
      "Downloading data for OTIS\n"
     ]
    },
    {
     "name": "stderr",
     "output_type": "stream",
     "text": [
      "C:\\Users\\ngoph\\AppData\\Local\\Temp\\ipykernel_27304\\3947983937.py:18: FutureWarning: YF.download() has changed argument auto_adjust default to True\n",
      "  stock_data = yf.download(symbol, start=start_date, end=end_date)\n",
      "[*********************100%***********************]  1 of 1 completed\n"
     ]
    },
    {
     "name": "stdout",
     "output_type": "stream",
     "text": [
      "Downloading data for PCAR\n"
     ]
    },
    {
     "name": "stderr",
     "output_type": "stream",
     "text": [
      "C:\\Users\\ngoph\\AppData\\Local\\Temp\\ipykernel_27304\\3947983937.py:18: FutureWarning: YF.download() has changed argument auto_adjust default to True\n",
      "  stock_data = yf.download(symbol, start=start_date, end=end_date)\n",
      "[*********************100%***********************]  1 of 1 completed\n"
     ]
    },
    {
     "name": "stdout",
     "output_type": "stream",
     "text": [
      "Downloading data for PKG\n"
     ]
    },
    {
     "name": "stderr",
     "output_type": "stream",
     "text": [
      "C:\\Users\\ngoph\\AppData\\Local\\Temp\\ipykernel_27304\\3947983937.py:18: FutureWarning: YF.download() has changed argument auto_adjust default to True\n",
      "  stock_data = yf.download(symbol, start=start_date, end=end_date)\n",
      "[*********************100%***********************]  1 of 1 completed\n"
     ]
    },
    {
     "name": "stdout",
     "output_type": "stream",
     "text": [
      "Downloading data for PLTR\n"
     ]
    },
    {
     "name": "stderr",
     "output_type": "stream",
     "text": [
      "C:\\Users\\ngoph\\AppData\\Local\\Temp\\ipykernel_27304\\3947983937.py:18: FutureWarning: YF.download() has changed argument auto_adjust default to True\n",
      "  stock_data = yf.download(symbol, start=start_date, end=end_date)\n",
      "[*********************100%***********************]  1 of 1 completed\n"
     ]
    },
    {
     "name": "stdout",
     "output_type": "stream",
     "text": [
      "Downloading data for PANW\n"
     ]
    },
    {
     "name": "stderr",
     "output_type": "stream",
     "text": [
      "C:\\Users\\ngoph\\AppData\\Local\\Temp\\ipykernel_27304\\3947983937.py:18: FutureWarning: YF.download() has changed argument auto_adjust default to True\n",
      "  stock_data = yf.download(symbol, start=start_date, end=end_date)\n",
      "[*********************100%***********************]  1 of 1 completed\n"
     ]
    },
    {
     "name": "stdout",
     "output_type": "stream",
     "text": [
      "Downloading data for PARA\n"
     ]
    },
    {
     "name": "stderr",
     "output_type": "stream",
     "text": [
      "C:\\Users\\ngoph\\AppData\\Local\\Temp\\ipykernel_27304\\3947983937.py:18: FutureWarning: YF.download() has changed argument auto_adjust default to True\n",
      "  stock_data = yf.download(symbol, start=start_date, end=end_date)\n",
      "[*********************100%***********************]  1 of 1 completed\n"
     ]
    },
    {
     "name": "stdout",
     "output_type": "stream",
     "text": [
      "Downloading data for PH\n"
     ]
    },
    {
     "name": "stderr",
     "output_type": "stream",
     "text": [
      "C:\\Users\\ngoph\\AppData\\Local\\Temp\\ipykernel_27304\\3947983937.py:18: FutureWarning: YF.download() has changed argument auto_adjust default to True\n",
      "  stock_data = yf.download(symbol, start=start_date, end=end_date)\n",
      "[*********************100%***********************]  1 of 1 completed\n"
     ]
    },
    {
     "name": "stdout",
     "output_type": "stream",
     "text": [
      "Downloading data for PAYX\n"
     ]
    },
    {
     "name": "stderr",
     "output_type": "stream",
     "text": [
      "C:\\Users\\ngoph\\AppData\\Local\\Temp\\ipykernel_27304\\3947983937.py:18: FutureWarning: YF.download() has changed argument auto_adjust default to True\n",
      "  stock_data = yf.download(symbol, start=start_date, end=end_date)\n",
      "[*********************100%***********************]  1 of 1 completed\n"
     ]
    },
    {
     "name": "stdout",
     "output_type": "stream",
     "text": [
      "Downloading data for PAYC\n"
     ]
    },
    {
     "name": "stderr",
     "output_type": "stream",
     "text": [
      "C:\\Users\\ngoph\\AppData\\Local\\Temp\\ipykernel_27304\\3947983937.py:18: FutureWarning: YF.download() has changed argument auto_adjust default to True\n",
      "  stock_data = yf.download(symbol, start=start_date, end=end_date)\n",
      "[*********************100%***********************]  1 of 1 completed\n"
     ]
    },
    {
     "name": "stdout",
     "output_type": "stream",
     "text": [
      "Downloading data for PYPL\n"
     ]
    },
    {
     "name": "stderr",
     "output_type": "stream",
     "text": [
      "C:\\Users\\ngoph\\AppData\\Local\\Temp\\ipykernel_27304\\3947983937.py:18: FutureWarning: YF.download() has changed argument auto_adjust default to True\n",
      "  stock_data = yf.download(symbol, start=start_date, end=end_date)\n",
      "[*********************100%***********************]  1 of 1 completed\n"
     ]
    },
    {
     "name": "stdout",
     "output_type": "stream",
     "text": [
      "Downloading data for PNR\n"
     ]
    },
    {
     "name": "stderr",
     "output_type": "stream",
     "text": [
      "C:\\Users\\ngoph\\AppData\\Local\\Temp\\ipykernel_27304\\3947983937.py:18: FutureWarning: YF.download() has changed argument auto_adjust default to True\n",
      "  stock_data = yf.download(symbol, start=start_date, end=end_date)\n",
      "[*********************100%***********************]  1 of 1 completed\n"
     ]
    },
    {
     "name": "stdout",
     "output_type": "stream",
     "text": [
      "Downloading data for PEP\n"
     ]
    },
    {
     "name": "stderr",
     "output_type": "stream",
     "text": [
      "C:\\Users\\ngoph\\AppData\\Local\\Temp\\ipykernel_27304\\3947983937.py:18: FutureWarning: YF.download() has changed argument auto_adjust default to True\n",
      "  stock_data = yf.download(symbol, start=start_date, end=end_date)\n",
      "[*********************100%***********************]  1 of 1 completed\n"
     ]
    },
    {
     "name": "stdout",
     "output_type": "stream",
     "text": [
      "Downloading data for PFE\n"
     ]
    },
    {
     "name": "stderr",
     "output_type": "stream",
     "text": [
      "C:\\Users\\ngoph\\AppData\\Local\\Temp\\ipykernel_27304\\3947983937.py:18: FutureWarning: YF.download() has changed argument auto_adjust default to True\n",
      "  stock_data = yf.download(symbol, start=start_date, end=end_date)\n",
      "[*********************100%***********************]  1 of 1 completed\n"
     ]
    },
    {
     "name": "stdout",
     "output_type": "stream",
     "text": [
      "Downloading data for PCG\n"
     ]
    },
    {
     "name": "stderr",
     "output_type": "stream",
     "text": [
      "C:\\Users\\ngoph\\AppData\\Local\\Temp\\ipykernel_27304\\3947983937.py:18: FutureWarning: YF.download() has changed argument auto_adjust default to True\n",
      "  stock_data = yf.download(symbol, start=start_date, end=end_date)\n",
      "[*********************100%***********************]  1 of 1 completed\n"
     ]
    },
    {
     "name": "stdout",
     "output_type": "stream",
     "text": [
      "Downloading data for PM\n"
     ]
    },
    {
     "name": "stderr",
     "output_type": "stream",
     "text": [
      "C:\\Users\\ngoph\\AppData\\Local\\Temp\\ipykernel_27304\\3947983937.py:18: FutureWarning: YF.download() has changed argument auto_adjust default to True\n",
      "  stock_data = yf.download(symbol, start=start_date, end=end_date)\n",
      "[*********************100%***********************]  1 of 1 completed\n"
     ]
    },
    {
     "name": "stdout",
     "output_type": "stream",
     "text": [
      "Downloading data for PSX\n"
     ]
    },
    {
     "name": "stderr",
     "output_type": "stream",
     "text": [
      "C:\\Users\\ngoph\\AppData\\Local\\Temp\\ipykernel_27304\\3947983937.py:18: FutureWarning: YF.download() has changed argument auto_adjust default to True\n",
      "  stock_data = yf.download(symbol, start=start_date, end=end_date)\n",
      "[*********************100%***********************]  1 of 1 completed\n"
     ]
    },
    {
     "name": "stdout",
     "output_type": "stream",
     "text": [
      "Downloading data for PNW\n"
     ]
    },
    {
     "name": "stderr",
     "output_type": "stream",
     "text": [
      "C:\\Users\\ngoph\\AppData\\Local\\Temp\\ipykernel_27304\\3947983937.py:18: FutureWarning: YF.download() has changed argument auto_adjust default to True\n",
      "  stock_data = yf.download(symbol, start=start_date, end=end_date)\n",
      "[*********************100%***********************]  1 of 1 completed\n"
     ]
    },
    {
     "name": "stdout",
     "output_type": "stream",
     "text": [
      "Downloading data for PNC\n"
     ]
    },
    {
     "name": "stderr",
     "output_type": "stream",
     "text": [
      "C:\\Users\\ngoph\\AppData\\Local\\Temp\\ipykernel_27304\\3947983937.py:18: FutureWarning: YF.download() has changed argument auto_adjust default to True\n",
      "  stock_data = yf.download(symbol, start=start_date, end=end_date)\n",
      "[*********************100%***********************]  1 of 1 completed\n"
     ]
    },
    {
     "name": "stdout",
     "output_type": "stream",
     "text": [
      "Downloading data for POOL\n"
     ]
    },
    {
     "name": "stderr",
     "output_type": "stream",
     "text": [
      "C:\\Users\\ngoph\\AppData\\Local\\Temp\\ipykernel_27304\\3947983937.py:18: FutureWarning: YF.download() has changed argument auto_adjust default to True\n",
      "  stock_data = yf.download(symbol, start=start_date, end=end_date)\n",
      "[*********************100%***********************]  1 of 1 completed\n"
     ]
    },
    {
     "name": "stdout",
     "output_type": "stream",
     "text": [
      "Downloading data for PPG\n"
     ]
    },
    {
     "name": "stderr",
     "output_type": "stream",
     "text": [
      "C:\\Users\\ngoph\\AppData\\Local\\Temp\\ipykernel_27304\\3947983937.py:18: FutureWarning: YF.download() has changed argument auto_adjust default to True\n",
      "  stock_data = yf.download(symbol, start=start_date, end=end_date)\n",
      "[*********************100%***********************]  1 of 1 completed\n"
     ]
    },
    {
     "name": "stdout",
     "output_type": "stream",
     "text": [
      "Downloading data for PPL\n"
     ]
    },
    {
     "name": "stderr",
     "output_type": "stream",
     "text": [
      "C:\\Users\\ngoph\\AppData\\Local\\Temp\\ipykernel_27304\\3947983937.py:18: FutureWarning: YF.download() has changed argument auto_adjust default to True\n",
      "  stock_data = yf.download(symbol, start=start_date, end=end_date)\n",
      "[*********************100%***********************]  1 of 1 completed\n"
     ]
    },
    {
     "name": "stdout",
     "output_type": "stream",
     "text": [
      "Downloading data for PFG\n"
     ]
    },
    {
     "name": "stderr",
     "output_type": "stream",
     "text": [
      "C:\\Users\\ngoph\\AppData\\Local\\Temp\\ipykernel_27304\\3947983937.py:18: FutureWarning: YF.download() has changed argument auto_adjust default to True\n",
      "  stock_data = yf.download(symbol, start=start_date, end=end_date)\n",
      "[*********************100%***********************]  1 of 1 completed\n"
     ]
    },
    {
     "name": "stdout",
     "output_type": "stream",
     "text": [
      "Downloading data for PG\n"
     ]
    },
    {
     "name": "stderr",
     "output_type": "stream",
     "text": [
      "C:\\Users\\ngoph\\AppData\\Local\\Temp\\ipykernel_27304\\3947983937.py:18: FutureWarning: YF.download() has changed argument auto_adjust default to True\n",
      "  stock_data = yf.download(symbol, start=start_date, end=end_date)\n",
      "[*********************100%***********************]  1 of 1 completed\n"
     ]
    },
    {
     "name": "stdout",
     "output_type": "stream",
     "text": [
      "Downloading data for PGR\n"
     ]
    },
    {
     "name": "stderr",
     "output_type": "stream",
     "text": [
      "C:\\Users\\ngoph\\AppData\\Local\\Temp\\ipykernel_27304\\3947983937.py:18: FutureWarning: YF.download() has changed argument auto_adjust default to True\n",
      "  stock_data = yf.download(symbol, start=start_date, end=end_date)\n",
      "[*********************100%***********************]  1 of 1 completed\n"
     ]
    },
    {
     "name": "stdout",
     "output_type": "stream",
     "text": [
      "Downloading data for PLD\n"
     ]
    },
    {
     "name": "stderr",
     "output_type": "stream",
     "text": [
      "C:\\Users\\ngoph\\AppData\\Local\\Temp\\ipykernel_27304\\3947983937.py:18: FutureWarning: YF.download() has changed argument auto_adjust default to True\n",
      "  stock_data = yf.download(symbol, start=start_date, end=end_date)\n",
      "[*********************100%***********************]  1 of 1 completed\n"
     ]
    },
    {
     "name": "stdout",
     "output_type": "stream",
     "text": [
      "Downloading data for PRU\n"
     ]
    },
    {
     "name": "stderr",
     "output_type": "stream",
     "text": [
      "C:\\Users\\ngoph\\AppData\\Local\\Temp\\ipykernel_27304\\3947983937.py:18: FutureWarning: YF.download() has changed argument auto_adjust default to True\n",
      "  stock_data = yf.download(symbol, start=start_date, end=end_date)\n",
      "[*********************100%***********************]  1 of 1 completed\n"
     ]
    },
    {
     "name": "stdout",
     "output_type": "stream",
     "text": [
      "Downloading data for PEG\n"
     ]
    },
    {
     "name": "stderr",
     "output_type": "stream",
     "text": [
      "C:\\Users\\ngoph\\AppData\\Local\\Temp\\ipykernel_27304\\3947983937.py:18: FutureWarning: YF.download() has changed argument auto_adjust default to True\n",
      "  stock_data = yf.download(symbol, start=start_date, end=end_date)\n",
      "[*********************100%***********************]  1 of 1 completed\n"
     ]
    },
    {
     "name": "stdout",
     "output_type": "stream",
     "text": [
      "Downloading data for PTC\n"
     ]
    },
    {
     "name": "stderr",
     "output_type": "stream",
     "text": [
      "C:\\Users\\ngoph\\AppData\\Local\\Temp\\ipykernel_27304\\3947983937.py:18: FutureWarning: YF.download() has changed argument auto_adjust default to True\n",
      "  stock_data = yf.download(symbol, start=start_date, end=end_date)\n",
      "[*********************100%***********************]  1 of 1 completed\n"
     ]
    },
    {
     "name": "stdout",
     "output_type": "stream",
     "text": [
      "Downloading data for PSA\n"
     ]
    },
    {
     "name": "stderr",
     "output_type": "stream",
     "text": [
      "C:\\Users\\ngoph\\AppData\\Local\\Temp\\ipykernel_27304\\3947983937.py:18: FutureWarning: YF.download() has changed argument auto_adjust default to True\n",
      "  stock_data = yf.download(symbol, start=start_date, end=end_date)\n",
      "[*********************100%***********************]  1 of 1 completed\n"
     ]
    },
    {
     "name": "stdout",
     "output_type": "stream",
     "text": [
      "Downloading data for PHM\n"
     ]
    },
    {
     "name": "stderr",
     "output_type": "stream",
     "text": [
      "C:\\Users\\ngoph\\AppData\\Local\\Temp\\ipykernel_27304\\3947983937.py:18: FutureWarning: YF.download() has changed argument auto_adjust default to True\n",
      "  stock_data = yf.download(symbol, start=start_date, end=end_date)\n",
      "[*********************100%***********************]  1 of 1 completed\n",
      "C:\\Users\\ngoph\\AppData\\Local\\Temp\\ipykernel_27304\\3947983937.py:18: FutureWarning: YF.download() has changed argument auto_adjust default to True\n",
      "  stock_data = yf.download(symbol, start=start_date, end=end_date)\n"
     ]
    },
    {
     "name": "stdout",
     "output_type": "stream",
     "text": [
      "Downloading data for PWR\n"
     ]
    },
    {
     "name": "stderr",
     "output_type": "stream",
     "text": [
      "[*********************100%***********************]  1 of 1 completed\n"
     ]
    },
    {
     "name": "stdout",
     "output_type": "stream",
     "text": [
      "Downloading data for QCOM\n"
     ]
    },
    {
     "name": "stderr",
     "output_type": "stream",
     "text": [
      "C:\\Users\\ngoph\\AppData\\Local\\Temp\\ipykernel_27304\\3947983937.py:18: FutureWarning: YF.download() has changed argument auto_adjust default to True\n",
      "  stock_data = yf.download(symbol, start=start_date, end=end_date)\n",
      "[*********************100%***********************]  1 of 1 completed\n"
     ]
    },
    {
     "name": "stdout",
     "output_type": "stream",
     "text": [
      "Downloading data for DGX\n"
     ]
    },
    {
     "name": "stderr",
     "output_type": "stream",
     "text": [
      "C:\\Users\\ngoph\\AppData\\Local\\Temp\\ipykernel_27304\\3947983937.py:18: FutureWarning: YF.download() has changed argument auto_adjust default to True\n",
      "  stock_data = yf.download(symbol, start=start_date, end=end_date)\n",
      "[*********************100%***********************]  1 of 1 completed\n"
     ]
    },
    {
     "name": "stdout",
     "output_type": "stream",
     "text": [
      "Downloading data for RL\n"
     ]
    },
    {
     "name": "stderr",
     "output_type": "stream",
     "text": [
      "C:\\Users\\ngoph\\AppData\\Local\\Temp\\ipykernel_27304\\3947983937.py:18: FutureWarning: YF.download() has changed argument auto_adjust default to True\n",
      "  stock_data = yf.download(symbol, start=start_date, end=end_date)\n",
      "[*********************100%***********************]  1 of 1 completed\n"
     ]
    },
    {
     "name": "stdout",
     "output_type": "stream",
     "text": [
      "Downloading data for RJF\n"
     ]
    },
    {
     "name": "stderr",
     "output_type": "stream",
     "text": [
      "C:\\Users\\ngoph\\AppData\\Local\\Temp\\ipykernel_27304\\3947983937.py:18: FutureWarning: YF.download() has changed argument auto_adjust default to True\n",
      "  stock_data = yf.download(symbol, start=start_date, end=end_date)\n",
      "[*********************100%***********************]  1 of 1 completed\n"
     ]
    },
    {
     "name": "stdout",
     "output_type": "stream",
     "text": [
      "Downloading data for RTX\n"
     ]
    },
    {
     "name": "stderr",
     "output_type": "stream",
     "text": [
      "C:\\Users\\ngoph\\AppData\\Local\\Temp\\ipykernel_27304\\3947983937.py:18: FutureWarning: YF.download() has changed argument auto_adjust default to True\n",
      "  stock_data = yf.download(symbol, start=start_date, end=end_date)\n",
      "[*********************100%***********************]  1 of 1 completed\n"
     ]
    },
    {
     "name": "stdout",
     "output_type": "stream",
     "text": [
      "Downloading data for O\n"
     ]
    },
    {
     "name": "stderr",
     "output_type": "stream",
     "text": [
      "C:\\Users\\ngoph\\AppData\\Local\\Temp\\ipykernel_27304\\3947983937.py:18: FutureWarning: YF.download() has changed argument auto_adjust default to True\n",
      "  stock_data = yf.download(symbol, start=start_date, end=end_date)\n",
      "[*********************100%***********************]  1 of 1 completed\n"
     ]
    },
    {
     "name": "stdout",
     "output_type": "stream",
     "text": [
      "Downloading data for REG\n"
     ]
    },
    {
     "name": "stderr",
     "output_type": "stream",
     "text": [
      "C:\\Users\\ngoph\\AppData\\Local\\Temp\\ipykernel_27304\\3947983937.py:18: FutureWarning: YF.download() has changed argument auto_adjust default to True\n",
      "  stock_data = yf.download(symbol, start=start_date, end=end_date)\n",
      "[*********************100%***********************]  1 of 1 completed\n"
     ]
    },
    {
     "name": "stdout",
     "output_type": "stream",
     "text": [
      "Downloading data for REGN\n"
     ]
    },
    {
     "name": "stderr",
     "output_type": "stream",
     "text": [
      "C:\\Users\\ngoph\\AppData\\Local\\Temp\\ipykernel_27304\\3947983937.py:18: FutureWarning: YF.download() has changed argument auto_adjust default to True\n",
      "  stock_data = yf.download(symbol, start=start_date, end=end_date)\n",
      "[*********************100%***********************]  1 of 1 completed\n"
     ]
    },
    {
     "name": "stdout",
     "output_type": "stream",
     "text": [
      "Downloading data for RF\n"
     ]
    },
    {
     "name": "stderr",
     "output_type": "stream",
     "text": [
      "C:\\Users\\ngoph\\AppData\\Local\\Temp\\ipykernel_27304\\3947983937.py:18: FutureWarning: YF.download() has changed argument auto_adjust default to True\n",
      "  stock_data = yf.download(symbol, start=start_date, end=end_date)\n",
      "[*********************100%***********************]  1 of 1 completed\n"
     ]
    },
    {
     "name": "stdout",
     "output_type": "stream",
     "text": [
      "Downloading data for RSG\n"
     ]
    },
    {
     "name": "stderr",
     "output_type": "stream",
     "text": [
      "C:\\Users\\ngoph\\AppData\\Local\\Temp\\ipykernel_27304\\3947983937.py:18: FutureWarning: YF.download() has changed argument auto_adjust default to True\n",
      "  stock_data = yf.download(symbol, start=start_date, end=end_date)\n",
      "[*********************100%***********************]  1 of 1 completed\n"
     ]
    },
    {
     "name": "stdout",
     "output_type": "stream",
     "text": [
      "Downloading data for RMD\n"
     ]
    },
    {
     "name": "stderr",
     "output_type": "stream",
     "text": [
      "C:\\Users\\ngoph\\AppData\\Local\\Temp\\ipykernel_27304\\3947983937.py:18: FutureWarning: YF.download() has changed argument auto_adjust default to True\n",
      "  stock_data = yf.download(symbol, start=start_date, end=end_date)\n",
      "[*********************100%***********************]  1 of 1 completed\n"
     ]
    },
    {
     "name": "stdout",
     "output_type": "stream",
     "text": [
      "Downloading data for RVTY\n"
     ]
    },
    {
     "name": "stderr",
     "output_type": "stream",
     "text": [
      "C:\\Users\\ngoph\\AppData\\Local\\Temp\\ipykernel_27304\\3947983937.py:18: FutureWarning: YF.download() has changed argument auto_adjust default to True\n",
      "  stock_data = yf.download(symbol, start=start_date, end=end_date)\n",
      "[*********************100%***********************]  1 of 1 completed\n"
     ]
    },
    {
     "name": "stdout",
     "output_type": "stream",
     "text": [
      "Downloading data for ROK\n"
     ]
    },
    {
     "name": "stderr",
     "output_type": "stream",
     "text": [
      "C:\\Users\\ngoph\\AppData\\Local\\Temp\\ipykernel_27304\\3947983937.py:18: FutureWarning: YF.download() has changed argument auto_adjust default to True\n",
      "  stock_data = yf.download(symbol, start=start_date, end=end_date)\n",
      "[*********************100%***********************]  1 of 1 completed\n"
     ]
    },
    {
     "name": "stdout",
     "output_type": "stream",
     "text": [
      "Downloading data for ROL\n"
     ]
    },
    {
     "name": "stderr",
     "output_type": "stream",
     "text": [
      "C:\\Users\\ngoph\\AppData\\Local\\Temp\\ipykernel_27304\\3947983937.py:18: FutureWarning: YF.download() has changed argument auto_adjust default to True\n",
      "  stock_data = yf.download(symbol, start=start_date, end=end_date)\n",
      "[*********************100%***********************]  1 of 1 completed\n"
     ]
    },
    {
     "name": "stdout",
     "output_type": "stream",
     "text": [
      "Downloading data for ROP\n"
     ]
    },
    {
     "name": "stderr",
     "output_type": "stream",
     "text": [
      "C:\\Users\\ngoph\\AppData\\Local\\Temp\\ipykernel_27304\\3947983937.py:18: FutureWarning: YF.download() has changed argument auto_adjust default to True\n",
      "  stock_data = yf.download(symbol, start=start_date, end=end_date)\n",
      "[*********************100%***********************]  1 of 1 completed\n"
     ]
    },
    {
     "name": "stdout",
     "output_type": "stream",
     "text": [
      "Downloading data for ROST\n"
     ]
    },
    {
     "name": "stderr",
     "output_type": "stream",
     "text": [
      "C:\\Users\\ngoph\\AppData\\Local\\Temp\\ipykernel_27304\\3947983937.py:18: FutureWarning: YF.download() has changed argument auto_adjust default to True\n",
      "  stock_data = yf.download(symbol, start=start_date, end=end_date)\n",
      "[*********************100%***********************]  1 of 1 completed\n"
     ]
    },
    {
     "name": "stdout",
     "output_type": "stream",
     "text": [
      "Downloading data for RCL\n"
     ]
    },
    {
     "name": "stderr",
     "output_type": "stream",
     "text": [
      "C:\\Users\\ngoph\\AppData\\Local\\Temp\\ipykernel_27304\\3947983937.py:18: FutureWarning: YF.download() has changed argument auto_adjust default to True\n",
      "  stock_data = yf.download(symbol, start=start_date, end=end_date)\n",
      "[*********************100%***********************]  1 of 1 completed\n"
     ]
    },
    {
     "name": "stdout",
     "output_type": "stream",
     "text": [
      "Downloading data for SPGI\n"
     ]
    },
    {
     "name": "stderr",
     "output_type": "stream",
     "text": [
      "C:\\Users\\ngoph\\AppData\\Local\\Temp\\ipykernel_27304\\3947983937.py:18: FutureWarning: YF.download() has changed argument auto_adjust default to True\n",
      "  stock_data = yf.download(symbol, start=start_date, end=end_date)\n",
      "[*********************100%***********************]  1 of 1 completed\n"
     ]
    },
    {
     "name": "stdout",
     "output_type": "stream",
     "text": [
      "Downloading data for CRM\n"
     ]
    },
    {
     "name": "stderr",
     "output_type": "stream",
     "text": [
      "C:\\Users\\ngoph\\AppData\\Local\\Temp\\ipykernel_27304\\3947983937.py:18: FutureWarning: YF.download() has changed argument auto_adjust default to True\n",
      "  stock_data = yf.download(symbol, start=start_date, end=end_date)\n",
      "[*********************100%***********************]  1 of 1 completed\n"
     ]
    },
    {
     "name": "stdout",
     "output_type": "stream",
     "text": [
      "Downloading data for SBAC\n"
     ]
    },
    {
     "name": "stderr",
     "output_type": "stream",
     "text": [
      "C:\\Users\\ngoph\\AppData\\Local\\Temp\\ipykernel_27304\\3947983937.py:18: FutureWarning: YF.download() has changed argument auto_adjust default to True\n",
      "  stock_data = yf.download(symbol, start=start_date, end=end_date)\n",
      "[*********************100%***********************]  1 of 1 completed\n"
     ]
    },
    {
     "name": "stdout",
     "output_type": "stream",
     "text": [
      "Downloading data for SLB\n"
     ]
    },
    {
     "name": "stderr",
     "output_type": "stream",
     "text": [
      "C:\\Users\\ngoph\\AppData\\Local\\Temp\\ipykernel_27304\\3947983937.py:18: FutureWarning: YF.download() has changed argument auto_adjust default to True\n",
      "  stock_data = yf.download(symbol, start=start_date, end=end_date)\n",
      "[*********************100%***********************]  1 of 1 completed\n"
     ]
    },
    {
     "name": "stdout",
     "output_type": "stream",
     "text": [
      "Downloading data for STX\n"
     ]
    },
    {
     "name": "stderr",
     "output_type": "stream",
     "text": [
      "C:\\Users\\ngoph\\AppData\\Local\\Temp\\ipykernel_27304\\3947983937.py:18: FutureWarning: YF.download() has changed argument auto_adjust default to True\n",
      "  stock_data = yf.download(symbol, start=start_date, end=end_date)\n",
      "[*********************100%***********************]  1 of 1 completed\n"
     ]
    },
    {
     "name": "stdout",
     "output_type": "stream",
     "text": [
      "Downloading data for SRE\n"
     ]
    },
    {
     "name": "stderr",
     "output_type": "stream",
     "text": [
      "C:\\Users\\ngoph\\AppData\\Local\\Temp\\ipykernel_27304\\3947983937.py:18: FutureWarning: YF.download() has changed argument auto_adjust default to True\n",
      "  stock_data = yf.download(symbol, start=start_date, end=end_date)\n",
      "[*********************100%***********************]  1 of 1 completed\n"
     ]
    },
    {
     "name": "stdout",
     "output_type": "stream",
     "text": [
      "Downloading data for NOW\n"
     ]
    },
    {
     "name": "stderr",
     "output_type": "stream",
     "text": [
      "C:\\Users\\ngoph\\AppData\\Local\\Temp\\ipykernel_27304\\3947983937.py:18: FutureWarning: YF.download() has changed argument auto_adjust default to True\n",
      "  stock_data = yf.download(symbol, start=start_date, end=end_date)\n",
      "[*********************100%***********************]  1 of 1 completed\n"
     ]
    },
    {
     "name": "stdout",
     "output_type": "stream",
     "text": [
      "Downloading data for SHW\n"
     ]
    },
    {
     "name": "stderr",
     "output_type": "stream",
     "text": [
      "C:\\Users\\ngoph\\AppData\\Local\\Temp\\ipykernel_27304\\3947983937.py:18: FutureWarning: YF.download() has changed argument auto_adjust default to True\n",
      "  stock_data = yf.download(symbol, start=start_date, end=end_date)\n",
      "[*********************100%***********************]  1 of 1 completed\n"
     ]
    },
    {
     "name": "stdout",
     "output_type": "stream",
     "text": [
      "Downloading data for SPG\n"
     ]
    },
    {
     "name": "stderr",
     "output_type": "stream",
     "text": [
      "C:\\Users\\ngoph\\AppData\\Local\\Temp\\ipykernel_27304\\3947983937.py:18: FutureWarning: YF.download() has changed argument auto_adjust default to True\n",
      "  stock_data = yf.download(symbol, start=start_date, end=end_date)\n",
      "[*********************100%***********************]  1 of 1 completed\n"
     ]
    },
    {
     "name": "stdout",
     "output_type": "stream",
     "text": [
      "Downloading data for SWKS\n"
     ]
    },
    {
     "name": "stderr",
     "output_type": "stream",
     "text": [
      "C:\\Users\\ngoph\\AppData\\Local\\Temp\\ipykernel_27304\\3947983937.py:18: FutureWarning: YF.download() has changed argument auto_adjust default to True\n",
      "  stock_data = yf.download(symbol, start=start_date, end=end_date)\n",
      "[*********************100%***********************]  1 of 1 completed\n"
     ]
    },
    {
     "name": "stdout",
     "output_type": "stream",
     "text": [
      "Downloading data for SJM\n"
     ]
    },
    {
     "name": "stderr",
     "output_type": "stream",
     "text": [
      "C:\\Users\\ngoph\\AppData\\Local\\Temp\\ipykernel_27304\\3947983937.py:18: FutureWarning: YF.download() has changed argument auto_adjust default to True\n",
      "  stock_data = yf.download(symbol, start=start_date, end=end_date)\n",
      "[*********************100%***********************]  1 of 1 completed\n"
     ]
    },
    {
     "name": "stdout",
     "output_type": "stream",
     "text": [
      "Downloading data for SW\n"
     ]
    },
    {
     "name": "stderr",
     "output_type": "stream",
     "text": [
      "C:\\Users\\ngoph\\AppData\\Local\\Temp\\ipykernel_27304\\3947983937.py:18: FutureWarning: YF.download() has changed argument auto_adjust default to True\n",
      "  stock_data = yf.download(symbol, start=start_date, end=end_date)\n",
      "[*********************100%***********************]  1 of 1 completed\n"
     ]
    },
    {
     "name": "stdout",
     "output_type": "stream",
     "text": [
      "Downloading data for SNA\n"
     ]
    },
    {
     "name": "stderr",
     "output_type": "stream",
     "text": [
      "C:\\Users\\ngoph\\AppData\\Local\\Temp\\ipykernel_27304\\3947983937.py:18: FutureWarning: YF.download() has changed argument auto_adjust default to True\n",
      "  stock_data = yf.download(symbol, start=start_date, end=end_date)\n",
      "[*********************100%***********************]  1 of 1 completed\n"
     ]
    },
    {
     "name": "stdout",
     "output_type": "stream",
     "text": [
      "Downloading data for SOLV\n"
     ]
    },
    {
     "name": "stderr",
     "output_type": "stream",
     "text": [
      "C:\\Users\\ngoph\\AppData\\Local\\Temp\\ipykernel_27304\\3947983937.py:18: FutureWarning: YF.download() has changed argument auto_adjust default to True\n",
      "  stock_data = yf.download(symbol, start=start_date, end=end_date)\n",
      "[*********************100%***********************]  1 of 1 completed\n"
     ]
    },
    {
     "name": "stdout",
     "output_type": "stream",
     "text": [
      "Downloading data for SO\n"
     ]
    },
    {
     "name": "stderr",
     "output_type": "stream",
     "text": [
      "C:\\Users\\ngoph\\AppData\\Local\\Temp\\ipykernel_27304\\3947983937.py:18: FutureWarning: YF.download() has changed argument auto_adjust default to True\n",
      "  stock_data = yf.download(symbol, start=start_date, end=end_date)\n",
      "[*********************100%***********************]  1 of 1 completed\n"
     ]
    },
    {
     "name": "stdout",
     "output_type": "stream",
     "text": [
      "Downloading data for LUV\n"
     ]
    },
    {
     "name": "stderr",
     "output_type": "stream",
     "text": [
      "C:\\Users\\ngoph\\AppData\\Local\\Temp\\ipykernel_27304\\3947983937.py:18: FutureWarning: YF.download() has changed argument auto_adjust default to True\n",
      "  stock_data = yf.download(symbol, start=start_date, end=end_date)\n",
      "[*********************100%***********************]  1 of 1 completed\n"
     ]
    },
    {
     "name": "stdout",
     "output_type": "stream",
     "text": [
      "Downloading data for SWK\n"
     ]
    },
    {
     "name": "stderr",
     "output_type": "stream",
     "text": [
      "C:\\Users\\ngoph\\AppData\\Local\\Temp\\ipykernel_27304\\3947983937.py:18: FutureWarning: YF.download() has changed argument auto_adjust default to True\n",
      "  stock_data = yf.download(symbol, start=start_date, end=end_date)\n",
      "[*********************100%***********************]  1 of 1 completed\n"
     ]
    },
    {
     "name": "stdout",
     "output_type": "stream",
     "text": [
      "Downloading data for SBUX\n"
     ]
    },
    {
     "name": "stderr",
     "output_type": "stream",
     "text": [
      "C:\\Users\\ngoph\\AppData\\Local\\Temp\\ipykernel_27304\\3947983937.py:18: FutureWarning: YF.download() has changed argument auto_adjust default to True\n",
      "  stock_data = yf.download(symbol, start=start_date, end=end_date)\n",
      "[*********************100%***********************]  1 of 1 completed\n"
     ]
    },
    {
     "name": "stdout",
     "output_type": "stream",
     "text": [
      "Downloading data for STT\n"
     ]
    },
    {
     "name": "stderr",
     "output_type": "stream",
     "text": [
      "C:\\Users\\ngoph\\AppData\\Local\\Temp\\ipykernel_27304\\3947983937.py:18: FutureWarning: YF.download() has changed argument auto_adjust default to True\n",
      "  stock_data = yf.download(symbol, start=start_date, end=end_date)\n",
      "[*********************100%***********************]  1 of 1 completed\n"
     ]
    },
    {
     "name": "stdout",
     "output_type": "stream",
     "text": [
      "Downloading data for STLD\n"
     ]
    },
    {
     "name": "stderr",
     "output_type": "stream",
     "text": [
      "C:\\Users\\ngoph\\AppData\\Local\\Temp\\ipykernel_27304\\3947983937.py:18: FutureWarning: YF.download() has changed argument auto_adjust default to True\n",
      "  stock_data = yf.download(symbol, start=start_date, end=end_date)\n",
      "[*********************100%***********************]  1 of 1 completed\n"
     ]
    },
    {
     "name": "stdout",
     "output_type": "stream",
     "text": [
      "Downloading data for STE\n"
     ]
    },
    {
     "name": "stderr",
     "output_type": "stream",
     "text": [
      "C:\\Users\\ngoph\\AppData\\Local\\Temp\\ipykernel_27304\\3947983937.py:18: FutureWarning: YF.download() has changed argument auto_adjust default to True\n",
      "  stock_data = yf.download(symbol, start=start_date, end=end_date)\n",
      "[*********************100%***********************]  1 of 1 completed\n"
     ]
    },
    {
     "name": "stdout",
     "output_type": "stream",
     "text": [
      "Downloading data for SYK\n"
     ]
    },
    {
     "name": "stderr",
     "output_type": "stream",
     "text": [
      "C:\\Users\\ngoph\\AppData\\Local\\Temp\\ipykernel_27304\\3947983937.py:18: FutureWarning: YF.download() has changed argument auto_adjust default to True\n",
      "  stock_data = yf.download(symbol, start=start_date, end=end_date)\n",
      "[*********************100%***********************]  1 of 1 completed\n"
     ]
    },
    {
     "name": "stdout",
     "output_type": "stream",
     "text": [
      "Downloading data for SMCI\n"
     ]
    },
    {
     "name": "stderr",
     "output_type": "stream",
     "text": [
      "C:\\Users\\ngoph\\AppData\\Local\\Temp\\ipykernel_27304\\3947983937.py:18: FutureWarning: YF.download() has changed argument auto_adjust default to True\n",
      "  stock_data = yf.download(symbol, start=start_date, end=end_date)\n",
      "[*********************100%***********************]  1 of 1 completed\n"
     ]
    },
    {
     "name": "stdout",
     "output_type": "stream",
     "text": [
      "Downloading data for SYF\n"
     ]
    },
    {
     "name": "stderr",
     "output_type": "stream",
     "text": [
      "C:\\Users\\ngoph\\AppData\\Local\\Temp\\ipykernel_27304\\3947983937.py:18: FutureWarning: YF.download() has changed argument auto_adjust default to True\n",
      "  stock_data = yf.download(symbol, start=start_date, end=end_date)\n",
      "[*********************100%***********************]  1 of 1 completed\n"
     ]
    },
    {
     "name": "stdout",
     "output_type": "stream",
     "text": [
      "Downloading data for SNPS\n"
     ]
    },
    {
     "name": "stderr",
     "output_type": "stream",
     "text": [
      "C:\\Users\\ngoph\\AppData\\Local\\Temp\\ipykernel_27304\\3947983937.py:18: FutureWarning: YF.download() has changed argument auto_adjust default to True\n",
      "  stock_data = yf.download(symbol, start=start_date, end=end_date)\n",
      "[*********************100%***********************]  1 of 1 completed\n"
     ]
    },
    {
     "name": "stdout",
     "output_type": "stream",
     "text": [
      "Downloading data for SYY\n"
     ]
    },
    {
     "name": "stderr",
     "output_type": "stream",
     "text": [
      "C:\\Users\\ngoph\\AppData\\Local\\Temp\\ipykernel_27304\\3947983937.py:18: FutureWarning: YF.download() has changed argument auto_adjust default to True\n",
      "  stock_data = yf.download(symbol, start=start_date, end=end_date)\n",
      "[*********************100%***********************]  1 of 1 completed\n"
     ]
    },
    {
     "name": "stdout",
     "output_type": "stream",
     "text": [
      "Downloading data for TMUS\n"
     ]
    },
    {
     "name": "stderr",
     "output_type": "stream",
     "text": [
      "C:\\Users\\ngoph\\AppData\\Local\\Temp\\ipykernel_27304\\3947983937.py:18: FutureWarning: YF.download() has changed argument auto_adjust default to True\n",
      "  stock_data = yf.download(symbol, start=start_date, end=end_date)\n",
      "[*********************100%***********************]  1 of 1 completed\n"
     ]
    },
    {
     "name": "stdout",
     "output_type": "stream",
     "text": [
      "Downloading data for TROW\n"
     ]
    },
    {
     "name": "stderr",
     "output_type": "stream",
     "text": [
      "C:\\Users\\ngoph\\AppData\\Local\\Temp\\ipykernel_27304\\3947983937.py:18: FutureWarning: YF.download() has changed argument auto_adjust default to True\n",
      "  stock_data = yf.download(symbol, start=start_date, end=end_date)\n",
      "[*********************100%***********************]  1 of 1 completed\n"
     ]
    },
    {
     "name": "stdout",
     "output_type": "stream",
     "text": [
      "Downloading data for TTWO\n"
     ]
    },
    {
     "name": "stderr",
     "output_type": "stream",
     "text": [
      "C:\\Users\\ngoph\\AppData\\Local\\Temp\\ipykernel_27304\\3947983937.py:18: FutureWarning: YF.download() has changed argument auto_adjust default to True\n",
      "  stock_data = yf.download(symbol, start=start_date, end=end_date)\n",
      "[*********************100%***********************]  1 of 1 completed\n"
     ]
    },
    {
     "name": "stdout",
     "output_type": "stream",
     "text": [
      "Downloading data for TPR\n"
     ]
    },
    {
     "name": "stderr",
     "output_type": "stream",
     "text": [
      "C:\\Users\\ngoph\\AppData\\Local\\Temp\\ipykernel_27304\\3947983937.py:18: FutureWarning: YF.download() has changed argument auto_adjust default to True\n",
      "  stock_data = yf.download(symbol, start=start_date, end=end_date)\n",
      "[*********************100%***********************]  1 of 1 completed\n"
     ]
    },
    {
     "name": "stdout",
     "output_type": "stream",
     "text": [
      "Downloading data for TRGP\n"
     ]
    },
    {
     "name": "stderr",
     "output_type": "stream",
     "text": [
      "C:\\Users\\ngoph\\AppData\\Local\\Temp\\ipykernel_27304\\3947983937.py:18: FutureWarning: YF.download() has changed argument auto_adjust default to True\n",
      "  stock_data = yf.download(symbol, start=start_date, end=end_date)\n",
      "[*********************100%***********************]  1 of 1 completed\n"
     ]
    },
    {
     "name": "stdout",
     "output_type": "stream",
     "text": [
      "Downloading data for TGT\n"
     ]
    },
    {
     "name": "stderr",
     "output_type": "stream",
     "text": [
      "C:\\Users\\ngoph\\AppData\\Local\\Temp\\ipykernel_27304\\3947983937.py:18: FutureWarning: YF.download() has changed argument auto_adjust default to True\n",
      "  stock_data = yf.download(symbol, start=start_date, end=end_date)\n",
      "[*********************100%***********************]  1 of 1 completed\n"
     ]
    },
    {
     "name": "stdout",
     "output_type": "stream",
     "text": [
      "Downloading data for TEL\n"
     ]
    },
    {
     "name": "stderr",
     "output_type": "stream",
     "text": [
      "C:\\Users\\ngoph\\AppData\\Local\\Temp\\ipykernel_27304\\3947983937.py:18: FutureWarning: YF.download() has changed argument auto_adjust default to True\n",
      "  stock_data = yf.download(symbol, start=start_date, end=end_date)\n",
      "[*********************100%***********************]  1 of 1 completed\n"
     ]
    },
    {
     "name": "stdout",
     "output_type": "stream",
     "text": [
      "Downloading data for TDY\n"
     ]
    },
    {
     "name": "stderr",
     "output_type": "stream",
     "text": [
      "C:\\Users\\ngoph\\AppData\\Local\\Temp\\ipykernel_27304\\3947983937.py:18: FutureWarning: YF.download() has changed argument auto_adjust default to True\n",
      "  stock_data = yf.download(symbol, start=start_date, end=end_date)\n",
      "[*********************100%***********************]  1 of 1 completed\n"
     ]
    },
    {
     "name": "stdout",
     "output_type": "stream",
     "text": [
      "Downloading data for TER\n"
     ]
    },
    {
     "name": "stderr",
     "output_type": "stream",
     "text": [
      "C:\\Users\\ngoph\\AppData\\Local\\Temp\\ipykernel_27304\\3947983937.py:18: FutureWarning: YF.download() has changed argument auto_adjust default to True\n",
      "  stock_data = yf.download(symbol, start=start_date, end=end_date)\n",
      "[*********************100%***********************]  1 of 1 completed\n"
     ]
    },
    {
     "name": "stdout",
     "output_type": "stream",
     "text": [
      "Downloading data for TSLA\n"
     ]
    },
    {
     "name": "stderr",
     "output_type": "stream",
     "text": [
      "C:\\Users\\ngoph\\AppData\\Local\\Temp\\ipykernel_27304\\3947983937.py:18: FutureWarning: YF.download() has changed argument auto_adjust default to True\n",
      "  stock_data = yf.download(symbol, start=start_date, end=end_date)\n",
      "[*********************100%***********************]  1 of 1 completed\n"
     ]
    },
    {
     "name": "stdout",
     "output_type": "stream",
     "text": [
      "Downloading data for TXN\n"
     ]
    },
    {
     "name": "stderr",
     "output_type": "stream",
     "text": [
      "C:\\Users\\ngoph\\AppData\\Local\\Temp\\ipykernel_27304\\3947983937.py:18: FutureWarning: YF.download() has changed argument auto_adjust default to True\n",
      "  stock_data = yf.download(symbol, start=start_date, end=end_date)\n",
      "[*********************100%***********************]  1 of 1 completed\n"
     ]
    },
    {
     "name": "stdout",
     "output_type": "stream",
     "text": [
      "Downloading data for TPL\n"
     ]
    },
    {
     "name": "stderr",
     "output_type": "stream",
     "text": [
      "C:\\Users\\ngoph\\AppData\\Local\\Temp\\ipykernel_27304\\3947983937.py:18: FutureWarning: YF.download() has changed argument auto_adjust default to True\n",
      "  stock_data = yf.download(symbol, start=start_date, end=end_date)\n",
      "[*********************100%***********************]  1 of 1 completed\n"
     ]
    },
    {
     "name": "stdout",
     "output_type": "stream",
     "text": [
      "Downloading data for TXT\n"
     ]
    },
    {
     "name": "stderr",
     "output_type": "stream",
     "text": [
      "C:\\Users\\ngoph\\AppData\\Local\\Temp\\ipykernel_27304\\3947983937.py:18: FutureWarning: YF.download() has changed argument auto_adjust default to True\n",
      "  stock_data = yf.download(symbol, start=start_date, end=end_date)\n",
      "[*********************100%***********************]  1 of 1 completed\n"
     ]
    },
    {
     "name": "stdout",
     "output_type": "stream",
     "text": [
      "Downloading data for TMO\n"
     ]
    },
    {
     "name": "stderr",
     "output_type": "stream",
     "text": [
      "C:\\Users\\ngoph\\AppData\\Local\\Temp\\ipykernel_27304\\3947983937.py:18: FutureWarning: YF.download() has changed argument auto_adjust default to True\n",
      "  stock_data = yf.download(symbol, start=start_date, end=end_date)\n",
      "[*********************100%***********************]  1 of 1 completed\n"
     ]
    },
    {
     "name": "stdout",
     "output_type": "stream",
     "text": [
      "Downloading data for TJX\n"
     ]
    },
    {
     "name": "stderr",
     "output_type": "stream",
     "text": [
      "C:\\Users\\ngoph\\AppData\\Local\\Temp\\ipykernel_27304\\3947983937.py:18: FutureWarning: YF.download() has changed argument auto_adjust default to True\n",
      "  stock_data = yf.download(symbol, start=start_date, end=end_date)\n",
      "[*********************100%***********************]  1 of 1 completed\n"
     ]
    },
    {
     "name": "stdout",
     "output_type": "stream",
     "text": [
      "Downloading data for TKO\n"
     ]
    },
    {
     "name": "stderr",
     "output_type": "stream",
     "text": [
      "C:\\Users\\ngoph\\AppData\\Local\\Temp\\ipykernel_27304\\3947983937.py:18: FutureWarning: YF.download() has changed argument auto_adjust default to True\n",
      "  stock_data = yf.download(symbol, start=start_date, end=end_date)\n",
      "[*********************100%***********************]  1 of 1 completed\n"
     ]
    },
    {
     "name": "stdout",
     "output_type": "stream",
     "text": [
      "Downloading data for TTD\n"
     ]
    },
    {
     "name": "stderr",
     "output_type": "stream",
     "text": [
      "C:\\Users\\ngoph\\AppData\\Local\\Temp\\ipykernel_27304\\3947983937.py:18: FutureWarning: YF.download() has changed argument auto_adjust default to True\n",
      "  stock_data = yf.download(symbol, start=start_date, end=end_date)\n",
      "[*********************100%***********************]  1 of 1 completed\n"
     ]
    },
    {
     "name": "stdout",
     "output_type": "stream",
     "text": [
      "Downloading data for TSCO\n"
     ]
    },
    {
     "name": "stderr",
     "output_type": "stream",
     "text": [
      "C:\\Users\\ngoph\\AppData\\Local\\Temp\\ipykernel_27304\\3947983937.py:18: FutureWarning: YF.download() has changed argument auto_adjust default to True\n",
      "  stock_data = yf.download(symbol, start=start_date, end=end_date)\n",
      "[*********************100%***********************]  1 of 1 completed\n"
     ]
    },
    {
     "name": "stdout",
     "output_type": "stream",
     "text": [
      "Downloading data for TT\n"
     ]
    },
    {
     "name": "stderr",
     "output_type": "stream",
     "text": [
      "C:\\Users\\ngoph\\AppData\\Local\\Temp\\ipykernel_27304\\3947983937.py:18: FutureWarning: YF.download() has changed argument auto_adjust default to True\n",
      "  stock_data = yf.download(symbol, start=start_date, end=end_date)\n",
      "[*********************100%***********************]  1 of 1 completed\n"
     ]
    },
    {
     "name": "stdout",
     "output_type": "stream",
     "text": [
      "Downloading data for TDG\n"
     ]
    },
    {
     "name": "stderr",
     "output_type": "stream",
     "text": [
      "C:\\Users\\ngoph\\AppData\\Local\\Temp\\ipykernel_27304\\3947983937.py:18: FutureWarning: YF.download() has changed argument auto_adjust default to True\n",
      "  stock_data = yf.download(symbol, start=start_date, end=end_date)\n",
      "[*********************100%***********************]  1 of 1 completed\n"
     ]
    },
    {
     "name": "stdout",
     "output_type": "stream",
     "text": [
      "Downloading data for TRV\n"
     ]
    },
    {
     "name": "stderr",
     "output_type": "stream",
     "text": [
      "C:\\Users\\ngoph\\AppData\\Local\\Temp\\ipykernel_27304\\3947983937.py:18: FutureWarning: YF.download() has changed argument auto_adjust default to True\n",
      "  stock_data = yf.download(symbol, start=start_date, end=end_date)\n",
      "[*********************100%***********************]  1 of 1 completed\n"
     ]
    },
    {
     "name": "stdout",
     "output_type": "stream",
     "text": [
      "Downloading data for TRMB\n"
     ]
    },
    {
     "name": "stderr",
     "output_type": "stream",
     "text": [
      "C:\\Users\\ngoph\\AppData\\Local\\Temp\\ipykernel_27304\\3947983937.py:18: FutureWarning: YF.download() has changed argument auto_adjust default to True\n",
      "  stock_data = yf.download(symbol, start=start_date, end=end_date)\n",
      "[*********************100%***********************]  1 of 1 completed\n"
     ]
    },
    {
     "name": "stdout",
     "output_type": "stream",
     "text": [
      "Downloading data for TFC\n"
     ]
    },
    {
     "name": "stderr",
     "output_type": "stream",
     "text": [
      "C:\\Users\\ngoph\\AppData\\Local\\Temp\\ipykernel_27304\\3947983937.py:18: FutureWarning: YF.download() has changed argument auto_adjust default to True\n",
      "  stock_data = yf.download(symbol, start=start_date, end=end_date)\n",
      "[*********************100%***********************]  1 of 1 completed\n"
     ]
    },
    {
     "name": "stdout",
     "output_type": "stream",
     "text": [
      "Downloading data for TYL\n"
     ]
    },
    {
     "name": "stderr",
     "output_type": "stream",
     "text": [
      "C:\\Users\\ngoph\\AppData\\Local\\Temp\\ipykernel_27304\\3947983937.py:18: FutureWarning: YF.download() has changed argument auto_adjust default to True\n",
      "  stock_data = yf.download(symbol, start=start_date, end=end_date)\n",
      "[*********************100%***********************]  1 of 1 completed\n"
     ]
    },
    {
     "name": "stdout",
     "output_type": "stream",
     "text": [
      "Downloading data for TSN\n"
     ]
    },
    {
     "name": "stderr",
     "output_type": "stream",
     "text": [
      "C:\\Users\\ngoph\\AppData\\Local\\Temp\\ipykernel_27304\\3947983937.py:18: FutureWarning: YF.download() has changed argument auto_adjust default to True\n",
      "  stock_data = yf.download(symbol, start=start_date, end=end_date)\n",
      "[*********************100%***********************]  1 of 1 completed\n"
     ]
    },
    {
     "name": "stdout",
     "output_type": "stream",
     "text": [
      "Downloading data for USB\n"
     ]
    },
    {
     "name": "stderr",
     "output_type": "stream",
     "text": [
      "C:\\Users\\ngoph\\AppData\\Local\\Temp\\ipykernel_27304\\3947983937.py:18: FutureWarning: YF.download() has changed argument auto_adjust default to True\n",
      "  stock_data = yf.download(symbol, start=start_date, end=end_date)\n",
      "[*********************100%***********************]  1 of 1 completed\n"
     ]
    },
    {
     "name": "stdout",
     "output_type": "stream",
     "text": [
      "Downloading data for UBER\n"
     ]
    },
    {
     "name": "stderr",
     "output_type": "stream",
     "text": [
      "C:\\Users\\ngoph\\AppData\\Local\\Temp\\ipykernel_27304\\3947983937.py:18: FutureWarning: YF.download() has changed argument auto_adjust default to True\n",
      "  stock_data = yf.download(symbol, start=start_date, end=end_date)\n",
      "[*********************100%***********************]  1 of 1 completed\n"
     ]
    },
    {
     "name": "stdout",
     "output_type": "stream",
     "text": [
      "Downloading data for UDR\n"
     ]
    },
    {
     "name": "stderr",
     "output_type": "stream",
     "text": [
      "C:\\Users\\ngoph\\AppData\\Local\\Temp\\ipykernel_27304\\3947983937.py:18: FutureWarning: YF.download() has changed argument auto_adjust default to True\n",
      "  stock_data = yf.download(symbol, start=start_date, end=end_date)\n",
      "[*********************100%***********************]  1 of 1 completed\n"
     ]
    },
    {
     "name": "stdout",
     "output_type": "stream",
     "text": [
      "Downloading data for ULTA\n"
     ]
    },
    {
     "name": "stderr",
     "output_type": "stream",
     "text": [
      "C:\\Users\\ngoph\\AppData\\Local\\Temp\\ipykernel_27304\\3947983937.py:18: FutureWarning: YF.download() has changed argument auto_adjust default to True\n",
      "  stock_data = yf.download(symbol, start=start_date, end=end_date)\n",
      "[*********************100%***********************]  1 of 1 completed\n"
     ]
    },
    {
     "name": "stdout",
     "output_type": "stream",
     "text": [
      "Downloading data for UNP\n"
     ]
    },
    {
     "name": "stderr",
     "output_type": "stream",
     "text": [
      "C:\\Users\\ngoph\\AppData\\Local\\Temp\\ipykernel_27304\\3947983937.py:18: FutureWarning: YF.download() has changed argument auto_adjust default to True\n",
      "  stock_data = yf.download(symbol, start=start_date, end=end_date)\n",
      "[*********************100%***********************]  1 of 1 completed\n"
     ]
    },
    {
     "name": "stdout",
     "output_type": "stream",
     "text": [
      "Downloading data for UAL\n"
     ]
    },
    {
     "name": "stderr",
     "output_type": "stream",
     "text": [
      "C:\\Users\\ngoph\\AppData\\Local\\Temp\\ipykernel_27304\\3947983937.py:18: FutureWarning: YF.download() has changed argument auto_adjust default to True\n",
      "  stock_data = yf.download(symbol, start=start_date, end=end_date)\n",
      "[*********************100%***********************]  1 of 1 completed\n"
     ]
    },
    {
     "name": "stdout",
     "output_type": "stream",
     "text": [
      "Downloading data for UPS\n"
     ]
    },
    {
     "name": "stderr",
     "output_type": "stream",
     "text": [
      "C:\\Users\\ngoph\\AppData\\Local\\Temp\\ipykernel_27304\\3947983937.py:18: FutureWarning: YF.download() has changed argument auto_adjust default to True\n",
      "  stock_data = yf.download(symbol, start=start_date, end=end_date)\n",
      "[*********************100%***********************]  1 of 1 completed\n"
     ]
    },
    {
     "name": "stdout",
     "output_type": "stream",
     "text": [
      "Downloading data for URI\n"
     ]
    },
    {
     "name": "stderr",
     "output_type": "stream",
     "text": [
      "C:\\Users\\ngoph\\AppData\\Local\\Temp\\ipykernel_27304\\3947983937.py:18: FutureWarning: YF.download() has changed argument auto_adjust default to True\n",
      "  stock_data = yf.download(symbol, start=start_date, end=end_date)\n",
      "[*********************100%***********************]  1 of 1 completed\n"
     ]
    },
    {
     "name": "stdout",
     "output_type": "stream",
     "text": [
      "Downloading data for UNH\n"
     ]
    },
    {
     "name": "stderr",
     "output_type": "stream",
     "text": [
      "C:\\Users\\ngoph\\AppData\\Local\\Temp\\ipykernel_27304\\3947983937.py:18: FutureWarning: YF.download() has changed argument auto_adjust default to True\n",
      "  stock_data = yf.download(symbol, start=start_date, end=end_date)\n",
      "[*********************100%***********************]  1 of 1 completed\n"
     ]
    },
    {
     "name": "stdout",
     "output_type": "stream",
     "text": [
      "Downloading data for UHS\n"
     ]
    },
    {
     "name": "stderr",
     "output_type": "stream",
     "text": [
      "C:\\Users\\ngoph\\AppData\\Local\\Temp\\ipykernel_27304\\3947983937.py:18: FutureWarning: YF.download() has changed argument auto_adjust default to True\n",
      "  stock_data = yf.download(symbol, start=start_date, end=end_date)\n",
      "[*********************100%***********************]  1 of 1 completed\n"
     ]
    },
    {
     "name": "stdout",
     "output_type": "stream",
     "text": [
      "Downloading data for VLO\n"
     ]
    },
    {
     "name": "stderr",
     "output_type": "stream",
     "text": [
      "C:\\Users\\ngoph\\AppData\\Local\\Temp\\ipykernel_27304\\3947983937.py:18: FutureWarning: YF.download() has changed argument auto_adjust default to True\n",
      "  stock_data = yf.download(symbol, start=start_date, end=end_date)\n",
      "[*********************100%***********************]  1 of 1 completed\n"
     ]
    },
    {
     "name": "stdout",
     "output_type": "stream",
     "text": [
      "Downloading data for VTR\n"
     ]
    },
    {
     "name": "stderr",
     "output_type": "stream",
     "text": [
      "C:\\Users\\ngoph\\AppData\\Local\\Temp\\ipykernel_27304\\3947983937.py:18: FutureWarning: YF.download() has changed argument auto_adjust default to True\n",
      "  stock_data = yf.download(symbol, start=start_date, end=end_date)\n",
      "[*********************100%***********************]  1 of 1 completed\n"
     ]
    },
    {
     "name": "stdout",
     "output_type": "stream",
     "text": [
      "Downloading data for VLTO\n"
     ]
    },
    {
     "name": "stderr",
     "output_type": "stream",
     "text": [
      "C:\\Users\\ngoph\\AppData\\Local\\Temp\\ipykernel_27304\\3947983937.py:18: FutureWarning: YF.download() has changed argument auto_adjust default to True\n",
      "  stock_data = yf.download(symbol, start=start_date, end=end_date)\n",
      "[*********************100%***********************]  1 of 1 completed\n"
     ]
    },
    {
     "name": "stdout",
     "output_type": "stream",
     "text": [
      "Downloading data for VRSN\n"
     ]
    },
    {
     "name": "stderr",
     "output_type": "stream",
     "text": [
      "C:\\Users\\ngoph\\AppData\\Local\\Temp\\ipykernel_27304\\3947983937.py:18: FutureWarning: YF.download() has changed argument auto_adjust default to True\n",
      "  stock_data = yf.download(symbol, start=start_date, end=end_date)\n",
      "[*********************100%***********************]  1 of 1 completed\n"
     ]
    },
    {
     "name": "stdout",
     "output_type": "stream",
     "text": [
      "Downloading data for VRSK\n"
     ]
    },
    {
     "name": "stderr",
     "output_type": "stream",
     "text": [
      "C:\\Users\\ngoph\\AppData\\Local\\Temp\\ipykernel_27304\\3947983937.py:18: FutureWarning: YF.download() has changed argument auto_adjust default to True\n",
      "  stock_data = yf.download(symbol, start=start_date, end=end_date)\n",
      "[*********************100%***********************]  1 of 1 completed\n"
     ]
    },
    {
     "name": "stdout",
     "output_type": "stream",
     "text": [
      "Downloading data for VZ\n"
     ]
    },
    {
     "name": "stderr",
     "output_type": "stream",
     "text": [
      "C:\\Users\\ngoph\\AppData\\Local\\Temp\\ipykernel_27304\\3947983937.py:18: FutureWarning: YF.download() has changed argument auto_adjust default to True\n",
      "  stock_data = yf.download(symbol, start=start_date, end=end_date)\n",
      "[*********************100%***********************]  1 of 1 completed\n"
     ]
    },
    {
     "name": "stdout",
     "output_type": "stream",
     "text": [
      "Downloading data for VRTX\n"
     ]
    },
    {
     "name": "stderr",
     "output_type": "stream",
     "text": [
      "C:\\Users\\ngoph\\AppData\\Local\\Temp\\ipykernel_27304\\3947983937.py:18: FutureWarning: YF.download() has changed argument auto_adjust default to True\n",
      "  stock_data = yf.download(symbol, start=start_date, end=end_date)\n",
      "[*********************100%***********************]  1 of 1 completed\n"
     ]
    },
    {
     "name": "stdout",
     "output_type": "stream",
     "text": [
      "Downloading data for VTRS\n"
     ]
    },
    {
     "name": "stderr",
     "output_type": "stream",
     "text": [
      "C:\\Users\\ngoph\\AppData\\Local\\Temp\\ipykernel_27304\\3947983937.py:18: FutureWarning: YF.download() has changed argument auto_adjust default to True\n",
      "  stock_data = yf.download(symbol, start=start_date, end=end_date)\n",
      "[*********************100%***********************]  1 of 1 completed\n"
     ]
    },
    {
     "name": "stdout",
     "output_type": "stream",
     "text": [
      "Downloading data for VICI\n"
     ]
    },
    {
     "name": "stderr",
     "output_type": "stream",
     "text": [
      "C:\\Users\\ngoph\\AppData\\Local\\Temp\\ipykernel_27304\\3947983937.py:18: FutureWarning: YF.download() has changed argument auto_adjust default to True\n",
      "  stock_data = yf.download(symbol, start=start_date, end=end_date)\n",
      "[*********************100%***********************]  1 of 1 completed\n"
     ]
    },
    {
     "name": "stdout",
     "output_type": "stream",
     "text": [
      "Downloading data for V\n"
     ]
    },
    {
     "name": "stderr",
     "output_type": "stream",
     "text": [
      "C:\\Users\\ngoph\\AppData\\Local\\Temp\\ipykernel_27304\\3947983937.py:18: FutureWarning: YF.download() has changed argument auto_adjust default to True\n",
      "  stock_data = yf.download(symbol, start=start_date, end=end_date)\n",
      "[*********************100%***********************]  1 of 1 completed\n"
     ]
    },
    {
     "name": "stdout",
     "output_type": "stream",
     "text": [
      "Downloading data for VST\n"
     ]
    },
    {
     "name": "stderr",
     "output_type": "stream",
     "text": [
      "C:\\Users\\ngoph\\AppData\\Local\\Temp\\ipykernel_27304\\3947983937.py:18: FutureWarning: YF.download() has changed argument auto_adjust default to True\n",
      "  stock_data = yf.download(symbol, start=start_date, end=end_date)\n",
      "[*********************100%***********************]  1 of 1 completed\n"
     ]
    },
    {
     "name": "stdout",
     "output_type": "stream",
     "text": [
      "Downloading data for VMC\n"
     ]
    },
    {
     "name": "stderr",
     "output_type": "stream",
     "text": [
      "C:\\Users\\ngoph\\AppData\\Local\\Temp\\ipykernel_27304\\3947983937.py:18: FutureWarning: YF.download() has changed argument auto_adjust default to True\n",
      "  stock_data = yf.download(symbol, start=start_date, end=end_date)\n",
      "[*********************100%***********************]  1 of 1 completed\n"
     ]
    },
    {
     "name": "stdout",
     "output_type": "stream",
     "text": [
      "Downloading data for WRB\n"
     ]
    },
    {
     "name": "stderr",
     "output_type": "stream",
     "text": [
      "C:\\Users\\ngoph\\AppData\\Local\\Temp\\ipykernel_27304\\3947983937.py:18: FutureWarning: YF.download() has changed argument auto_adjust default to True\n",
      "  stock_data = yf.download(symbol, start=start_date, end=end_date)\n",
      "[*********************100%***********************]  1 of 1 completed\n"
     ]
    },
    {
     "name": "stdout",
     "output_type": "stream",
     "text": [
      "Downloading data for GWW\n"
     ]
    },
    {
     "name": "stderr",
     "output_type": "stream",
     "text": [
      "C:\\Users\\ngoph\\AppData\\Local\\Temp\\ipykernel_27304\\3947983937.py:18: FutureWarning: YF.download() has changed argument auto_adjust default to True\n",
      "  stock_data = yf.download(symbol, start=start_date, end=end_date)\n",
      "[*********************100%***********************]  1 of 1 completed\n"
     ]
    },
    {
     "name": "stdout",
     "output_type": "stream",
     "text": [
      "Downloading data for WAB\n"
     ]
    },
    {
     "name": "stderr",
     "output_type": "stream",
     "text": [
      "C:\\Users\\ngoph\\AppData\\Local\\Temp\\ipykernel_27304\\3947983937.py:18: FutureWarning: YF.download() has changed argument auto_adjust default to True\n",
      "  stock_data = yf.download(symbol, start=start_date, end=end_date)\n",
      "[*********************100%***********************]  1 of 1 completed\n"
     ]
    },
    {
     "name": "stdout",
     "output_type": "stream",
     "text": [
      "Downloading data for WBA\n"
     ]
    },
    {
     "name": "stderr",
     "output_type": "stream",
     "text": [
      "C:\\Users\\ngoph\\AppData\\Local\\Temp\\ipykernel_27304\\3947983937.py:18: FutureWarning: YF.download() has changed argument auto_adjust default to True\n",
      "  stock_data = yf.download(symbol, start=start_date, end=end_date)\n",
      "[*********************100%***********************]  1 of 1 completed\n"
     ]
    },
    {
     "name": "stdout",
     "output_type": "stream",
     "text": [
      "Downloading data for WMT\n"
     ]
    },
    {
     "name": "stderr",
     "output_type": "stream",
     "text": [
      "C:\\Users\\ngoph\\AppData\\Local\\Temp\\ipykernel_27304\\3947983937.py:18: FutureWarning: YF.download() has changed argument auto_adjust default to True\n",
      "  stock_data = yf.download(symbol, start=start_date, end=end_date)\n",
      "[*********************100%***********************]  1 of 1 completed\n"
     ]
    },
    {
     "name": "stdout",
     "output_type": "stream",
     "text": [
      "Downloading data for DIS\n"
     ]
    },
    {
     "name": "stderr",
     "output_type": "stream",
     "text": [
      "C:\\Users\\ngoph\\AppData\\Local\\Temp\\ipykernel_27304\\3947983937.py:18: FutureWarning: YF.download() has changed argument auto_adjust default to True\n",
      "  stock_data = yf.download(symbol, start=start_date, end=end_date)\n",
      "[*********************100%***********************]  1 of 1 completed\n"
     ]
    },
    {
     "name": "stdout",
     "output_type": "stream",
     "text": [
      "Downloading data for WBD\n"
     ]
    },
    {
     "name": "stderr",
     "output_type": "stream",
     "text": [
      "C:\\Users\\ngoph\\AppData\\Local\\Temp\\ipykernel_27304\\3947983937.py:18: FutureWarning: YF.download() has changed argument auto_adjust default to True\n",
      "  stock_data = yf.download(symbol, start=start_date, end=end_date)\n",
      "[*********************100%***********************]  1 of 1 completed\n"
     ]
    },
    {
     "name": "stdout",
     "output_type": "stream",
     "text": [
      "Downloading data for WM\n"
     ]
    },
    {
     "name": "stderr",
     "output_type": "stream",
     "text": [
      "C:\\Users\\ngoph\\AppData\\Local\\Temp\\ipykernel_27304\\3947983937.py:18: FutureWarning: YF.download() has changed argument auto_adjust default to True\n",
      "  stock_data = yf.download(symbol, start=start_date, end=end_date)\n",
      "[*********************100%***********************]  1 of 1 completed\n"
     ]
    },
    {
     "name": "stdout",
     "output_type": "stream",
     "text": [
      "Downloading data for WAT\n"
     ]
    },
    {
     "name": "stderr",
     "output_type": "stream",
     "text": [
      "C:\\Users\\ngoph\\AppData\\Local\\Temp\\ipykernel_27304\\3947983937.py:18: FutureWarning: YF.download() has changed argument auto_adjust default to True\n",
      "  stock_data = yf.download(symbol, start=start_date, end=end_date)\n",
      "[*********************100%***********************]  1 of 1 completed\n"
     ]
    },
    {
     "name": "stdout",
     "output_type": "stream",
     "text": [
      "Downloading data for WEC\n"
     ]
    },
    {
     "name": "stderr",
     "output_type": "stream",
     "text": [
      "C:\\Users\\ngoph\\AppData\\Local\\Temp\\ipykernel_27304\\3947983937.py:18: FutureWarning: YF.download() has changed argument auto_adjust default to True\n",
      "  stock_data = yf.download(symbol, start=start_date, end=end_date)\n",
      "[*********************100%***********************]  1 of 1 completed\n"
     ]
    },
    {
     "name": "stdout",
     "output_type": "stream",
     "text": [
      "Downloading data for WFC\n"
     ]
    },
    {
     "name": "stderr",
     "output_type": "stream",
     "text": [
      "C:\\Users\\ngoph\\AppData\\Local\\Temp\\ipykernel_27304\\3947983937.py:18: FutureWarning: YF.download() has changed argument auto_adjust default to True\n",
      "  stock_data = yf.download(symbol, start=start_date, end=end_date)\n",
      "[*********************100%***********************]  1 of 1 completed\n"
     ]
    },
    {
     "name": "stdout",
     "output_type": "stream",
     "text": [
      "Downloading data for WELL\n"
     ]
    },
    {
     "name": "stderr",
     "output_type": "stream",
     "text": [
      "C:\\Users\\ngoph\\AppData\\Local\\Temp\\ipykernel_27304\\3947983937.py:18: FutureWarning: YF.download() has changed argument auto_adjust default to True\n",
      "  stock_data = yf.download(symbol, start=start_date, end=end_date)\n",
      "[*********************100%***********************]  1 of 1 completed\n"
     ]
    },
    {
     "name": "stdout",
     "output_type": "stream",
     "text": [
      "Downloading data for WST\n"
     ]
    },
    {
     "name": "stderr",
     "output_type": "stream",
     "text": [
      "C:\\Users\\ngoph\\AppData\\Local\\Temp\\ipykernel_27304\\3947983937.py:18: FutureWarning: YF.download() has changed argument auto_adjust default to True\n",
      "  stock_data = yf.download(symbol, start=start_date, end=end_date)\n",
      "[*********************100%***********************]  1 of 1 completed\n"
     ]
    },
    {
     "name": "stdout",
     "output_type": "stream",
     "text": [
      "Downloading data for WDC\n"
     ]
    },
    {
     "name": "stderr",
     "output_type": "stream",
     "text": [
      "C:\\Users\\ngoph\\AppData\\Local\\Temp\\ipykernel_27304\\3947983937.py:18: FutureWarning: YF.download() has changed argument auto_adjust default to True\n",
      "  stock_data = yf.download(symbol, start=start_date, end=end_date)\n",
      "[*********************100%***********************]  1 of 1 completed\n"
     ]
    },
    {
     "name": "stdout",
     "output_type": "stream",
     "text": [
      "Downloading data for WY\n"
     ]
    },
    {
     "name": "stderr",
     "output_type": "stream",
     "text": [
      "C:\\Users\\ngoph\\AppData\\Local\\Temp\\ipykernel_27304\\3947983937.py:18: FutureWarning: YF.download() has changed argument auto_adjust default to True\n",
      "  stock_data = yf.download(symbol, start=start_date, end=end_date)\n",
      "[*********************100%***********************]  1 of 1 completed\n"
     ]
    },
    {
     "name": "stdout",
     "output_type": "stream",
     "text": [
      "Downloading data for WSM\n"
     ]
    },
    {
     "name": "stderr",
     "output_type": "stream",
     "text": [
      "C:\\Users\\ngoph\\AppData\\Local\\Temp\\ipykernel_27304\\3947983937.py:18: FutureWarning: YF.download() has changed argument auto_adjust default to True\n",
      "  stock_data = yf.download(symbol, start=start_date, end=end_date)\n",
      "[*********************100%***********************]  1 of 1 completed\n"
     ]
    },
    {
     "name": "stdout",
     "output_type": "stream",
     "text": [
      "Downloading data for WMB\n"
     ]
    },
    {
     "name": "stderr",
     "output_type": "stream",
     "text": [
      "C:\\Users\\ngoph\\AppData\\Local\\Temp\\ipykernel_27304\\3947983937.py:18: FutureWarning: YF.download() has changed argument auto_adjust default to True\n",
      "  stock_data = yf.download(symbol, start=start_date, end=end_date)\n",
      "[*********************100%***********************]  1 of 1 completed\n"
     ]
    },
    {
     "name": "stdout",
     "output_type": "stream",
     "text": [
      "Downloading data for WTW\n"
     ]
    },
    {
     "name": "stderr",
     "output_type": "stream",
     "text": [
      "C:\\Users\\ngoph\\AppData\\Local\\Temp\\ipykernel_27304\\3947983937.py:18: FutureWarning: YF.download() has changed argument auto_adjust default to True\n",
      "  stock_data = yf.download(symbol, start=start_date, end=end_date)\n",
      "[*********************100%***********************]  1 of 1 completed\n"
     ]
    },
    {
     "name": "stdout",
     "output_type": "stream",
     "text": [
      "Downloading data for WDAY\n"
     ]
    },
    {
     "name": "stderr",
     "output_type": "stream",
     "text": [
      "C:\\Users\\ngoph\\AppData\\Local\\Temp\\ipykernel_27304\\3947983937.py:18: FutureWarning: YF.download() has changed argument auto_adjust default to True\n",
      "  stock_data = yf.download(symbol, start=start_date, end=end_date)\n",
      "[*********************100%***********************]  1 of 1 completed\n"
     ]
    },
    {
     "name": "stdout",
     "output_type": "stream",
     "text": [
      "Downloading data for WYNN\n"
     ]
    },
    {
     "name": "stderr",
     "output_type": "stream",
     "text": [
      "C:\\Users\\ngoph\\AppData\\Local\\Temp\\ipykernel_27304\\3947983937.py:18: FutureWarning: YF.download() has changed argument auto_adjust default to True\n",
      "  stock_data = yf.download(symbol, start=start_date, end=end_date)\n",
      "[*********************100%***********************]  1 of 1 completed\n"
     ]
    },
    {
     "name": "stdout",
     "output_type": "stream",
     "text": [
      "Downloading data for XEL\n"
     ]
    },
    {
     "name": "stderr",
     "output_type": "stream",
     "text": [
      "C:\\Users\\ngoph\\AppData\\Local\\Temp\\ipykernel_27304\\3947983937.py:18: FutureWarning: YF.download() has changed argument auto_adjust default to True\n",
      "  stock_data = yf.download(symbol, start=start_date, end=end_date)\n",
      "[*********************100%***********************]  1 of 1 completed\n"
     ]
    },
    {
     "name": "stdout",
     "output_type": "stream",
     "text": [
      "Downloading data for XYL\n"
     ]
    },
    {
     "name": "stderr",
     "output_type": "stream",
     "text": [
      "C:\\Users\\ngoph\\AppData\\Local\\Temp\\ipykernel_27304\\3947983937.py:18: FutureWarning: YF.download() has changed argument auto_adjust default to True\n",
      "  stock_data = yf.download(symbol, start=start_date, end=end_date)\n",
      "[*********************100%***********************]  1 of 1 completed\n"
     ]
    },
    {
     "name": "stdout",
     "output_type": "stream",
     "text": [
      "Downloading data for YUM\n"
     ]
    },
    {
     "name": "stderr",
     "output_type": "stream",
     "text": [
      "C:\\Users\\ngoph\\AppData\\Local\\Temp\\ipykernel_27304\\3947983937.py:18: FutureWarning: YF.download() has changed argument auto_adjust default to True\n",
      "  stock_data = yf.download(symbol, start=start_date, end=end_date)\n",
      "[*********************100%***********************]  1 of 1 completed\n"
     ]
    },
    {
     "name": "stdout",
     "output_type": "stream",
     "text": [
      "Downloading data for ZBRA\n"
     ]
    },
    {
     "name": "stderr",
     "output_type": "stream",
     "text": [
      "C:\\Users\\ngoph\\AppData\\Local\\Temp\\ipykernel_27304\\3947983937.py:18: FutureWarning: YF.download() has changed argument auto_adjust default to True\n",
      "  stock_data = yf.download(symbol, start=start_date, end=end_date)\n",
      "[*********************100%***********************]  1 of 1 completed\n"
     ]
    },
    {
     "name": "stdout",
     "output_type": "stream",
     "text": [
      "Downloading data for ZBH\n"
     ]
    },
    {
     "name": "stderr",
     "output_type": "stream",
     "text": [
      "C:\\Users\\ngoph\\AppData\\Local\\Temp\\ipykernel_27304\\3947983937.py:18: FutureWarning: YF.download() has changed argument auto_adjust default to True\n",
      "  stock_data = yf.download(symbol, start=start_date, end=end_date)\n",
      "[*********************100%***********************]  1 of 1 completed\n"
     ]
    },
    {
     "name": "stdout",
     "output_type": "stream",
     "text": [
      "Downloading data for ZTS\n"
     ]
    },
    {
     "name": "stderr",
     "output_type": "stream",
     "text": [
      "C:\\Users\\ngoph\\AppData\\Local\\Temp\\ipykernel_27304\\3947983937.py:18: FutureWarning: YF.download() has changed argument auto_adjust default to True\n",
      "  stock_data = yf.download(symbol, start=start_date, end=end_date)\n",
      "[*********************100%***********************]  1 of 1 completed\n"
     ]
    },
    {
     "data": {
      "application/vnd.microsoft.datawrangler.viewer.v0+json": {
       "columns": [
        {
         "name": "Date",
         "rawType": "datetime64[ns]",
         "type": "datetime"
        },
        {
         "name": "('Close', 'MMM')",
         "rawType": "float64",
         "type": "float"
        },
        {
         "name": "('High', 'MMM')",
         "rawType": "float64",
         "type": "float"
        },
        {
         "name": "('Low', 'MMM')",
         "rawType": "float64",
         "type": "float"
        },
        {
         "name": "('Open', 'MMM')",
         "rawType": "float64",
         "type": "float"
        },
        {
         "name": "('Volume', 'MMM')",
         "rawType": "int64",
         "type": "integer"
        }
       ],
       "ref": "11a88b60-a24a-44a4-979f-9b6754bfd616",
       "rows": [
        [
         "2015-01-02 00:00:00",
         "96.967529296875",
         "97.57038966018906",
         "96.18143027524424",
         "97.35170702781839",
         "2531214"
        ],
        [
         "2015-01-05 00:00:00",
         "94.78063201904297",
         "96.7192748923118",
         "94.6151477177166",
         "96.34100811071784",
         "4416708"
        ],
        [
         "2015-01-06 00:00:00",
         "93.7699203491211",
         "95.37757271856516",
         "93.23206951380318",
         "95.05250432004165",
         "4224272"
        ],
        [
         "2015-01-07 00:00:00",
         "94.44964599609375",
         "94.733348758952",
         "93.94133892059776",
         "94.50874444631427",
         "3685235"
        ],
        [
         "2015-01-08 00:00:00",
         "96.71334838867188",
         "96.74881392739628",
         "94.87519152075176",
         "94.95202273496525",
         "3758908"
        ]
       ],
       "shape": {
        "columns": 5,
        "rows": 5
       }
      },
      "text/html": [
       "<div>\n",
       "<style scoped>\n",
       "    .dataframe tbody tr th:only-of-type {\n",
       "        vertical-align: middle;\n",
       "    }\n",
       "\n",
       "    .dataframe tbody tr th {\n",
       "        vertical-align: top;\n",
       "    }\n",
       "\n",
       "    .dataframe thead tr th {\n",
       "        text-align: left;\n",
       "    }\n",
       "\n",
       "    .dataframe thead tr:last-of-type th {\n",
       "        text-align: right;\n",
       "    }\n",
       "</style>\n",
       "<table border=\"1\" class=\"dataframe\">\n",
       "  <thead>\n",
       "    <tr>\n",
       "      <th>Price</th>\n",
       "      <th>Close</th>\n",
       "      <th>High</th>\n",
       "      <th>Low</th>\n",
       "      <th>Open</th>\n",
       "      <th>Volume</th>\n",
       "    </tr>\n",
       "    <tr>\n",
       "      <th>Ticker</th>\n",
       "      <th>MMM</th>\n",
       "      <th>MMM</th>\n",
       "      <th>MMM</th>\n",
       "      <th>MMM</th>\n",
       "      <th>MMM</th>\n",
       "    </tr>\n",
       "    <tr>\n",
       "      <th>Date</th>\n",
       "      <th></th>\n",
       "      <th></th>\n",
       "      <th></th>\n",
       "      <th></th>\n",
       "      <th></th>\n",
       "    </tr>\n",
       "  </thead>\n",
       "  <tbody>\n",
       "    <tr>\n",
       "      <th>2015-01-02</th>\n",
       "      <td>96.967529</td>\n",
       "      <td>97.570390</td>\n",
       "      <td>96.181430</td>\n",
       "      <td>97.351707</td>\n",
       "      <td>2531214</td>\n",
       "    </tr>\n",
       "    <tr>\n",
       "      <th>2015-01-05</th>\n",
       "      <td>94.780632</td>\n",
       "      <td>96.719275</td>\n",
       "      <td>94.615148</td>\n",
       "      <td>96.341008</td>\n",
       "      <td>4416708</td>\n",
       "    </tr>\n",
       "    <tr>\n",
       "      <th>2015-01-06</th>\n",
       "      <td>93.769920</td>\n",
       "      <td>95.377573</td>\n",
       "      <td>93.232070</td>\n",
       "      <td>95.052504</td>\n",
       "      <td>4224272</td>\n",
       "    </tr>\n",
       "    <tr>\n",
       "      <th>2015-01-07</th>\n",
       "      <td>94.449646</td>\n",
       "      <td>94.733349</td>\n",
       "      <td>93.941339</td>\n",
       "      <td>94.508744</td>\n",
       "      <td>3685235</td>\n",
       "    </tr>\n",
       "    <tr>\n",
       "      <th>2015-01-08</th>\n",
       "      <td>96.713348</td>\n",
       "      <td>96.748814</td>\n",
       "      <td>94.875192</td>\n",
       "      <td>94.952023</td>\n",
       "      <td>3758908</td>\n",
       "    </tr>\n",
       "  </tbody>\n",
       "</table>\n",
       "</div>"
      ],
      "text/plain": [
       "Price           Close       High        Low       Open   Volume\n",
       "Ticker            MMM        MMM        MMM        MMM      MMM\n",
       "Date                                                           \n",
       "2015-01-02  96.967529  97.570390  96.181430  97.351707  2531214\n",
       "2015-01-05  94.780632  96.719275  94.615148  96.341008  4416708\n",
       "2015-01-06  93.769920  95.377573  93.232070  95.052504  4224272\n",
       "2015-01-07  94.449646  94.733349  93.941339  94.508744  3685235\n",
       "2015-01-08  96.713348  96.748814  94.875192  94.952023  3758908"
      ]
     },
     "execution_count": 3,
     "metadata": {},
     "output_type": "execute_result"
    }
   ],
   "source": [
    "import yfinance as yf\n",
    "import pandas as pd\n",
    "import pandas_datareader as pdr\n",
    "import time\n",
    "\n",
    "# Get S&P 500 companies list\n",
    "def get_sp500_symbols():\n",
    "    payload = pd.read_html('https://en.wikipedia.org/wiki/List_of_S%26P_500_companies')\n",
    "    df = payload[0]\n",
    "    return df['Symbol'].tolist()\n",
    "\n",
    "# Download data for each company\n",
    "def download_stock_data(symbols, start_date, end_date):\n",
    "    all_data = {}\n",
    "    for symbol in symbols:\n",
    "        try:\n",
    "            print(f\"Downloading data for {symbol}\")\n",
    "            stock_data = yf.download(symbol, start=start_date, end=end_date)\n",
    "            all_data[symbol] = stock_data\n",
    "            # Sleep to avoid hitting rate limits\n",
    "            time.sleep(1)\n",
    "        except Exception as e:\n",
    "            print(f\"Error downloading {symbol}: {e}\")\n",
    "    return all_data\n",
    "\n",
    "# Get symbols and download data\n",
    "symbols = get_sp500_symbols()\n",
    "start_date = \"2015-01-01\"\n",
    "end_date = \"2025-01-01\"\n",
    "stock_data = download_stock_data(symbols, start_date, end_date)\n",
    "\n",
    "# Save data\n",
    "for symbol, data in stock_data.items():\n",
    "    data.to_csv(f'../data/raw/{symbol}_data.csv')\n",
    "\n",
    "# Show first company's data as example\n",
    "list(stock_data.values())[0].head()"
   ]
  },
  {
   "cell_type": "code",
   "execution_count": 4,
   "metadata": {},
   "outputs": [
    {
     "data": {
      "application/vnd.microsoft.datawrangler.viewer.v0+json": {
       "columns": [
        {
         "name": "Date",
         "rawType": "datetime64[ns]",
         "type": "datetime"
        },
        {
         "name": "MMM",
         "rawType": "float64",
         "type": "float"
        }
       ],
       "ref": "5cda501c-f151-4c26-8aba-dfdc14b20e65",
       "rows": [
        [
         "2015-01-05 00:00:00",
         "-0.022552882327615542"
        ],
        [
         "2015-01-06 00:00:00",
         "-0.01066369413657009"
        ],
        [
         "2015-01-07 00:00:00",
         "0.007248866634864681"
        ],
        [
         "2015-01-08 00:00:00",
         "0.023967293563723402"
        ],
        [
         "2015-01-09 00:00:00",
         "-0.012283838676117487"
        ]
       ],
       "shape": {
        "columns": 1,
        "rows": 5
       }
      },
      "text/html": [
       "<div>\n",
       "<style scoped>\n",
       "    .dataframe tbody tr th:only-of-type {\n",
       "        vertical-align: middle;\n",
       "    }\n",
       "\n",
       "    .dataframe tbody tr th {\n",
       "        vertical-align: top;\n",
       "    }\n",
       "\n",
       "    .dataframe thead th {\n",
       "        text-align: right;\n",
       "    }\n",
       "</style>\n",
       "<table border=\"1\" class=\"dataframe\">\n",
       "  <thead>\n",
       "    <tr style=\"text-align: right;\">\n",
       "      <th>Ticker</th>\n",
       "      <th>MMM</th>\n",
       "    </tr>\n",
       "    <tr>\n",
       "      <th>Date</th>\n",
       "      <th></th>\n",
       "    </tr>\n",
       "  </thead>\n",
       "  <tbody>\n",
       "    <tr>\n",
       "      <th>2015-01-05</th>\n",
       "      <td>-0.022553</td>\n",
       "    </tr>\n",
       "    <tr>\n",
       "      <th>2015-01-06</th>\n",
       "      <td>-0.010664</td>\n",
       "    </tr>\n",
       "    <tr>\n",
       "      <th>2015-01-07</th>\n",
       "      <td>0.007249</td>\n",
       "    </tr>\n",
       "    <tr>\n",
       "      <th>2015-01-08</th>\n",
       "      <td>0.023967</td>\n",
       "    </tr>\n",
       "    <tr>\n",
       "      <th>2015-01-09</th>\n",
       "      <td>-0.012284</td>\n",
       "    </tr>\n",
       "  </tbody>\n",
       "</table>\n",
       "</div>"
      ],
      "text/plain": [
       "Ticker           MMM\n",
       "Date                \n",
       "2015-01-05 -0.022553\n",
       "2015-01-06 -0.010664\n",
       "2015-01-07  0.007249\n",
       "2015-01-08  0.023967\n",
       "2015-01-09 -0.012284"
      ]
     },
     "execution_count": 4,
     "metadata": {},
     "output_type": "execute_result"
    }
   ],
   "source": [
    "# Calculate daily returns for each stock\n",
    "returns_data = {}\n",
    "for symbol, data in stock_data.items():\n",
    "    try:\n",
    "        # Calculate daily returns using pct_change()\n",
    "        returns = data['Close'].pct_change()\n",
    "        # Drop the first row (NaN due to pct_change)\n",
    "        returns = returns.dropna()\n",
    "        returns_data[symbol] = returns\n",
    "        # Save returns to CSV\n",
    "        returns.to_csv(f'../data/processed/{symbol}_returns.csv')\n",
    "    except Exception as e:\n",
    "        print(f\"Error calculating returns for {symbol}: {e}\")\n",
    "\n",
    "# Show example of returns for the first company\n",
    "list(returns_data.values())[0].head()"
   ]
  },
  {
   "cell_type": "code",
   "execution_count": null,
   "metadata": {},
   "outputs": [],
   "source": []
  }
 ],
 "metadata": {
  "kernelspec": {
   "display_name": "base",
   "language": "python",
   "name": "python3"
  },
  "language_info": {
   "codemirror_mode": {
    "name": "ipython",
    "version": 3
   },
   "file_extension": ".py",
   "mimetype": "text/x-python",
   "name": "python",
   "nbconvert_exporter": "python",
   "pygments_lexer": "ipython3",
   "version": "3.12.7"
  }
 },
 "nbformat": 4,
 "nbformat_minor": 4
}
